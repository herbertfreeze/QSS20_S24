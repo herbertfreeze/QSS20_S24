{
 "cells": [
  {
   "cell_type": "code",
   "execution_count": 1,
   "metadata": {},
   "outputs": [],
   "source": [
    "## imports\n",
    "import pandas as pd\n",
    "import numpy as np\n",
    "import re\n",
    "import requests\n",
    "import yaml\n",
    "\n",
    "\n",
    "## repeated printouts\n",
    "from IPython.core.interactiveshell import InteractiveShell\n",
    "InteractiveShell.ast_node_interactivity = \"all\""
   ]
  },
  {
   "cell_type": "markdown",
   "metadata": {},
   "source": [
    "# 1. Example 1: no credentials; no wrapper\n",
    "\n",
    "Site: National Assessment of Education Progress (NAEP)\n",
    "\n",
    "Documentation: https://www.nationsreportcard.gov/api_documentation.aspx\n",
    "\n",
    "Base link: https://www.nationsreportcard.gov/DataService/GetAdhocData.aspx "
   ]
  },
  {
   "cell_type": "markdown",
   "metadata": {},
   "source": [
    "## 1.1 Query to pull some data"
   ]
  },
  {
   "cell_type": "code",
   "execution_count": 2,
   "metadata": {},
   "outputs": [
    {
     "data": {
      "text/plain": [
       "'https://www.nationsreportcard.gov/Dataservice/GetAdhocData.aspx?type=data&subject=writing&grade=8&subscale=WRIRP&variable=GENDER&jurisdiction=NP&stattype=MN:MN&Year=2011'"
      ]
     },
     "execution_count": 2,
     "metadata": {},
     "output_type": "execute_result"
    }
   ],
   "source": [
    "## using their example query of 2011 writing scores separated by gender\n",
    "## based on here - https://stackoverflow.com/questions/40836749/pythonic-way-of-writing-a-single-line-long-string\n",
    "## using the ( ) syntax to formulate a long\n",
    "## string without linebreaks added\n",
    "example_naep_query = (\n",
    "'https://www.nationsreportcard.gov/'\n",
    "'Dataservice/GetAdhocData.aspx?'\n",
    "'type=data&subject=writing&grade=8&'\n",
    "'subscale=WRIRP&variable=GENDER&jurisdiction=NP&stattype=MN:MN&Year=2011')\n",
    "\n",
    "\n",
    "example_naep_query\n"
   ]
  },
  {
   "cell_type": "code",
   "execution_count": 3,
   "metadata": {},
   "outputs": [
    {
     "data": {
      "text/plain": [
       "<Response [200]>"
      ]
     },
     "execution_count": 3,
     "metadata": {},
     "output_type": "execute_result"
    },
    {
     "name": "stdout",
     "output_type": "stream",
     "text": [
      "<class 'requests.models.Response'>\n"
     ]
    },
    {
     "data": {
      "text/plain": [
       "{'status': 200,\n",
       " 'result': [{'year': 2011,\n",
       "   'sample': 'R3',\n",
       "   'yearSampleLabel': '2011',\n",
       "   'Cohort': 2,\n",
       "   'CohortLabel': 'Grade 8',\n",
       "   'stattype': 'MN:MN',\n",
       "   'subject': 'WRI',\n",
       "   'grade': 8,\n",
       "   'scale': 'WRIRP',\n",
       "   'jurisdiction': 'NP',\n",
       "   'jurisLabel': 'National public',\n",
       "   'variable': 'GENDER',\n",
       "   'variableLabel': 'Gender',\n",
       "   'varValue': '1',\n",
       "   'varValueLabel': 'Male',\n",
       "   'value': 139.099504632971,\n",
       "   'isStatDisplayable': 1,\n",
       "   'errorFlag': 0},\n",
       "  {'year': 2011,\n",
       "   'sample': 'R3',\n",
       "   'yearSampleLabel': '2011',\n",
       "   'Cohort': 2,\n",
       "   'CohortLabel': 'Grade 8',\n",
       "   'stattype': 'MN:MN',\n",
       "   'subject': 'WRI',\n",
       "   'grade': 8,\n",
       "   'scale': 'WRIRP',\n",
       "   'jurisdiction': 'NP',\n",
       "   'jurisLabel': 'National public',\n",
       "   'variable': 'GENDER',\n",
       "   'variableLabel': 'Gender',\n",
       "   'varValue': '2',\n",
       "   'varValueLabel': 'Female',\n",
       "   'value': 158.567104984955,\n",
       "   'isStatDisplayable': 1,\n",
       "   'errorFlag': 0}]}"
      ]
     },
     "execution_count": 3,
     "metadata": {},
     "output_type": "execute_result"
    },
    {
     "data": {
      "text/html": [
       "<div>\n",
       "<style scoped>\n",
       "    .dataframe tbody tr th:only-of-type {\n",
       "        vertical-align: middle;\n",
       "    }\n",
       "\n",
       "    .dataframe tbody tr th {\n",
       "        vertical-align: top;\n",
       "    }\n",
       "\n",
       "    .dataframe thead th {\n",
       "        text-align: right;\n",
       "    }\n",
       "</style>\n",
       "<table border=\"1\" class=\"dataframe\">\n",
       "  <thead>\n",
       "    <tr style=\"text-align: right;\">\n",
       "      <th></th>\n",
       "      <th>year</th>\n",
       "      <th>sample</th>\n",
       "      <th>yearSampleLabel</th>\n",
       "      <th>Cohort</th>\n",
       "      <th>CohortLabel</th>\n",
       "      <th>stattype</th>\n",
       "      <th>subject</th>\n",
       "      <th>grade</th>\n",
       "      <th>scale</th>\n",
       "      <th>jurisdiction</th>\n",
       "      <th>jurisLabel</th>\n",
       "      <th>variable</th>\n",
       "      <th>variableLabel</th>\n",
       "      <th>varValue</th>\n",
       "      <th>varValueLabel</th>\n",
       "      <th>value</th>\n",
       "      <th>isStatDisplayable</th>\n",
       "      <th>errorFlag</th>\n",
       "    </tr>\n",
       "  </thead>\n",
       "  <tbody>\n",
       "    <tr>\n",
       "      <th>0</th>\n",
       "      <td>2011</td>\n",
       "      <td>R3</td>\n",
       "      <td>2011</td>\n",
       "      <td>2</td>\n",
       "      <td>Grade 8</td>\n",
       "      <td>MN:MN</td>\n",
       "      <td>WRI</td>\n",
       "      <td>8</td>\n",
       "      <td>WRIRP</td>\n",
       "      <td>NP</td>\n",
       "      <td>National public</td>\n",
       "      <td>GENDER</td>\n",
       "      <td>Gender</td>\n",
       "      <td>1</td>\n",
       "      <td>Male</td>\n",
       "      <td>139.099505</td>\n",
       "      <td>1</td>\n",
       "      <td>0</td>\n",
       "    </tr>\n",
       "    <tr>\n",
       "      <th>1</th>\n",
       "      <td>2011</td>\n",
       "      <td>R3</td>\n",
       "      <td>2011</td>\n",
       "      <td>2</td>\n",
       "      <td>Grade 8</td>\n",
       "      <td>MN:MN</td>\n",
       "      <td>WRI</td>\n",
       "      <td>8</td>\n",
       "      <td>WRIRP</td>\n",
       "      <td>NP</td>\n",
       "      <td>National public</td>\n",
       "      <td>GENDER</td>\n",
       "      <td>Gender</td>\n",
       "      <td>2</td>\n",
       "      <td>Female</td>\n",
       "      <td>158.567105</td>\n",
       "      <td>1</td>\n",
       "      <td>0</td>\n",
       "    </tr>\n",
       "  </tbody>\n",
       "</table>\n",
       "</div>"
      ],
      "text/plain": [
       "   year sample yearSampleLabel  Cohort CohortLabel stattype subject  grade  \\\n",
       "0  2011     R3            2011       2     Grade 8    MN:MN     WRI      8   \n",
       "1  2011     R3            2011       2     Grade 8    MN:MN     WRI      8   \n",
       "\n",
       "   scale jurisdiction       jurisLabel variable variableLabel varValue  \\\n",
       "0  WRIRP           NP  National public   GENDER        Gender        1   \n",
       "1  WRIRP           NP  National public   GENDER        Gender        2   \n",
       "\n",
       "  varValueLabel       value  isStatDisplayable  errorFlag  \n",
       "0          Male  139.099505                  1          0  \n",
       "1        Female  158.567105                  1          0  "
      ]
     },
     "execution_count": 3,
     "metadata": {},
     "output_type": "execute_result"
    }
   ],
   "source": [
    "## use requests to call the api\n",
    "naep_resp = requests.get(example_naep_query)\n",
    "naep_resp\n",
    "print(type(naep_resp))\n",
    "\n",
    "## get the json contents of the response \n",
    "## here, we're assuming valid response\n",
    "naep_resp_j = naep_resp.json()\n",
    "naep_resp_j\n",
    "\n",
    "## with result, turn it into a dataframe\n",
    "naep_resp_d = pd.DataFrame(naep_resp_j['result'])\n",
    "naep_resp_d"
   ]
  },
  {
   "cell_type": "markdown",
   "metadata": {},
   "source": [
    "## 1.2 What happens if there's an error in our query?"
   ]
  },
  {
   "cell_type": "code",
   "execution_count": 7,
   "metadata": {},
   "outputs": [
    {
     "data": {
      "text/plain": [
       "'https://www.nationsreportcard.gov/Dataservice/GetAdhocData.aspx?type=data&subject=writing&grade=8&subscale=WRIRP&variable=GENDER&jurisdiction=NP&stattype=MN:MN&Year=2025'"
      ]
     },
     "execution_count": 7,
     "metadata": {},
     "output_type": "execute_result"
    }
   ],
   "source": [
    "## here's a query that from the documentation we know\n",
    "## won't work since i modified year to 2025 which doesnt\n",
    "## exist in the data\n",
    "wrong_naep_query = (\n",
    "'https://www.nationsreportcard.gov/'\n",
    "'Dataservice/GetAdhocData.aspx?'\n",
    "'type=data&subject=writing&grade=8&'\n",
    "'subscale=WRIRP&variable=GENDER&jurisdiction=NP&stattype=MN:MN&Year=2025')\n",
    "\n",
    "wrong_naep_query"
   ]
  },
  {
   "cell_type": "code",
   "execution_count": 8,
   "metadata": {},
   "outputs": [
    {
     "data": {
      "text/plain": [
       "<Response [200]>"
      ]
     },
     "execution_count": 8,
     "metadata": {},
     "output_type": "execute_result"
    }
   ],
   "source": [
    "## use requests to call the api\n",
    "naep_wrong_resp = requests.get(wrong_naep_query)\n",
    "naep_wrong_resp"
   ]
  },
  {
   "cell_type": "code",
   "execution_count": 9,
   "metadata": {},
   "outputs": [],
   "source": [
    "## in the case of this particular api,\n",
    "## the call returns some response but\n",
    "## when we try to extract the json containing\n",
    "## status or results, we get in an error\n",
    "#naep_wrong_resp.json() # uncomment to see error"
   ]
  },
  {
   "cell_type": "markdown",
   "metadata": {},
   "source": [
    "### 1.2.2 More all-purpose way of allowing remainder of calls to run: try, except"
   ]
  },
  {
   "cell_type": "code",
   "execution_count": 10,
   "metadata": {},
   "outputs": [
    {
     "name": "stdout",
     "output_type": "stream",
     "text": [
      "Failed to get result from API due to error:\n",
      "Invalid control character at: line 1 column 289 (char 288)\n"
     ]
    }
   ],
   "source": [
    "## putting it in a try; except as general error catching\n",
    "try:\n",
    "    results = naep_wrong_resp.json()['result']\n",
    "except Exception as e:\n",
    "    print('Failed to get result from API due to error:')\n",
    "    print(e) # or just: pass"
   ]
  },
  {
   "cell_type": "markdown",
   "metadata": {},
   "source": [
    "### 1.2.3 Can usually also find more targeted way but that varies more across APIs"
   ]
  },
  {
   "cell_type": "code",
   "execution_count": 11,
   "metadata": {},
   "outputs": [
    {
     "data": {
      "text/plain": [
       "'{\"status\":400,\"result\": \"System.Exception: The query \\'SELECT DISTINCT Framework FROM Cycles WHERE Subject=\\'WRI\\' AND Cohort=2 AND CONVERT(VARCHAR(10),Year)+Sample IN (\\'2025R3\\')\\' did not return exactly 1 framework. Make sure you can trend the years defined for the given subject and cohort.\\r\\n   at NRCDataService3.GetAdhocData.GetFramework(NDEContext& ndeContext, String subjectCode, List`1 yearSamples, String cohort) in C:\\\\projects\\\\ndecore2015\\\\NRCDataService2\\\\GetAdhocData.aspx.cs:line 2091\\r\\n   at NRCDataService3.GetAdhocData.PopulateBaseOrchestratorRequest() in C:\\\\projects\\\\ndecore2015\\\\NRCDataService2\\\\GetAdhocData.aspx.cs:line 1781\\r\\n   at NRCDataService3.GetAdhocData.ConstructRequest_Datapoint() in C:\\\\projects\\\\ndecore2015\\\\NRCDataService2\\\\GetAdhocData.aspx.cs:line 628\\r\\n   at NRCDataService3.GetAdhocData.Page_Load(Object sender, EventArgs e) in C:\\\\projects\\\\ndecore2015\\\\NRCDataService2\\\\GetAdhocData.aspx.cs:line 179\"}'"
      ]
     },
     "execution_count": 11,
     "metadata": {},
     "output_type": "execute_result"
    },
    {
     "data": {
      "text/plain": [
       "'{\"status\":200,\"result\": [{\"year\":2011,\"sample\":\"R3\",\"yearSampleLabel\":\"2011\",\"Cohort\":2,\"CohortLabel\":\"Grade 8\",\"stattype\":\"MN:MN\",\"subject\":\"WRI\",\"grade\":8,\"scale\":\"WRIRP\",\"jurisdiction\":\"NP\",\"jurisLabel\":\"National public\",\"variable\":\"GENDER\",\"variableLabel\":\"Gender\",\"varValue\":\"1\",\"varValueLabel\":\"Male\",\"value\":139.099504632971,\"isStatDisplayable\":1,\"errorFlag\":0},{\"year\":2011,\"sample\":\"R3\",\"yearSampleLabel\":\"2011\",\"Cohort\":2,\"CohortLabel\":\"Grade 8\",\"stattype\":\"MN:MN\",\"subject\":\"WRI\",\"grade\":8,\"scale\":\"WRIRP\",\"jurisdiction\":\"NP\",\"jurisLabel\":\"National public\",\"variable\":\"GENDER\",\"variableLabel\":\"Gender\",\"varValue\":\"2\",\"varValueLabel\":\"Female\",\"value\":158.567104984955,\"isStatDisplayable\":1,\"errorFlag\":0}]}'"
      ]
     },
     "execution_count": 11,
     "metadata": {},
     "output_type": "execute_result"
    },
    {
     "name": "stdout",
     "output_type": "stream",
     "text": [
      "NAEP results not found\n"
     ]
    }
   ],
   "source": [
    "## if we wanted do more specific error catching,\n",
    "## see that the status == 400 actually appears here\n",
    "## so could write if else along those lines\n",
    "naep_wrong_resp.text\n",
    "naep_resp.text\n",
    "\n",
    "if \"System.Exception\" in naep_wrong_resp.text:\n",
    "    print(\"NAEP results not found\")"
   ]
  },
  {
   "cell_type": "markdown",
   "metadata": {},
   "source": [
    "## Activity 1: writing a function to make multiple, sequential calls\n",
    "\n",
    "- Say we want to pull the data for grades 4, 8, and 12\n",
    "- How can we write a function that iterates over a list of those grades and pulls the data for each grade?\n",
    "\n",
    "**Note**: an ideal function would have arguments for each parameter in the API like subject, subscale, etc. Here we can leave those other parts constant"
   ]
  },
  {
   "cell_type": "code",
   "execution_count": 12,
   "metadata": {},
   "outputs": [
    {
     "name": "stdout",
     "output_type": "stream",
     "text": [
      "<Response [200]>\n",
      "<class 'requests.models.Response'>\n",
      "Failed to get result from API due to error:\n",
      "Invalid control character at: line 1 column 289 (char 288)\n",
      "<Response [200]>\n",
      "<class 'requests.models.Response'>\n"
     ]
    },
    {
     "data": {
      "text/plain": [
       "[{'year': 2011,\n",
       "  'sample': 'R3',\n",
       "  'yearSampleLabel': '2011',\n",
       "  'Cohort': 2,\n",
       "  'CohortLabel': 'Grade 8',\n",
       "  'stattype': 'MN:MN',\n",
       "  'subject': 'WRI',\n",
       "  'grade': 8,\n",
       "  'scale': 'WRIRP',\n",
       "  'jurisdiction': 'NP',\n",
       "  'jurisLabel': 'National public',\n",
       "  'variable': 'GENDER',\n",
       "  'variableLabel': 'Gender',\n",
       "  'varValue': '1',\n",
       "  'varValueLabel': 'Male',\n",
       "  'value': 139.099504632971,\n",
       "  'isStatDisplayable': 1,\n",
       "  'errorFlag': 0},\n",
       " {'year': 2011,\n",
       "  'sample': 'R3',\n",
       "  'yearSampleLabel': '2011',\n",
       "  'Cohort': 2,\n",
       "  'CohortLabel': 'Grade 8',\n",
       "  'stattype': 'MN:MN',\n",
       "  'subject': 'WRI',\n",
       "  'grade': 8,\n",
       "  'scale': 'WRIRP',\n",
       "  'jurisdiction': 'NP',\n",
       "  'jurisLabel': 'National public',\n",
       "  'variable': 'GENDER',\n",
       "  'variableLabel': 'Gender',\n",
       "  'varValue': '2',\n",
       "  'varValueLabel': 'Female',\n",
       "  'value': 158.567104984955,\n",
       "  'isStatDisplayable': 1,\n",
       "  'errorFlag': 0}]"
      ]
     },
     "execution_count": 12,
     "metadata": {},
     "output_type": "execute_result"
    },
    {
     "name": "stdout",
     "output_type": "stream",
     "text": [
      "<Response [200]>\n",
      "<class 'requests.models.Response'>\n"
     ]
    },
    {
     "data": {
      "text/plain": [
       "[{'year': 2011,\n",
       "  'sample': 'R3',\n",
       "  'yearSampleLabel': '2011',\n",
       "  'Cohort': 3,\n",
       "  'CohortLabel': 'Grade 12',\n",
       "  'stattype': 'MN:MN',\n",
       "  'subject': 'WRI',\n",
       "  'grade': 12,\n",
       "  'scale': 'WRIRP',\n",
       "  'jurisdiction': 'NP',\n",
       "  'jurisLabel': 'National public',\n",
       "  'variable': 'GENDER',\n",
       "  'variableLabel': 'Gender',\n",
       "  'varValue': '1',\n",
       "  'varValueLabel': 'Male',\n",
       "  'value': 141.256977963264,\n",
       "  'isStatDisplayable': 1,\n",
       "  'errorFlag': 0},\n",
       " {'year': 2011,\n",
       "  'sample': 'R3',\n",
       "  'yearSampleLabel': '2011',\n",
       "  'Cohort': 3,\n",
       "  'CohortLabel': 'Grade 12',\n",
       "  'stattype': 'MN:MN',\n",
       "  'subject': 'WRI',\n",
       "  'grade': 12,\n",
       "  'scale': 'WRIRP',\n",
       "  'jurisdiction': 'NP',\n",
       "  'jurisLabel': 'National public',\n",
       "  'variable': 'GENDER',\n",
       "  'variableLabel': 'Gender',\n",
       "  'varValue': '2',\n",
       "  'varValueLabel': 'Female',\n",
       "  'value': 155.385916780351,\n",
       "  'isStatDisplayable': 1,\n",
       "  'errorFlag': 0}]"
      ]
     },
     "execution_count": 12,
     "metadata": {},
     "output_type": "execute_result"
    }
   ],
   "source": [
    "def doGrade(grade):\n",
    "    link = 'https://www.nationsreportcard.gov/''Dataservice/GetAdhocData.aspx?''type=data&subject=writing&grade=' + str(grade) + '&''subscale=WRIRP&variable=GENDER&jurisdiction=NP&stattype=MN:MN&Year=2011'\n",
    "    naep_resp1 = requests.get(link)\n",
    "    print(naep_resp1)\n",
    "    print(type(naep_resp1))\n",
    "    try:\n",
    "        results = naep_resp1.json()['result']\n",
    "        return results\n",
    "    except Exception as e:\n",
    "        print('Failed to get result from API due to error:')\n",
    "        print(e) # or just: pass\n",
    "doGrade(4)\n",
    "doGrade(8)\n",
    "doGrade(12)"
   ]
  },
  {
   "cell_type": "markdown",
   "metadata": {},
   "source": [
    "# 2. Example 2: needs credentials; no wrapper"
   ]
  },
  {
   "cell_type": "markdown",
   "metadata": {},
   "source": [
    "Create an account here: https://www.yelp.com/developers/v3/manage_app"
   ]
  },
  {
   "cell_type": "code",
   "execution_count": 13,
   "metadata": {},
   "outputs": [],
   "source": [
    "## get the key\n",
    "API_KEY = \"aNnSXLscmWZ838q4i6_es1vOMqXkJeVX1AtzyCe-akao5XpoNlZzKasdrL3coPpe5007iWUpQXF4P2vpF56MZjPYoiGVUkcNlcYiOUuXKslM9sNkroKCC9RQ3qszZnYx\""
   ]
  },
  {
   "cell_type": "code",
   "execution_count": 23,
   "metadata": {},
   "outputs": [
    {
     "data": {
      "text/plain": [
       "<Response [200]>"
      ]
     },
     "execution_count": 23,
     "metadata": {},
     "output_type": "execute_result"
    }
   ],
   "source": [
    "## use documentation to define what to search\n",
    "## doc: https://www.yelp.com/developers/documentation/v3/business_search\n",
    "## write the query \n",
    "base_url = \"https://api.yelp.com/v3/businesses/search?\"\n",
    "my_name = \"restaurants\"\n",
    "my_location = \"Bethesda,MD\"\n",
    "yelp_genquery = ('{base_url}'\n",
    "                'term={name}'\n",
    "                '&location={loc}').format(base_url = base_url,\n",
    "                name = my_name,\n",
    "                loc = my_location)\n",
    "\n",
    "## use requests to call the API; here, we're\n",
    "## passing it our credentials (structure varies\n",
    "## by API and telling it to only return 10 results\n",
    "## (max is 50 at once)\n",
    "header = {'Authorization': f\"Bearer {API_KEY}\"}\n",
    "yelp_genresp = requests.get(yelp_genquery, headers = header)\n",
    "yelp_genresp\n",
    "\n",
    "## then, look at structure of response\n",
    "yelp_genjson = yelp_genresp.json()\n"
   ]
  },
  {
   "cell_type": "code",
   "execution_count": 24,
   "metadata": {},
   "outputs": [
    {
     "data": {
      "text/plain": [
       "{'id': 'exLT5_TgGf4AvYGwz98S-A',\n",
       " 'alias': 'aventino-bethesda-2',\n",
       " 'name': 'Aventino',\n",
       " 'image_url': 'https://s3-media3.fl.yelpcdn.com/bphoto/GBh5RPTX0K6Xl6PGsi9fjg/o.jpg',\n",
       " 'is_closed': False,\n",
       " 'url': 'https://www.yelp.com/biz/aventino-bethesda-2?adjust_creative=-9b9vG2tOg8KCdaop5P6GQ&utm_campaign=yelp_api_v3&utm_medium=api_v3_business_search&utm_source=-9b9vG2tOg8KCdaop5P6GQ',\n",
       " 'review_count': 27,\n",
       " 'categories': [{'alias': 'italian', 'title': 'Italian'}],\n",
       " 'rating': 4.4,\n",
       " 'coordinates': {'latitude': 38.981252, 'longitude': -77.094493},\n",
       " 'transactions': [],\n",
       " 'price': '$$$',\n",
       " 'location': {'address1': '4747 Bethesda Ave',\n",
       "  'address2': '',\n",
       "  'address3': None,\n",
       "  'city': 'Bethesda',\n",
       "  'zip_code': '20814',\n",
       "  'country': 'US',\n",
       "  'state': 'MD',\n",
       "  'display_address': ['4747 Bethesda Ave', 'Bethesda, MD 20814']},\n",
       " 'phone': '+13019616450',\n",
       " 'display_phone': '(301) 961-6450',\n",
       " 'distance': 1830.8798835265868,\n",
       " 'attributes': {'business_temp_closed': None,\n",
       "  'menu_url': 'https://www.aventinocucina.com/menus/aventino-dinner-menu-012424.pdf',\n",
       "  'open24_hours': None,\n",
       "  'waitlist_reservation': None}}"
      ]
     },
     "execution_count": 24,
     "metadata": {},
     "output_type": "execute_result"
    },
    {
     "data": {
      "text/html": [
       "<div>\n",
       "<style scoped>\n",
       "    .dataframe tbody tr th:only-of-type {\n",
       "        vertical-align: middle;\n",
       "    }\n",
       "\n",
       "    .dataframe tbody tr th {\n",
       "        vertical-align: top;\n",
       "    }\n",
       "\n",
       "    .dataframe thead th {\n",
       "        text-align: right;\n",
       "    }\n",
       "</style>\n",
       "<table border=\"1\" class=\"dataframe\">\n",
       "  <thead>\n",
       "    <tr style=\"text-align: right;\">\n",
       "      <th></th>\n",
       "      <th>id</th>\n",
       "      <th>alias</th>\n",
       "      <th>name</th>\n",
       "      <th>image_url</th>\n",
       "      <th>is_closed</th>\n",
       "      <th>url</th>\n",
       "      <th>review_count</th>\n",
       "      <th>categories</th>\n",
       "      <th>rating</th>\n",
       "      <th>coordinates</th>\n",
       "      <th>transactions</th>\n",
       "      <th>price</th>\n",
       "      <th>location</th>\n",
       "      <th>phone</th>\n",
       "      <th>display_phone</th>\n",
       "      <th>distance</th>\n",
       "      <th>attributes</th>\n",
       "    </tr>\n",
       "  </thead>\n",
       "  <tbody>\n",
       "    <tr>\n",
       "      <th>0</th>\n",
       "      <td>exLT5_TgGf4AvYGwz98S-A</td>\n",
       "      <td>aventino-bethesda-2</td>\n",
       "      <td>Aventino</td>\n",
       "      <td>https://s3-media3.fl.yelpcdn.com/bphoto/GBh5RP...</td>\n",
       "      <td>False</td>\n",
       "      <td>https://www.yelp.com/biz/aventino-bethesda-2?a...</td>\n",
       "      <td>27</td>\n",
       "      <td>[{'alias': 'italian', 'title': 'Italian'}]</td>\n",
       "      <td>4.4</td>\n",
       "      <td>{'latitude': 38.981252, 'longitude': -77.094493}</td>\n",
       "      <td>[]</td>\n",
       "      <td>$$$</td>\n",
       "      <td>{'address1': '4747 Bethesda Ave', 'address2': ...</td>\n",
       "      <td>+13019616450</td>\n",
       "      <td>(301) 961-6450</td>\n",
       "      <td>1830.879884</td>\n",
       "      <td>{'business_temp_closed': None, 'menu_url': 'ht...</td>\n",
       "    </tr>\n",
       "    <tr>\n",
       "      <th>1</th>\n",
       "      <td>CU9E8nMBEJLoDHzUzaz-ig</td>\n",
       "      <td>dig-coming-soon-bethesda</td>\n",
       "      <td>Dig</td>\n",
       "      <td>https://s3-media2.fl.yelpcdn.com/bphoto/ZlrWyK...</td>\n",
       "      <td>False</td>\n",
       "      <td>https://www.yelp.com/biz/dig-coming-soon-bethe...</td>\n",
       "      <td>26</td>\n",
       "      <td>[{'alias': 'newamerican', 'title': 'New Americ...</td>\n",
       "      <td>4.3</td>\n",
       "      <td>{'latitude': 38.9824019, 'longitude': -77.0956...</td>\n",
       "      <td>[delivery, pickup]</td>\n",
       "      <td>NaN</td>\n",
       "      <td>{'address1': '4733 Elm St', 'address2': None, ...</td>\n",
       "      <td>+13019683636</td>\n",
       "      <td>(301) 968-3636</td>\n",
       "      <td>1668.229334</td>\n",
       "      <td>{'business_temp_closed': None, 'menu_url': 'ht...</td>\n",
       "    </tr>\n",
       "    <tr>\n",
       "      <th>2</th>\n",
       "      <td>d3Xmu3igy9yv5cFsBkNxeQ</td>\n",
       "      <td>ala-bethesda-bethesda</td>\n",
       "      <td>Ala - Bethesda</td>\n",
       "      <td>https://s3-media2.fl.yelpcdn.com/bphoto/PhuQN_...</td>\n",
       "      <td>False</td>\n",
       "      <td>https://www.yelp.com/biz/ala-bethesda-bethesda...</td>\n",
       "      <td>20</td>\n",
       "      <td>[{'alias': 'coffee', 'title': 'Coffee &amp; Tea'},...</td>\n",
       "      <td>4.5</td>\n",
       "      <td>{'latitude': 38.98740950671368, 'longitude': -...</td>\n",
       "      <td>[]</td>\n",
       "      <td>NaN</td>\n",
       "      <td>{'address1': '4948 Fairmont Ave', 'address2': ...</td>\n",
       "      <td>+12027171166</td>\n",
       "      <td>(202) 717-1166</td>\n",
       "      <td>1196.966743</td>\n",
       "      <td>{'business_temp_closed': None, 'menu_url': 'ht...</td>\n",
       "    </tr>\n",
       "    <tr>\n",
       "      <th>3</th>\n",
       "      <td>6vPNPahPY9CFjqpYAgvxww</td>\n",
       "      <td>barrel-and-crow-bethesda-2</td>\n",
       "      <td>Barrel &amp; Crow</td>\n",
       "      <td>https://s3-media4.fl.yelpcdn.com/bphoto/8FIpZ1...</td>\n",
       "      <td>False</td>\n",
       "      <td>https://www.yelp.com/biz/barrel-and-crow-bethe...</td>\n",
       "      <td>539</td>\n",
       "      <td>[{'alias': 'southern', 'title': 'Southern'}, {...</td>\n",
       "      <td>4.0</td>\n",
       "      <td>{'latitude': 38.9897544133054, 'longitude': -7...</td>\n",
       "      <td>[delivery]</td>\n",
       "      <td>$$</td>\n",
       "      <td>{'address1': '4867 Cordell Ave', 'address2': '...</td>\n",
       "      <td>+12408003253</td>\n",
       "      <td>(240) 800-3253</td>\n",
       "      <td>1026.633071</td>\n",
       "      <td>{'business_temp_closed': None, 'menu_url': 'ht...</td>\n",
       "    </tr>\n",
       "    <tr>\n",
       "      <th>4</th>\n",
       "      <td>f6gw5tzCTq4pGa2aBPJM4A</td>\n",
       "      <td>hawkers-asian-street-food-bethesda</td>\n",
       "      <td>Hawkers Asian Street Food</td>\n",
       "      <td>https://s3-media2.fl.yelpcdn.com/bphoto/PsVFPV...</td>\n",
       "      <td>False</td>\n",
       "      <td>https://www.yelp.com/biz/hawkers-asian-street-...</td>\n",
       "      <td>835</td>\n",
       "      <td>[{'alias': 'bars', 'title': 'Bars'}, {'alias':...</td>\n",
       "      <td>4.2</td>\n",
       "      <td>{'latitude': 38.981561, 'longitude': -77.097674}</td>\n",
       "      <td>[]</td>\n",
       "      <td>$$</td>\n",
       "      <td>{'address1': '7117 Bethesda Ln', 'address2': N...</td>\n",
       "      <td>+12402038135</td>\n",
       "      <td>(240) 203-8135</td>\n",
       "      <td>1608.559749</td>\n",
       "      <td>{'business_temp_closed': None, 'menu_url': 'ht...</td>\n",
       "    </tr>\n",
       "  </tbody>\n",
       "</table>\n",
       "</div>"
      ],
      "text/plain": [
       "                       id                               alias  \\\n",
       "0  exLT5_TgGf4AvYGwz98S-A                 aventino-bethesda-2   \n",
       "1  CU9E8nMBEJLoDHzUzaz-ig            dig-coming-soon-bethesda   \n",
       "2  d3Xmu3igy9yv5cFsBkNxeQ               ala-bethesda-bethesda   \n",
       "3  6vPNPahPY9CFjqpYAgvxww          barrel-and-crow-bethesda-2   \n",
       "4  f6gw5tzCTq4pGa2aBPJM4A  hawkers-asian-street-food-bethesda   \n",
       "\n",
       "                        name  \\\n",
       "0                   Aventino   \n",
       "1                        Dig   \n",
       "2             Ala - Bethesda   \n",
       "3              Barrel & Crow   \n",
       "4  Hawkers Asian Street Food   \n",
       "\n",
       "                                           image_url  is_closed  \\\n",
       "0  https://s3-media3.fl.yelpcdn.com/bphoto/GBh5RP...      False   \n",
       "1  https://s3-media2.fl.yelpcdn.com/bphoto/ZlrWyK...      False   \n",
       "2  https://s3-media2.fl.yelpcdn.com/bphoto/PhuQN_...      False   \n",
       "3  https://s3-media4.fl.yelpcdn.com/bphoto/8FIpZ1...      False   \n",
       "4  https://s3-media2.fl.yelpcdn.com/bphoto/PsVFPV...      False   \n",
       "\n",
       "                                                 url  review_count  \\\n",
       "0  https://www.yelp.com/biz/aventino-bethesda-2?a...            27   \n",
       "1  https://www.yelp.com/biz/dig-coming-soon-bethe...            26   \n",
       "2  https://www.yelp.com/biz/ala-bethesda-bethesda...            20   \n",
       "3  https://www.yelp.com/biz/barrel-and-crow-bethe...           539   \n",
       "4  https://www.yelp.com/biz/hawkers-asian-street-...           835   \n",
       "\n",
       "                                          categories  rating  \\\n",
       "0         [{'alias': 'italian', 'title': 'Italian'}]     4.4   \n",
       "1  [{'alias': 'newamerican', 'title': 'New Americ...     4.3   \n",
       "2  [{'alias': 'coffee', 'title': 'Coffee & Tea'},...     4.5   \n",
       "3  [{'alias': 'southern', 'title': 'Southern'}, {...     4.0   \n",
       "4  [{'alias': 'bars', 'title': 'Bars'}, {'alias':...     4.2   \n",
       "\n",
       "                                         coordinates        transactions  \\\n",
       "0   {'latitude': 38.981252, 'longitude': -77.094493}                  []   \n",
       "1  {'latitude': 38.9824019, 'longitude': -77.0956...  [delivery, pickup]   \n",
       "2  {'latitude': 38.98740950671368, 'longitude': -...                  []   \n",
       "3  {'latitude': 38.9897544133054, 'longitude': -7...          [delivery]   \n",
       "4   {'latitude': 38.981561, 'longitude': -77.097674}                  []   \n",
       "\n",
       "  price                                           location         phone  \\\n",
       "0   $$$  {'address1': '4747 Bethesda Ave', 'address2': ...  +13019616450   \n",
       "1   NaN  {'address1': '4733 Elm St', 'address2': None, ...  +13019683636   \n",
       "2   NaN  {'address1': '4948 Fairmont Ave', 'address2': ...  +12027171166   \n",
       "3    $$  {'address1': '4867 Cordell Ave', 'address2': '...  +12408003253   \n",
       "4    $$  {'address1': '7117 Bethesda Ln', 'address2': N...  +12402038135   \n",
       "\n",
       "    display_phone     distance  \\\n",
       "0  (301) 961-6450  1830.879884   \n",
       "1  (301) 968-3636  1668.229334   \n",
       "2  (202) 717-1166  1196.966743   \n",
       "3  (240) 800-3253  1026.633071   \n",
       "4  (240) 203-8135  1608.559749   \n",
       "\n",
       "                                          attributes  \n",
       "0  {'business_temp_closed': None, 'menu_url': 'ht...  \n",
       "1  {'business_temp_closed': None, 'menu_url': 'ht...  \n",
       "2  {'business_temp_closed': None, 'menu_url': 'ht...  \n",
       "3  {'business_temp_closed': None, 'menu_url': 'ht...  \n",
       "4  {'business_temp_closed': None, 'menu_url': 'ht...  "
      ]
     },
     "execution_count": 24,
     "metadata": {},
     "output_type": "execute_result"
    }
   ],
   "source": [
    "## example business\n",
    "yelp_genjson['businesses'][0]\n",
    "\n",
    "## more automatic way of summarizing but things end up in lists\n",
    "## within columns for things like categories\n",
    "yelp_gendf = pd.DataFrame(yelp_genjson['businesses'])\n",
    "yelp_gendf.head()"
   ]
  },
  {
   "cell_type": "code",
   "execution_count": 22,
   "metadata": {},
   "outputs": [
    {
     "data": {
      "text/html": [
       "<div>\n",
       "<style scoped>\n",
       "    .dataframe tbody tr th:only-of-type {\n",
       "        vertical-align: middle;\n",
       "    }\n",
       "\n",
       "    .dataframe tbody tr th {\n",
       "        vertical-align: top;\n",
       "    }\n",
       "\n",
       "    .dataframe thead th {\n",
       "        text-align: right;\n",
       "    }\n",
       "</style>\n",
       "<table border=\"1\" class=\"dataframe\">\n",
       "  <thead>\n",
       "    <tr style=\"text-align: right;\">\n",
       "      <th></th>\n",
       "      <th>id</th>\n",
       "      <th>alias</th>\n",
       "      <th>name</th>\n",
       "      <th>image_url</th>\n",
       "      <th>url</th>\n",
       "      <th>price</th>\n",
       "      <th>phone</th>\n",
       "      <th>display_phone</th>\n",
       "    </tr>\n",
       "  </thead>\n",
       "  <tbody>\n",
       "    <tr>\n",
       "      <th>YlTyBzagifcasFA0n8OpkQ</th>\n",
       "      <td>YlTyBzagifcasFA0n8OpkQ</td>\n",
       "      <td>金峰魯肉飯-中正區</td>\n",
       "      <td>Jin Feng Braised Pork Rice</td>\n",
       "      <td>https://s3-media4.fl.yelpcdn.com/bphoto/90r5r4...</td>\n",
       "      <td>https://www.yelp.com/biz/%E9%87%91%E5%B3%B0%E9...</td>\n",
       "      <td>$</td>\n",
       "      <td>+886223960808</td>\n",
       "      <td>+886 2 2396 0808</td>\n",
       "    </tr>\n",
       "    <tr>\n",
       "      <th>8Qbbb9EaqdTaAI09WQuIzA</th>\n",
       "      <td>8Qbbb9EaqdTaAI09WQuIzA</td>\n",
       "      <td>阜杭豆漿-中正區</td>\n",
       "      <td>Fuhang Soy Milk</td>\n",
       "      <td>https://s3-media3.fl.yelpcdn.com/bphoto/zi5tIk...</td>\n",
       "      <td>https://www.yelp.com/biz/%E9%98%9C%E6%9D%AD%E8...</td>\n",
       "      <td>$</td>\n",
       "      <td>+886223922175</td>\n",
       "      <td>+886 2 2392 2175</td>\n",
       "    </tr>\n",
       "    <tr>\n",
       "      <th>5gNHAIyajmJ_4i5vXwOVRw</th>\n",
       "      <td>5gNHAIyajmJ_4i5vXwOVRw</td>\n",
       "      <td>永和豆漿大王-大安區-2</td>\n",
       "      <td>Yong He Soy Milk King</td>\n",
       "      <td>https://s3-media2.fl.yelpcdn.com/bphoto/g_CeWw...</td>\n",
       "      <td>https://www.yelp.com/biz/%E6%B0%B8%E5%92%8C%E8...</td>\n",
       "      <td>$</td>\n",
       "      <td>+886227035051</td>\n",
       "      <td>+886 2 2703 5051</td>\n",
       "    </tr>\n",
       "    <tr>\n",
       "      <th>0ccCDXUfKrwoU1ciD2CIew</th>\n",
       "      <td>0ccCDXUfKrwoU1ciD2CIew</td>\n",
       "      <td>萬華陳記專業腸蚵麵線-萬華區</td>\n",
       "      <td>萬華陳記專業腸蚵麵線</td>\n",
       "      <td>https://s3-media2.fl.yelpcdn.com/bphoto/GsS6qu...</td>\n",
       "      <td>https://www.yelp.com/biz/%E8%90%AC%E8%8F%AF%E9...</td>\n",
       "      <td>$</td>\n",
       "      <td>+886223041979</td>\n",
       "      <td>+886 2 2304 1979</td>\n",
       "    </tr>\n",
       "    <tr>\n",
       "      <th>Xbmdhb5PEfbAPNxzghWCRQ</th>\n",
       "      <td>Xbmdhb5PEfbAPNxzghWCRQ</td>\n",
       "      <td>上引水產-中山區</td>\n",
       "      <td>Addiction Aquatic Development</td>\n",
       "      <td>https://s3-media4.fl.yelpcdn.com/bphoto/tvdcWp...</td>\n",
       "      <td>https://www.yelp.com/biz/%E4%B8%8A%E5%BC%95%E6...</td>\n",
       "      <td>$$</td>\n",
       "      <td>+886225081268</td>\n",
       "      <td>+886 2 2508 1268</td>\n",
       "    </tr>\n",
       "    <tr>\n",
       "      <th>Smu2CQeGeGnPnqxVmaAejg</th>\n",
       "      <td>Smu2CQeGeGnPnqxVmaAejg</td>\n",
       "      <td>湯包-萬華區</td>\n",
       "      <td>Soup Dumplings</td>\n",
       "      <td>https://s3-media3.fl.yelpcdn.com/bphoto/QkfgdC...</td>\n",
       "      <td>https://www.yelp.com/biz/%E6%B9%AF%E5%8C%85-%E...</td>\n",
       "      <td>NaN</td>\n",
       "      <td>+886223717762</td>\n",
       "      <td>+886 2 2371 7762</td>\n",
       "    </tr>\n",
       "    <tr>\n",
       "      <th>TexN3c8guzJoyOVdD5kAOA</th>\n",
       "      <td>TexN3c8guzJoyOVdD5kAOA</td>\n",
       "      <td>原西園橋下-萬華區</td>\n",
       "      <td>原西園橋下</td>\n",
       "      <td>https://s3-media4.fl.yelpcdn.com/bphoto/6VLb9h...</td>\n",
       "      <td>https://www.yelp.com/biz/%E5%8E%9F%E8%A5%BF%E5...</td>\n",
       "      <td>NaN</td>\n",
       "      <td></td>\n",
       "      <td></td>\n",
       "    </tr>\n",
       "  </tbody>\n",
       "</table>\n",
       "</div>"
      ],
      "text/plain": [
       "                                            id           alias  \\\n",
       "YlTyBzagifcasFA0n8OpkQ  YlTyBzagifcasFA0n8OpkQ       金峰魯肉飯-中正區   \n",
       "8Qbbb9EaqdTaAI09WQuIzA  8Qbbb9EaqdTaAI09WQuIzA        阜杭豆漿-中正區   \n",
       "5gNHAIyajmJ_4i5vXwOVRw  5gNHAIyajmJ_4i5vXwOVRw    永和豆漿大王-大安區-2   \n",
       "0ccCDXUfKrwoU1ciD2CIew  0ccCDXUfKrwoU1ciD2CIew  萬華陳記專業腸蚵麵線-萬華區   \n",
       "Xbmdhb5PEfbAPNxzghWCRQ  Xbmdhb5PEfbAPNxzghWCRQ        上引水產-中山區   \n",
       "Smu2CQeGeGnPnqxVmaAejg  Smu2CQeGeGnPnqxVmaAejg          湯包-萬華區   \n",
       "TexN3c8guzJoyOVdD5kAOA  TexN3c8guzJoyOVdD5kAOA       原西園橋下-萬華區   \n",
       "\n",
       "                                                 name  \\\n",
       "YlTyBzagifcasFA0n8OpkQ     Jin Feng Braised Pork Rice   \n",
       "8Qbbb9EaqdTaAI09WQuIzA                Fuhang Soy Milk   \n",
       "5gNHAIyajmJ_4i5vXwOVRw          Yong He Soy Milk King   \n",
       "0ccCDXUfKrwoU1ciD2CIew                     萬華陳記專業腸蚵麵線   \n",
       "Xbmdhb5PEfbAPNxzghWCRQ  Addiction Aquatic Development   \n",
       "Smu2CQeGeGnPnqxVmaAejg                 Soup Dumplings   \n",
       "TexN3c8guzJoyOVdD5kAOA                          原西園橋下   \n",
       "\n",
       "                                                                image_url  \\\n",
       "YlTyBzagifcasFA0n8OpkQ  https://s3-media4.fl.yelpcdn.com/bphoto/90r5r4...   \n",
       "8Qbbb9EaqdTaAI09WQuIzA  https://s3-media3.fl.yelpcdn.com/bphoto/zi5tIk...   \n",
       "5gNHAIyajmJ_4i5vXwOVRw  https://s3-media2.fl.yelpcdn.com/bphoto/g_CeWw...   \n",
       "0ccCDXUfKrwoU1ciD2CIew  https://s3-media2.fl.yelpcdn.com/bphoto/GsS6qu...   \n",
       "Xbmdhb5PEfbAPNxzghWCRQ  https://s3-media4.fl.yelpcdn.com/bphoto/tvdcWp...   \n",
       "Smu2CQeGeGnPnqxVmaAejg  https://s3-media3.fl.yelpcdn.com/bphoto/QkfgdC...   \n",
       "TexN3c8guzJoyOVdD5kAOA  https://s3-media4.fl.yelpcdn.com/bphoto/6VLb9h...   \n",
       "\n",
       "                                                                      url  \\\n",
       "YlTyBzagifcasFA0n8OpkQ  https://www.yelp.com/biz/%E9%87%91%E5%B3%B0%E9...   \n",
       "8Qbbb9EaqdTaAI09WQuIzA  https://www.yelp.com/biz/%E9%98%9C%E6%9D%AD%E8...   \n",
       "5gNHAIyajmJ_4i5vXwOVRw  https://www.yelp.com/biz/%E6%B0%B8%E5%92%8C%E8...   \n",
       "0ccCDXUfKrwoU1ciD2CIew  https://www.yelp.com/biz/%E8%90%AC%E8%8F%AF%E9...   \n",
       "Xbmdhb5PEfbAPNxzghWCRQ  https://www.yelp.com/biz/%E4%B8%8A%E5%BC%95%E6...   \n",
       "Smu2CQeGeGnPnqxVmaAejg  https://www.yelp.com/biz/%E6%B9%AF%E5%8C%85-%E...   \n",
       "TexN3c8guzJoyOVdD5kAOA  https://www.yelp.com/biz/%E5%8E%9F%E8%A5%BF%E5...   \n",
       "\n",
       "                       price          phone     display_phone  \n",
       "YlTyBzagifcasFA0n8OpkQ     $  +886223960808  +886 2 2396 0808  \n",
       "8Qbbb9EaqdTaAI09WQuIzA     $  +886223922175  +886 2 2392 2175  \n",
       "5gNHAIyajmJ_4i5vXwOVRw     $  +886227035051  +886 2 2703 5051  \n",
       "0ccCDXUfKrwoU1ciD2CIew     $  +886223041979  +886 2 2304 1979  \n",
       "Xbmdhb5PEfbAPNxzghWCRQ    $$  +886225081268  +886 2 2508 1268  \n",
       "Smu2CQeGeGnPnqxVmaAejg   NaN  +886223717762  +886 2 2371 7762  \n",
       "TexN3c8guzJoyOVdD5kAOA   NaN                                   "
      ]
     },
     "execution_count": 22,
     "metadata": {},
     "output_type": "execute_result"
    }
   ],
   "source": [
    "## more data-specific way of summarizing\n",
    "## we're doing a simple approach and just retaining\n",
    "## cols that have a simple str structure\n",
    "## if doing for real, would want to extract things\n",
    "def clean_yelp_json(one_biz):\n",
    "\n",
    "    ## restrict to str cols\n",
    "    d_str = {key:value for key, value in one_biz.items()\n",
    "             if type(value) == str}\n",
    "    \n",
    "    df_str = pd.DataFrame(d_str, index = [d_str['id']])\n",
    "    return(df_str)\n",
    "\n",
    "yelp_stronly = [clean_yelp_json(one_b) for one_b in yelp_genjson['businesses']]\n",
    "yelp_stronly_df = pd.concat(yelp_stronly)\n",
    "\n",
    "yelp_stronly_df.head(7)\n"
   ]
  },
  {
   "cell_type": "markdown",
   "metadata": {},
   "source": [
    "# Activity 2: pull restaurants in a different location\n",
    "\n",
    "- Try running a business search query for your hometown or another place by constructing a query similar to `yelp_genquery` but changing the location parameter\n",
    "- Other endpoints require feeding what's called the business' fusion id into the API. Take an id from `yelp_stronly.id` and use the documentation here to pull the reviews for that business: https://docs.developer.yelp.com/reference/v3_business_reviews\n",
    "- **Challenge**: generalize the previous step by writing a function that (1) takes a list of business ids as an input, (2) calls the reviews API for each id, (3) returns the results, and (4) rowbinds all results, i.e. turns them into a single, usable DataFrame"
   ]
  },
  {
   "cell_type": "code",
   "execution_count": 25,
   "metadata": {},
   "outputs": [
    {
     "ename": "KeyError",
     "evalue": "'reviews'",
     "output_type": "error",
     "traceback": [
      "\u001b[0;31m---------------------------------------------------------------------------\u001b[0m",
      "\u001b[0;31mKeyError\u001b[0m                                  Traceback (most recent call last)",
      "Cell \u001b[0;32mIn[25], line 16\u001b[0m\n\u001b[1;32m     14\u001b[0m     final_df \u001b[38;5;241m=\u001b[39m pd\u001b[38;5;241m.\u001b[39mDataFrame(total_reviews)\n\u001b[1;32m     15\u001b[0m     \u001b[38;5;28;01mreturn\u001b[39;00m final_df\n\u001b[0;32m---> 16\u001b[0m get_business_reviews([\u001b[38;5;124m\"\u001b[39m\u001b[38;5;124mMRTdhLfHe-Uw-qQnQXxgVg\u001b[39m\u001b[38;5;124m\"\u001b[39m, \u001b[38;5;124m\"\u001b[39m\u001b[38;5;124mPqyJx0ndtwBT9wLeFYnhoQ\u001b[39m\u001b[38;5;124m\"\u001b[39m, \u001b[38;5;124m\"\u001b[39m\u001b[38;5;124mzeFASIGTjBwwPNf0ab86Jw\u001b[39m\u001b[38;5;124m\"\u001b[39m])\n",
      "Cell \u001b[0;32mIn[25], line 9\u001b[0m, in \u001b[0;36mget_business_reviews\u001b[0;34m(business_ids)\u001b[0m\n\u001b[1;32m      7\u001b[0m yelp_genresp \u001b[38;5;241m=\u001b[39m requests\u001b[38;5;241m.\u001b[39mget(total_query, headers \u001b[38;5;241m=\u001b[39m header)\n\u001b[1;32m      8\u001b[0m yelp_genresp\n\u001b[0;32m----> 9\u001b[0m yelp_genjson \u001b[38;5;241m=\u001b[39m yelp_genresp\u001b[38;5;241m.\u001b[39mjson()[\u001b[38;5;124m'\u001b[39m\u001b[38;5;124mreviews\u001b[39m\u001b[38;5;124m'\u001b[39m]\n\u001b[1;32m     10\u001b[0m yelp_genjson\n\u001b[1;32m     11\u001b[0m \u001b[38;5;28;01mfor\u001b[39;00m rev_dict \u001b[38;5;129;01min\u001b[39;00m yelp_genjson:\n",
      "\u001b[0;31mKeyError\u001b[0m: 'reviews'"
     ]
    }
   ],
   "source": [
    "def get_business_reviews(business_ids):\n",
    "    base_url = \"https://api.yelp.com/v3/businesses/{}/reviews\"\n",
    "    header = {'Authorization': f\"Bearer {API_KEY}\"}\n",
    "    total_reviews = []\n",
    "    \n",
    "    for bus_id in business_ids:\n",
    "        total_query = base_url.format(bus_id)\n",
    "        yelp_genresp = requests.get(total_query, headers = header)\n",
    "        yelp_genresp\n",
    "        yelp_genjson = yelp_genresp.json()['reviews']\n",
    "        yelp_genjson\n",
    "        for rev_dict in yelp_genjson:\n",
    "            rev_dict[\"business_id\"] = bus_id\n",
    "        total_reviews += yelp_genjson\n",
    "    final_df = pd.DataFrame(total_reviews)\n",
    "    return final_df\n",
    "\n",
    "\n",
    "get_business_reviews([\"MRTdhLfHe-Uw-qQnQXxgVg\", \"PqyJx0ndtwBT9wLeFYnhoQ\", \"zeFASIGTjBwwPNf0ab86Jw\"])"
   ]
  }
 ],
 "metadata": {
  "kernelspec": {
   "display_name": "Python 3 (ipykernel)",
   "language": "python",
   "name": "python3"
  },
  "language_info": {
   "codemirror_mode": {
    "name": "ipython",
    "version": 3
   },
   "file_extension": ".py",
   "mimetype": "text/x-python",
   "name": "python",
   "nbconvert_exporter": "python",
   "pygments_lexer": "ipython3",
   "version": "3.11.7"
  }
 },
 "nbformat": 4,
 "nbformat_minor": 4
}
