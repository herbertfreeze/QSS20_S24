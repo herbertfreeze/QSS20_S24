{
 "cells": [
  {
   "cell_type": "markdown",
   "metadata": {},
   "source": [
    "# Problem Set 1: Analysis of racial disparities in felony sentencing"
   ]
  },
  {
   "cell_type": "markdown",
   "metadata": {},
   "source": [
    "# 0. Load packages and imports"
   ]
  },
  {
   "cell_type": "code",
   "execution_count": 203,
   "metadata": {},
   "outputs": [],
   "source": [
    "## basic functionality\n",
    "import pandas as pd\n",
    "import numpy as np\n",
    "import re\n",
    "import matplotlib.pyplot as plt\n",
    "import seaborn as sns\n",
    "\n",
    "## can add others if you need them\n",
    "\n",
    "## repeated printouts\n",
    "from IPython.core.interactiveshell import InteractiveShell\n",
    "InteractiveShell.ast_node_interactivity = \"all\"\n"
   ]
  },
  {
   "cell_type": "markdown",
   "metadata": {},
   "source": [
    "## 0.1: Load the data (0 points)\n",
    "\n",
    "Load the `sentencing_asof0405.csv` data\n",
    "\n",
    "*Notes*: You may receive a warning about mixed data types upon import; feel free to ignore"
   ]
  },
  {
   "cell_type": "code",
   "execution_count": 204,
   "metadata": {},
   "outputs": [
    {
     "name": "stderr",
     "output_type": "stream",
     "text": [
      "/var/folders/xc/0mc4v93x1sl61jqqdrj91f7c0000gn/T/ipykernel_81331/2103473006.py:1: DtypeWarning: Columns (10,11,14,25) have mixed types. Specify dtype option on import or set low_memory=False.\n",
      "  df = pd.read_csv(\"sentencing_asof0405.csv\")\n"
     ]
    }
   ],
   "source": [
    "df = pd.read_csv(\"sentencing_asof0405.csv\")"
   ]
  },
  {
   "cell_type": "markdown",
   "metadata": {},
   "source": [
    "## 0.2: Print head, dimensions, info (0 points)"
   ]
  },
  {
   "cell_type": "code",
   "execution_count": 205,
   "metadata": {},
   "outputs": [
    {
     "data": {
      "text/html": [
       "<div>\n",
       "<style scoped>\n",
       "    .dataframe tbody tr th:only-of-type {\n",
       "        vertical-align: middle;\n",
       "    }\n",
       "\n",
       "    .dataframe tbody tr th {\n",
       "        vertical-align: top;\n",
       "    }\n",
       "\n",
       "    .dataframe thead th {\n",
       "        text-align: right;\n",
       "    }\n",
       "</style>\n",
       "<table border=\"1\" class=\"dataframe\">\n",
       "  <thead>\n",
       "    <tr style=\"text-align: right;\">\n",
       "      <th></th>\n",
       "      <th>CASE_ID</th>\n",
       "      <th>CASE_PARTICIPANT_ID</th>\n",
       "      <th>RECEIVED_DATE</th>\n",
       "      <th>OFFENSE_CATEGORY</th>\n",
       "      <th>PRIMARY_CHARGE_FLAG</th>\n",
       "      <th>CHARGE_ID</th>\n",
       "      <th>CHARGE_VERSION_ID</th>\n",
       "      <th>DISPOSITION_CHARGED_OFFENSE_TITLE</th>\n",
       "      <th>CHARGE_COUNT</th>\n",
       "      <th>DISPOSITION_DATE</th>\n",
       "      <th>...</th>\n",
       "      <th>INCIDENT_CITY</th>\n",
       "      <th>INCIDENT_BEGIN_DATE</th>\n",
       "      <th>INCIDENT_END_DATE</th>\n",
       "      <th>LAW_ENFORCEMENT_AGENCY</th>\n",
       "      <th>LAW_ENFORCEMENT_UNIT</th>\n",
       "      <th>ARREST_DATE</th>\n",
       "      <th>FELONY_REVIEW_DATE</th>\n",
       "      <th>FELONY_REVIEW_RESULT</th>\n",
       "      <th>ARRAIGNMENT_DATE</th>\n",
       "      <th>UPDATED_OFFENSE_CATEGORY</th>\n",
       "    </tr>\n",
       "  </thead>\n",
       "  <tbody>\n",
       "    <tr>\n",
       "      <th>0</th>\n",
       "      <td>149765331439</td>\n",
       "      <td>175691153649</td>\n",
       "      <td>8/15/1984 12:00:00 AM</td>\n",
       "      <td>PROMIS Conversion</td>\n",
       "      <td>False</td>\n",
       "      <td>50510112469</td>\n",
       "      <td>116304211997</td>\n",
       "      <td>FIRST DEGREE MURDER</td>\n",
       "      <td>2</td>\n",
       "      <td>12/17/2014 12:00:00 AM</td>\n",
       "      <td>...</td>\n",
       "      <td>NaN</td>\n",
       "      <td>8/9/1984 12:00:00 AM</td>\n",
       "      <td>NaN</td>\n",
       "      <td>CHICAGO POLICE DEPT</td>\n",
       "      <td>NaN</td>\n",
       "      <td>8/15/1984 12:00:00 AM</td>\n",
       "      <td>08/15/1984 12:00:00 AM</td>\n",
       "      <td>Charge(S) Approved</td>\n",
       "      <td>9/21/1984 12:00:00 AM</td>\n",
       "      <td>Homicide</td>\n",
       "    </tr>\n",
       "    <tr>\n",
       "      <th>1</th>\n",
       "      <td>149765331439</td>\n",
       "      <td>175691153649</td>\n",
       "      <td>8/15/1984 12:00:00 AM</td>\n",
       "      <td>PROMIS Conversion</td>\n",
       "      <td>False</td>\n",
       "      <td>50510213021</td>\n",
       "      <td>98265074680</td>\n",
       "      <td>HOME INVASION</td>\n",
       "      <td>14</td>\n",
       "      <td>12/17/2014 12:00:00 AM</td>\n",
       "      <td>...</td>\n",
       "      <td>NaN</td>\n",
       "      <td>8/9/1984 12:00:00 AM</td>\n",
       "      <td>NaN</td>\n",
       "      <td>CHICAGO POLICE DEPT</td>\n",
       "      <td>NaN</td>\n",
       "      <td>8/15/1984 12:00:00 AM</td>\n",
       "      <td>08/15/1984 12:00:00 AM</td>\n",
       "      <td>Charge(S) Approved</td>\n",
       "      <td>9/21/1984 12:00:00 AM</td>\n",
       "      <td>Homicide</td>\n",
       "    </tr>\n",
       "    <tr>\n",
       "      <th>2</th>\n",
       "      <td>149765331439</td>\n",
       "      <td>175691153649</td>\n",
       "      <td>8/15/1984 12:00:00 AM</td>\n",
       "      <td>PROMIS Conversion</td>\n",
       "      <td>False</td>\n",
       "      <td>50516447217</td>\n",
       "      <td>131972895911</td>\n",
       "      <td>FIRST DEGREE MURDER</td>\n",
       "      <td>4</td>\n",
       "      <td>12/17/2014 12:00:00 AM</td>\n",
       "      <td>...</td>\n",
       "      <td>NaN</td>\n",
       "      <td>8/9/1984 12:00:00 AM</td>\n",
       "      <td>NaN</td>\n",
       "      <td>CHICAGO POLICE DEPT</td>\n",
       "      <td>NaN</td>\n",
       "      <td>8/15/1984 12:00:00 AM</td>\n",
       "      <td>08/15/1984 12:00:00 AM</td>\n",
       "      <td>Charge(S) Approved</td>\n",
       "      <td>9/21/1984 12:00:00 AM</td>\n",
       "      <td>Homicide</td>\n",
       "    </tr>\n",
       "    <tr>\n",
       "      <th>3</th>\n",
       "      <td>149765331439</td>\n",
       "      <td>175691153649</td>\n",
       "      <td>8/15/1984 12:00:00 AM</td>\n",
       "      <td>PROMIS Conversion</td>\n",
       "      <td>False</td>\n",
       "      <td>50516497493</td>\n",
       "      <td>131966356472</td>\n",
       "      <td>FIRST DEGREE MURDER</td>\n",
       "      <td>5</td>\n",
       "      <td>12/17/2014 12:00:00 AM</td>\n",
       "      <td>...</td>\n",
       "      <td>NaN</td>\n",
       "      <td>8/9/1984 12:00:00 AM</td>\n",
       "      <td>NaN</td>\n",
       "      <td>CHICAGO POLICE DEPT</td>\n",
       "      <td>NaN</td>\n",
       "      <td>8/15/1984 12:00:00 AM</td>\n",
       "      <td>08/15/1984 12:00:00 AM</td>\n",
       "      <td>Charge(S) Approved</td>\n",
       "      <td>9/21/1984 12:00:00 AM</td>\n",
       "      <td>Homicide</td>\n",
       "    </tr>\n",
       "    <tr>\n",
       "      <th>4</th>\n",
       "      <td>149765331439</td>\n",
       "      <td>175691153649</td>\n",
       "      <td>8/15/1984 12:00:00 AM</td>\n",
       "      <td>PROMIS Conversion</td>\n",
       "      <td>False</td>\n",
       "      <td>50516648320</td>\n",
       "      <td>98059642859</td>\n",
       "      <td>HOME INVASION</td>\n",
       "      <td>13</td>\n",
       "      <td>12/17/2014 12:00:00 AM</td>\n",
       "      <td>...</td>\n",
       "      <td>NaN</td>\n",
       "      <td>8/9/1984 12:00:00 AM</td>\n",
       "      <td>NaN</td>\n",
       "      <td>CHICAGO POLICE DEPT</td>\n",
       "      <td>NaN</td>\n",
       "      <td>8/15/1984 12:00:00 AM</td>\n",
       "      <td>08/15/1984 12:00:00 AM</td>\n",
       "      <td>Charge(S) Approved</td>\n",
       "      <td>9/21/1984 12:00:00 AM</td>\n",
       "      <td>Homicide</td>\n",
       "    </tr>\n",
       "  </tbody>\n",
       "</table>\n",
       "<p>5 rows × 41 columns</p>\n",
       "</div>"
      ],
      "text/plain": [
       "        CASE_ID  CASE_PARTICIPANT_ID          RECEIVED_DATE  \\\n",
       "0  149765331439         175691153649  8/15/1984 12:00:00 AM   \n",
       "1  149765331439         175691153649  8/15/1984 12:00:00 AM   \n",
       "2  149765331439         175691153649  8/15/1984 12:00:00 AM   \n",
       "3  149765331439         175691153649  8/15/1984 12:00:00 AM   \n",
       "4  149765331439         175691153649  8/15/1984 12:00:00 AM   \n",
       "\n",
       "    OFFENSE_CATEGORY  PRIMARY_CHARGE_FLAG    CHARGE_ID  CHARGE_VERSION_ID  \\\n",
       "0  PROMIS Conversion                False  50510112469       116304211997   \n",
       "1  PROMIS Conversion                False  50510213021        98265074680   \n",
       "2  PROMIS Conversion                False  50516447217       131972895911   \n",
       "3  PROMIS Conversion                False  50516497493       131966356472   \n",
       "4  PROMIS Conversion                False  50516648320        98059642859   \n",
       "\n",
       "  DISPOSITION_CHARGED_OFFENSE_TITLE  CHARGE_COUNT        DISPOSITION_DATE  \\\n",
       "0               FIRST DEGREE MURDER             2  12/17/2014 12:00:00 AM   \n",
       "1                     HOME INVASION            14  12/17/2014 12:00:00 AM   \n",
       "2               FIRST DEGREE MURDER             4  12/17/2014 12:00:00 AM   \n",
       "3               FIRST DEGREE MURDER             5  12/17/2014 12:00:00 AM   \n",
       "4                     HOME INVASION            13  12/17/2014 12:00:00 AM   \n",
       "\n",
       "   ... INCIDENT_CITY   INCIDENT_BEGIN_DATE INCIDENT_END_DATE  \\\n",
       "0  ...           NaN  8/9/1984 12:00:00 AM               NaN   \n",
       "1  ...           NaN  8/9/1984 12:00:00 AM               NaN   \n",
       "2  ...           NaN  8/9/1984 12:00:00 AM               NaN   \n",
       "3  ...           NaN  8/9/1984 12:00:00 AM               NaN   \n",
       "4  ...           NaN  8/9/1984 12:00:00 AM               NaN   \n",
       "\n",
       "  LAW_ENFORCEMENT_AGENCY LAW_ENFORCEMENT_UNIT            ARREST_DATE  \\\n",
       "0    CHICAGO POLICE DEPT                  NaN  8/15/1984 12:00:00 AM   \n",
       "1    CHICAGO POLICE DEPT                  NaN  8/15/1984 12:00:00 AM   \n",
       "2    CHICAGO POLICE DEPT                  NaN  8/15/1984 12:00:00 AM   \n",
       "3    CHICAGO POLICE DEPT                  NaN  8/15/1984 12:00:00 AM   \n",
       "4    CHICAGO POLICE DEPT                  NaN  8/15/1984 12:00:00 AM   \n",
       "\n",
       "       FELONY_REVIEW_DATE FELONY_REVIEW_RESULT       ARRAIGNMENT_DATE  \\\n",
       "0  08/15/1984 12:00:00 AM   Charge(S) Approved  9/21/1984 12:00:00 AM   \n",
       "1  08/15/1984 12:00:00 AM   Charge(S) Approved  9/21/1984 12:00:00 AM   \n",
       "2  08/15/1984 12:00:00 AM   Charge(S) Approved  9/21/1984 12:00:00 AM   \n",
       "3  08/15/1984 12:00:00 AM   Charge(S) Approved  9/21/1984 12:00:00 AM   \n",
       "4  08/15/1984 12:00:00 AM   Charge(S) Approved  9/21/1984 12:00:00 AM   \n",
       "\n",
       "  UPDATED_OFFENSE_CATEGORY  \n",
       "0                 Homicide  \n",
       "1                 Homicide  \n",
       "2                 Homicide  \n",
       "3                 Homicide  \n",
       "4                 Homicide  \n",
       "\n",
       "[5 rows x 41 columns]"
      ]
     },
     "execution_count": 205,
     "metadata": {},
     "output_type": "execute_result"
    },
    {
     "data": {
      "text/plain": [
       "(248146, 41)"
      ]
     },
     "execution_count": 205,
     "metadata": {},
     "output_type": "execute_result"
    },
    {
     "name": "stdout",
     "output_type": "stream",
     "text": [
      "<class 'pandas.core.frame.DataFrame'>\n",
      "RangeIndex: 248146 entries, 0 to 248145\n",
      "Data columns (total 41 columns):\n",
      " #   Column                             Non-Null Count   Dtype  \n",
      "---  ------                             --------------   -----  \n",
      " 0   CASE_ID                            248146 non-null  int64  \n",
      " 1   CASE_PARTICIPANT_ID                248146 non-null  int64  \n",
      " 2   RECEIVED_DATE                      248146 non-null  object \n",
      " 3   OFFENSE_CATEGORY                   248146 non-null  object \n",
      " 4   PRIMARY_CHARGE_FLAG                248146 non-null  bool   \n",
      " 5   CHARGE_ID                          248146 non-null  int64  \n",
      " 6   CHARGE_VERSION_ID                  248146 non-null  int64  \n",
      " 7   DISPOSITION_CHARGED_OFFENSE_TITLE  248146 non-null  object \n",
      " 8   CHARGE_COUNT                       248146 non-null  int64  \n",
      " 9   DISPOSITION_DATE                   248146 non-null  object \n",
      " 10  DISPOSITION_CHARGED_CHAPTER        248146 non-null  object \n",
      " 11  DISPOSITION_CHARGED_ACT            242771 non-null  object \n",
      " 12  DISPOSITION_CHARGED_SECTION        242771 non-null  object \n",
      " 13  DISPOSITION_CHARGED_CLASS          248127 non-null  object \n",
      " 14  DISPOSITION_CHARGED_AOIC           248122 non-null  object \n",
      " 15  CHARGE_DISPOSITION                 248146 non-null  object \n",
      " 16  CHARGE_DISPOSITION_REASON          904 non-null     object \n",
      " 17  SENTENCE_JUDGE                     247404 non-null  object \n",
      " 18  SENTENCE_COURT_NAME                246761 non-null  object \n",
      " 19  SENTENCE_COURT_FACILITY            246216 non-null  object \n",
      " 20  SENTENCE_PHASE                     248146 non-null  object \n",
      " 21  SENTENCE_DATE                      248146 non-null  object \n",
      " 22  SENTENCE_TYPE                      248146 non-null  object \n",
      " 23  CURRENT_SENTENCE_FLAG              248146 non-null  bool   \n",
      " 24  COMMITMENT_TYPE                    246464 non-null  object \n",
      " 25  COMMITMENT_TERM                    246434 non-null  object \n",
      " 26  COMMITMENT_UNIT                    246434 non-null  object \n",
      " 27  LENGTH_OF_CASE_in_Days             229126 non-null  float64\n",
      " 28  AGE_AT_INCIDENT                    238359 non-null  float64\n",
      " 29  RACE                               246879 non-null  object \n",
      " 30  GENDER                             247337 non-null  object \n",
      " 31  INCIDENT_CITY                      228745 non-null  object \n",
      " 32  INCIDENT_BEGIN_DATE                239122 non-null  object \n",
      " 33  INCIDENT_END_DATE                  22008 non-null   object \n",
      " 34  LAW_ENFORCEMENT_AGENCY             239405 non-null  object \n",
      " 35  LAW_ENFORCEMENT_UNIT               76408 non-null   object \n",
      " 36  ARREST_DATE                        242981 non-null  object \n",
      " 37  FELONY_REVIEW_DATE                 171907 non-null  object \n",
      " 38  FELONY_REVIEW_RESULT               171907 non-null  object \n",
      " 39  ARRAIGNMENT_DATE                   229126 non-null  object \n",
      " 40  UPDATED_OFFENSE_CATEGORY           248146 non-null  object \n",
      "dtypes: bool(2), float64(2), int64(5), object(32)\n",
      "memory usage: 74.3+ MB\n"
     ]
    }
   ],
   "source": [
    "df.head()\n",
    "df.shape\n",
    "df.info()"
   ]
  },
  {
   "cell_type": "markdown",
   "metadata": {},
   "source": [
    "# Part one: data cleaning/interpretation"
   ]
  },
  {
   "cell_type": "markdown",
   "metadata": {},
   "source": [
    "## 1.1: Understanding the unit of analysis (5 points)\n",
    "\n",
    "- Print the number of unique values for the following columns. Do so in a way that avoids copying/pasting code for \n",
    "the three:\n",
    "\n",
    "    - Cases (`CASE_ID`)\n",
    "    - People in that case (`CASE_PARTICIPANT_ID`)\n",
    "    - Charges (`CHARGE_ID`)\n",
    "\n",
    "- Write a couple sentences on the following and show an example of each (e.g., a case involving multiple people):\n",
    "    \n",
    "    - Why there are more unique people than unique cases?\n",
    "    - Why there are more unique charges than unique people?\n",
    "\n",
    "- Print the mean and median number of charges per case/participant \n",
    "\n",
    "- Print the mean and median number of participants per case\n",
    "\n",
    "- Does the data seem to enable us to follow the same defendant across different cases they're charged in? Write 1 sentence in support of your conclusion.\n"
   ]
  },
  {
   "cell_type": "code",
   "execution_count": 206,
   "metadata": {},
   "outputs": [
    {
     "name": "stdout",
     "output_type": "stream",
     "text": [
      "Unique values in CASE_ID: 197519\n",
      "Unique values in CASE_PARTICIPANT_ID: 211977\n",
      "Unique values in CHARGE_ID: 229015\n"
     ]
    }
   ],
   "source": [
    "columns = [\"CASE_ID\", \"CASE_PARTICIPANT_ID\", \"CHARGE_ID\"]\n",
    "\n",
    "for col in columns:\n",
    "    count = df[col].nunique()\n",
    "    print(f\"Unique values in {col}: {count}\")"
   ]
  },
  {
   "cell_type": "markdown",
   "metadata": {},
   "source": [
    "There may be more unique people than unique cases because certain cases/crimes involve multiple people/perpetrators. We find these cases with multiple participants below:"
   ]
  },
  {
   "cell_type": "code",
   "execution_count": 207,
   "metadata": {},
   "outputs": [
    {
     "data": {
      "text/plain": [
       "CASE_ID\n",
       "166402790922    2\n",
       "176098576921    2\n",
       "176270837451    2\n",
       "180953886081    2\n",
       "181880245351    4\n",
       "               ..\n",
       "442924851235    2\n",
       "443338247136    2\n",
       "443405066012    2\n",
       "443440604843    2\n",
       "443593921120    2\n",
       "Name: CASE_PARTICIPANT_ID, Length: 12288, dtype: int64"
      ]
     },
     "execution_count": 207,
     "metadata": {},
     "output_type": "execute_result"
    }
   ],
   "source": [
    "participant_per_case_count = df.groupby('CASE_ID')['CASE_PARTICIPANT_ID'].nunique()\n",
    "multiple_participant_cases = participant_per_case_count[participant_per_case_count > 1]\n",
    "multiple_participant_cases # all these cases have multiple case participants"
   ]
  },
  {
   "cell_type": "markdown",
   "metadata": {},
   "source": [
    "There may be more unique charges than unique people because a given person can have multiple charges. We find these people below:"
   ]
  },
  {
   "cell_type": "code",
   "execution_count": 208,
   "metadata": {
    "scrolled": true
   },
   "outputs": [
    {
     "data": {
      "text/plain": [
       "CASE_PARTICIPANT_ID\n",
       "97581722610     4\n",
       "97603050731     2\n",
       "102758793737    2\n",
       "113431347854    8\n",
       "117303251208    6\n",
       "               ..\n",
       "901692945079    2\n",
       "901899525864    3\n",
       "904336027784    2\n",
       "904972002160    2\n",
       "905015885242    2\n",
       "Name: CHARGE_ID, Length: 14547, dtype: int64"
      ]
     },
     "execution_count": 208,
     "metadata": {},
     "output_type": "execute_result"
    }
   ],
   "source": [
    "charges_per_participant_count = df.groupby('CASE_PARTICIPANT_ID')['CHARGE_ID'].nunique()\n",
    "multiple_charges = charges_per_participant_count[charges_per_participant_count > 1]\n",
    "multiple_charges # all these case participants have multiple charges"
   ]
  },
  {
   "cell_type": "code",
   "execution_count": 209,
   "metadata": {},
   "outputs": [
    {
     "data": {
      "text/plain": [
       "mean      1.159458\n",
       "median    1.000000\n",
       "Name: CHARGE_ID, dtype: float64"
      ]
     },
     "execution_count": 209,
     "metadata": {},
     "output_type": "execute_result"
    },
    {
     "data": {
      "text/plain": [
       "mean      1.126146\n",
       "median    1.000000\n",
       "Name: CHARGE_ID, dtype: float64"
      ]
     },
     "execution_count": 209,
     "metadata": {},
     "output_type": "execute_result"
    }
   ],
   "source": [
    "df.groupby('CASE_ID')['CHARGE_ID'].nunique().agg([\"mean\", \"median\"])\n",
    "df.groupby('CASE_PARTICIPANT_ID')['CHARGE_ID'].nunique().agg([\"mean\", \"median\"])"
   ]
  },
  {
   "cell_type": "code",
   "execution_count": 210,
   "metadata": {},
   "outputs": [
    {
     "data": {
      "text/plain": [
       "mean      1.073198\n",
       "median    1.000000\n",
       "Name: CASE_PARTICIPANT_ID, dtype: float64"
      ]
     },
     "execution_count": 210,
     "metadata": {},
     "output_type": "execute_result"
    }
   ],
   "source": [
    "df.groupby('CASE_ID')['CASE_PARTICIPANT_ID'].nunique().agg([\"mean\", \"median\"])"
   ]
  },
  {
   "cell_type": "markdown",
   "metadata": {},
   "source": [
    "The data does not seem to allow us to follow participants across different cases. This is because the participant_ID is specific to the case. Below I show that there are no case participant ids with multiple cases associated to it."
   ]
  },
  {
   "cell_type": "code",
   "execution_count": 211,
   "metadata": {},
   "outputs": [
    {
     "data": {
      "text/plain": [
       "Series([], Name: CASE_ID, dtype: int64)"
      ]
     },
     "execution_count": 211,
     "metadata": {},
     "output_type": "execute_result"
    }
   ],
   "source": [
    "cases_per_participant_count = df.groupby('CASE_PARTICIPANT_ID')['CASE_ID'].nunique()\n",
    "multiple_cases = cases_per_participant_count[cases_per_participant_count > 1]\n",
    "multiple_cases"
   ]
  },
  {
   "cell_type": "markdown",
   "metadata": {},
   "source": [
    "## 1.2.1: Which offense is final? (3 points)\n",
    "\n",
    "- First, read the data documentation [link](https://datacatalog.cookcountyil.gov/api/views/tg8v-tm6u/files/8597cdda-f7e1-44d1-b0ce-0a4e43f8c980?download=true&filename=CCSAO%20Data%20Glossary.pdf) and summarize in your own words the differences between `OFFENSE_CATEGORY` and `UPDATED_OFFENSE_CATEGORY` \n",
    "\n",
    "- Construct an indicator `is_changed_offense` that's True for case-participant-charge observations (rows) where there's a difference between the original charge (offense category) and the most current charge (updated offense category). What are some of the more common changed offenses? (can just print result of sort_values based on original offense category)\n",
    "\n",
    "- Print one example of a changed offense from one of these categories and comment on what the reason may be\n"
   ]
  },
  {
   "cell_type": "markdown",
   "metadata": {},
   "source": [
    "OFFENSE_CATEGORY is the offense category assigned before the charges are filed on a case, while UPDATED_OFFENSE_CATEGORY is based off the primary charge. These two can differ as the case evolves over time."
   ]
  },
  {
   "cell_type": "code",
   "execution_count": 212,
   "metadata": {},
   "outputs": [
    {
     "name": "stdout",
     "output_type": "stream",
     "text": [
      "These are the most commonly changed offenses:\n",
      "OFFENSE_CATEGORY\n",
      "PROMIS Conversion               6394\n",
      "DUI                             3896\n",
      "UUW - Unlawful Use of Weapon    2155\n",
      "Other Offense                   2125\n",
      "Aggravated Battery              1927\n",
      "Burglary                        1513\n",
      "Attempt Homicide                1174\n",
      "Theft                           1025\n",
      "Domestic Battery                 793\n",
      "Aggravated DUI                   748\n",
      "Name: count, dtype: int64\n"
     ]
    }
   ],
   "source": [
    "df['is_changed_offense'] = df['OFFENSE_CATEGORY'] != df['UPDATED_OFFENSE_CATEGORY']\n",
    "offense_counts = df[df['is_changed_offense']]['OFFENSE_CATEGORY'].value_counts()\n",
    "sorted_counts = offense_counts.sort_values(ascending=False)\n",
    "\n",
    "\n",
    "print(\"These are the most commonly changed offenses:\")\n",
    "print(sorted_counts.head(10))"
   ]
  },
  {
   "cell_type": "code",
   "execution_count": 213,
   "metadata": {},
   "outputs": [
    {
     "name": "stdout",
     "output_type": "stream",
     "text": [
      "The original offense changed from DUI to Aggravated DUI\n"
     ]
    }
   ],
   "source": [
    "## One Example\n",
    "DUI = sorted_counts.index[1]\n",
    "example_changed_offense = df[(df['OFFENSE_CATEGORY'] == DUI) & df['is_changed_offense']].iloc[1]\n",
    "\n",
    "print(\"The original offense changed from \" + example_changed_offense.OFFENSE_CATEGORY + \" to \" + example_changed_offense.UPDATED_OFFENSE_CATEGORY)\n"
   ]
  },
  {
   "cell_type": "markdown",
   "metadata": {},
   "source": [
    "The charged offense changed from a DUI to an Aggravated DUI. This suggests that once a defendant was processed, more information regarding their DUI history or paperwork were brought to light as reasons prompting the status of Aggravated DUI include driving with an expired license or having multiple DUIs within a certain time period."
   ]
  },
  {
   "cell_type": "markdown",
   "metadata": {},
   "source": [
    "## 1.2.2: Simplifying the charges (5 points)\n",
    "\n",
    "Using the field (`UPDATED_OFFENSE_CATEGORY`), create a new field, `simplified_offense_derived`, that simplifies the many offense categories into broader buckets using the following process:\n",
    "\n",
    "First, combine all offenses beginning with \"Aggravated\" into a single category without that prefix (e.g., Aggravated Battery and Battery just becomes Battery)\n",
    "\n",
    "Then:\n",
    "- Combine all offenses with arson into a single arson category (`Arson`)\n",
    "- Combine all offenses with homicide into a single homicide category (`Homicide`)\n",
    "- Combine all offenses with vehicle/vehicular in the name into a single vehicle category (`Vehicle-related`)\n",
    "- Combine all offenses with battery in the name into a single battery category (`Battery`)\n",
    "\n",
    "Try to do so efficiently (e.g., using map and a dictionary or np.select rather than separate line for each recoded offense)\n",
    "\n",
    "Print the difference between the # of unique offenses in the original `UPDATED_OFFENSE_CATEGORY` field and the # of unique offenses in your new `simplified_offense_derived` field\n"
   ]
  },
  {
   "cell_type": "code",
   "execution_count": 214,
   "metadata": {},
   "outputs": [
    {
     "data": {
      "text/plain": [
       "array(['Homicide', 'PROMIS Conversion', 'Narcotics', 'Retail Theft',\n",
       "       'Other Offense', 'UUW - Unlawful Use of Weapon', 'Battery',\n",
       "       'Burglary', 'Sex Crimes', ' Fleeing and Eluding', ' DUI',\n",
       "       'Home Invasion', 'Attempt Armed Robbery', 'Arson', 'Theft',\n",
       "       'Driving With Suspended Or Revoked License', 'Identity Theft',\n",
       "       'Forgery', 'DUI', 'Robbery', 'Vehicle-related', 'Fraudulent ID',\n",
       "       'Criminal Damage to Property', 'Armed Robbery',\n",
       "       'Escape - Failure to Return', 'Fraud',\n",
       "       'Failure to Register as a Sex Offender', ' Discharge Firearm',\n",
       "       'Credit Card Cases', 'Kidnapping', 'Residential Burglary',\n",
       "       'Deceptive Practice', 'Violation Order Of Protection',\n",
       "       ' Identity Theft', 'Perjury', ' Robbery',\n",
       "       'Possession of Contraband in Penal Institution', 'Bribery',\n",
       "       'Dog Fighting', 'Intimidation', 'Stalking', 'Pandering',\n",
       "       'Impersonating Police Officer', 'Child Abduction',\n",
       "       'Disarming Police Officer', 'Violate Bail Bond',\n",
       "       'Human Trafficking', 'Theft by Deception',\n",
       "       'Reckless Discharge of Firearm', 'Criminal Trespass To Residence',\n",
       "       'Child Pornography', 'Prostitution', 'Major Accidents',\n",
       "       'Gun Running', ' Assault Police Officer',\n",
       "       'Possession Of Burglary Tools',\n",
       "       'Violation of Sex Offender Registration', 'Armed Violence',\n",
       "       'Unlawful Restraint', 'Obstructing Justice', 'Official Misconduct',\n",
       "       'Bomb Threat', 'Hate Crimes', 'Tampering',\n",
       "       'Communicating With Witness', 'Gun - Non UUW',\n",
       "       'Possession of Explosives', 'Gambling'], dtype=object)"
      ]
     },
     "execution_count": 214,
     "metadata": {},
     "output_type": "execute_result"
    }
   ],
   "source": [
    "# Remove aggravated\n",
    "df['simplified_offense_derived'] = df['UPDATED_OFFENSE_CATEGORY'].str.replace(\"Aggravated\", \"\")\n",
    "\n",
    "cats = [\"Arson\", \"Homicide\", \"Vehicle-related\", \"Battery\"]\n",
    "\n",
    "conditions = [df['UPDATED_OFFENSE_CATEGORY'].str.contains(\"Arson\", case = False),\n",
    "              df['UPDATED_OFFENSE_CATEGORY'].str.contains(\"Homicide\", case = False),\n",
    "              df['UPDATED_OFFENSE_CATEGORY'].str.contains(\"Vehicle|Vehicular\", case = False),\n",
    "              df['UPDATED_OFFENSE_CATEGORY'].str.contains(\"Battery\", case = False)]\n",
    "\n",
    "df['simplified_offense_derived'] = np.select(conditions, cats, default = df['simplified_offense_derived'])\n",
    "\n",
    "df['simplified_offense_derived'].unique()"
   ]
  },
  {
   "cell_type": "code",
   "execution_count": 215,
   "metadata": {},
   "outputs": [
    {
     "name": "stdout",
     "output_type": "stream",
     "text": [
      "Difference is: 11\n"
     ]
    }
   ],
   "source": [
    "print(f\"Difference is: {df['UPDATED_OFFENSE_CATEGORY'].nunique() - df['simplified_offense_derived'].nunique()}\")"
   ]
  },
  {
   "cell_type": "markdown",
   "metadata": {},
   "source": [
    "## 1.3: Cleaning additional variables (10 points)\n",
    "\n",
    "Clean the following variables; make sure to retain the original variable in data and use the derived suffix so it's easier to pull these cleaned out variables later (e.g., `age_derived`) to indicate this was a transformation\n",
    "\n",
    "- Race: create True/false indicators for `is_black_derived` (Black only or mixed race with hispanic), Non-Black Hispanic, so either hispanic alone or white hispanic (`is_hisp_derived`), White non-hispanic (`is_white_derived`), or none of the above (`is_othereth_derived`)\n",
    "\n",
    "- Gender: create a boolean true/false indicator for `is_male_derived` (false is female, unknown, or other)\n",
    "\n",
    "- Age at incident: you notice outliers like 130-year olds. Winsorsize the top 0.01% of values to be equal to the 99.99th percentile value pre-winsorization. Call this `age_derived`\n",
    "\n",
    "- Create `sentenceymd_derived` that's a version of `SENTENCING_DATE` converted to datetime format. Also create a rounded version, `sentenceym_derived`, that's rounded down to the first of the month and the year (e.g., 01-05-2016 and 01-27-2016 each become 01-01-2016)\n",
    "    - Hint: all timestamps are midnight so u can strip in conversion. For full credit, before converting, you notice that some of the years have been mistranscribed (e.g., 291X or 221X instead of 201X). Programatically fix those (eg 2914 -> 2014). Even after cleaning, there will still be some that are after the year 2021 that we'll filter out later. For partial credit, you can ignore the timestamps that cause errors and set errors = \"coerce\" within `pd.to_datetime()` to allow the conversion to proceed. \n",
    "\n",
    "- Sentencing judge: create an identifier (`judgeid_derived`) for each unique judge (`SENTENCE_JUDGE`) structured as judge_1, judge_2...., with the order determined by sorting the judges (will sort on fname then last). When finding unique judges, there are various duplicates we could weed out --- for now, just focus on (1) the different iterations of Doug/Douglas Simpson, (2) the different iterations of Shelley Sutker (who appears both with her maiden name and her hyphenated married name). \n",
    "     - Hint: due to mixed types, you may need to cast the `SENTENCE_JUDGE` var to a diff type to sort\n",
    "\n",
    "After finishing, print a random sample of 10 rows (data.sample(n = 10)) with the original and cleaned columns for the relevant variables to validate your work"
   ]
  },
  {
   "cell_type": "code",
   "execution_count": 216,
   "metadata": {},
   "outputs": [
    {
     "data": {
      "text/plain": [
       "array(['Black', 'White [Hispanic or Latino]', 'White', 'HISPANIC', nan,\n",
       "       'ASIAN', 'White/Black [Hispanic or Latino]', 'Asian',\n",
       "       'American Indian', 'Unknown', 'Biracial'], dtype=object)"
      ]
     },
     "execution_count": 216,
     "metadata": {},
     "output_type": "execute_result"
    }
   ],
   "source": [
    "# Check race variable names\n",
    "df['RACE'].unique()"
   ]
  },
  {
   "cell_type": "code",
   "execution_count": 217,
   "metadata": {},
   "outputs": [],
   "source": [
    "df['is_black_derived'] = df['RACE'].str.contains('Black')\n",
    "\n",
    "df['is_hisp_derived'] = (df['RACE'] == 'HISPANIC') | (df['RACE'] == 'White [Hispanic or Latino]')\n",
    "\n",
    "df['is_white_derived'] = df['RACE'] == 'White'\n",
    "\n",
    "df['is_othereth_derived'] = ~(df['is_black_derived'] | df['is_hisp_derived'] | df['is_white_derived'])"
   ]
  },
  {
   "cell_type": "code",
   "execution_count": 218,
   "metadata": {},
   "outputs": [],
   "source": [
    "df['is_male_derived'] = df['GENDER'] == 'Male'"
   ]
  },
  {
   "cell_type": "code",
   "execution_count": 219,
   "metadata": {},
   "outputs": [
    {
     "data": {
      "text/plain": [
       "137.0"
      ]
     },
     "execution_count": 219,
     "metadata": {},
     "output_type": "execute_result"
    },
    {
     "data": {
      "text/plain": [
       "81.0"
      ]
     },
     "execution_count": 219,
     "metadata": {},
     "output_type": "execute_result"
    },
    {
     "data": {
      "text/plain": [
       "81.0"
      ]
     },
     "execution_count": 219,
     "metadata": {},
     "output_type": "execute_result"
    }
   ],
   "source": [
    "df['AGE_AT_INCIDENT'].max() # check age max\n",
    "percentile_99 = df['AGE_AT_INCIDENT'].quantile(0.9999)\n",
    "percentile_99\n",
    "df['age_derived'] = np.where(df['AGE_AT_INCIDENT'] > percentile_99, percentile_99, df['AGE_AT_INCIDENT'])\n",
    "df['age_derived'].max() # new max"
   ]
  },
  {
   "cell_type": "code",
   "execution_count": 220,
   "metadata": {},
   "outputs": [
    {
     "name": "stderr",
     "output_type": "stream",
     "text": [
      "/var/folders/xc/0mc4v93x1sl61jqqdrj91f7c0000gn/T/ipykernel_81331/2217463218.py:8: UserWarning: Could not infer format, so each element will be parsed individually, falling back to `dateutil`. To ensure parsing is consistent and as-expected, please specify a format.\n",
      "  df['sentenceymd_derived'] = pd.to_datetime(df['SENTENCE_DATE'])\n"
     ]
    },
    {
     "data": {
      "text/plain": [
       "2436       4/26/2022 12:00:00 AM\n",
       "53545      6/26/2212 12:00:00 AM\n",
       "53546      6/26/2212 12:00:00 AM\n",
       "53547      6/26/2212 12:00:00 AM\n",
       "70529      4/22/2041 12:00:00 AM\n",
       "92468      5/11/2051 12:00:00 AM\n",
       "92469      5/11/2051 12:00:00 AM\n",
       "92470      5/11/2051 12:00:00 AM\n",
       "92471      5/11/2051 12:00:00 AM\n",
       "113202     6/24/2026 12:00:00 AM\n",
       "164201      3/4/2048 12:00:00 AM\n",
       "167067      6/8/2026 12:00:00 AM\n",
       "172426      4/4/2216 12:00:00 AM\n",
       "173833     5/17/2026 12:00:00 AM\n",
       "173922     2/18/2026 12:00:00 AM\n",
       "174044     10/3/2026 12:00:00 AM\n",
       "177942     4/14/2026 12:00:00 AM\n",
       "202234     7/21/2217 12:00:00 AM\n",
       "211851    11/26/2218 12:00:00 AM\n",
       "226318     1/29/2029 12:00:00 AM\n",
       "231390    10/26/2218 12:00:00 AM\n",
       "236602      7/8/2219 12:00:00 AM\n",
       "237934     6/27/2219 12:00:00 AM\n",
       "238876    11/25/2219 12:00:00 AM\n",
       "240217    12/31/2025 12:00:00 AM\n",
       "240218    12/31/2025 12:00:00 AM\n",
       "240822     1/12/2023 12:00:00 AM\n",
       "Name: SENTENCE_DATE, dtype: object"
      ]
     },
     "execution_count": 220,
     "metadata": {},
     "output_type": "execute_result"
    },
    {
     "data": {
      "text/plain": [
       "0        1986-06-01\n",
       "1        1986-06-01\n",
       "2        1986-06-01\n",
       "3        1986-06-01\n",
       "4        2014-10-01\n",
       "            ...    \n",
       "248141   2021-03-01\n",
       "248142   2021-03-01\n",
       "248143   2021-03-01\n",
       "248144   2021-03-01\n",
       "248145   2021-03-01\n",
       "Name: sentenceym_derived, Length: 248146, dtype: datetime64[ns]"
      ]
     },
     "execution_count": 220,
     "metadata": {},
     "output_type": "execute_result"
    }
   ],
   "source": [
    "df['SENTENCE_DATE'] = df['SENTENCE_DATE'].str.replace(\"220\", \"200\")\n",
    "df['SENTENCE_DATE'] = df['SENTENCE_DATE'].str.replace(\"210\", \"200\")\n",
    "df['SENTENCE_DATE'] = df['SENTENCE_DATE'].str.replace(\"290\", \"200\")\n",
    "df['SENTENCE_DATE'] = df['SENTENCE_DATE'].str.replace(\"291\", \"201\")\n",
    "df['SENTENCE_DATE'] = df['SENTENCE_DATE'].str.replace(\"211\", \"201\")\n",
    "\n",
    "\n",
    "df['sentenceymd_derived'] = pd.to_datetime(df['SENTENCE_DATE'])\n",
    "df[df['sentenceymd_derived'].dt.year > 2021]['SENTENCE_DATE']\n",
    "\n",
    "df['sentenceym_derived'] = df['sentenceymd_derived'].dt.to_period('M').dt.to_timestamp()\n",
    "df['sentenceym_derived']"
   ]
  },
  {
   "cell_type": "code",
   "execution_count": 221,
   "metadata": {},
   "outputs": [
    {
     "data": {
      "text/plain": [
       "1115          Doug  Simpson\n",
       "1621      Douglas J Simpson\n",
       "1651          Doug  Simpson\n",
       "1693          Doug  Simpson\n",
       "4169      Douglas J Simpson\n",
       "                ...        \n",
       "76045     Douglas J Simpson\n",
       "76963     Douglas J Simpson\n",
       "76964     Douglas J Simpson\n",
       "78023     Douglas J Simpson\n",
       "116866    Douglas J Simpson\n",
       "Name: SENTENCE_JUDGE, Length: 107, dtype: object"
      ]
     },
     "execution_count": 221,
     "metadata": {},
     "output_type": "execute_result"
    },
    {
     "data": {
      "text/plain": [
       "131              Shelley  Sutker\n",
       "142       Shelley  Sutker-Dermer\n",
       "236       Shelley  Sutker-Dermer\n",
       "258       Shelley  Sutker-Dermer\n",
       "442       Shelley  Sutker-Dermer\n",
       "                   ...          \n",
       "247790    Shelley  Sutker-Dermer\n",
       "247801    Shelley  Sutker-Dermer\n",
       "247804    Shelley  Sutker-Dermer\n",
       "247818    Shelley  Sutker-Dermer\n",
       "248069    Shelley  Sutker-Dermer\n",
       "Name: SENTENCE_JUDGE, Length: 2508, dtype: object"
      ]
     },
     "execution_count": 221,
     "metadata": {},
     "output_type": "execute_result"
    }
   ],
   "source": [
    "#Identify the different versions of Doug and Shelley's names\n",
    "mask = df['SENTENCE_JUDGE'].notna()\n",
    "filtered_df = df[mask]\n",
    "\n",
    "filtered_df[filtered_df['SENTENCE_JUDGE'].str.contains(\"Doug\")]['SENTENCE_JUDGE']\n",
    "filtered_df[filtered_df['SENTENCE_JUDGE'].str.contains(\"Shelley\")]['SENTENCE_JUDGE']"
   ]
  },
  {
   "cell_type": "code",
   "execution_count": 222,
   "metadata": {},
   "outputs": [
    {
     "name": "stdout",
     "output_type": "stream",
     "text": [
      "   judgeid_derived          SENTENCE_JUDGE\n",
      "0        judge_140           John  Mannion\n",
      "1        judge_140           John  Mannion\n",
      "2        judge_140           John  Mannion\n",
      "3        judge_140           John  Mannion\n",
      "4         judge_40       Clayton Jay Crane\n",
      "5        judge_140           John  Mannion\n",
      "6         judge_40       Clayton Jay Crane\n",
      "7        judge_140           John  Mannion\n",
      "8        judge_140           John  Mannion\n",
      "9         judge_40       Clayton Jay Crane\n",
      "10       judge_140           John  Mannion\n",
      "11       judge_114          James L Rhodes\n",
      "12       judge_312         Thomas V Gainer\n",
      "13       judge_114          James L Rhodes\n",
      "14       judge_312         Thomas V Gainer\n",
      "15       judge_114          James L Rhodes\n",
      "16       judge_312         Thomas V Gainer\n",
      "17       judge_312         Thomas V Gainer\n",
      "18       judge_163            Kay M Hanlon\n",
      "19       judge_333        William J Kunkle\n",
      "20        judge_84           Evelyn B Clay\n",
      "21        judge_84           Evelyn B Clay\n",
      "22        judge_84           Evelyn B Clay\n",
      "23        judge_84           Evelyn B Clay\n",
      "24        judge_84           Evelyn B Clay\n",
      "25        judge_84           Evelyn B Clay\n",
      "26       judge_316    Timothy Joseph Joyce\n",
      "27       judge_289         Steven J Goebel\n",
      "28       judge_289         Steven J Goebel\n",
      "29        judge_31          Carol M Howard\n",
      "30       judge_179   Lawrence Edward Flood\n",
      "31       judge_311         Thomas R Sumner\n",
      "32       judge_331         William H Hooks\n",
      "33       judge_212   Maura  Slattery Boyle\n",
      "34       judge_114          James L Rhodes\n",
      "35        judge_38  Christopher J Donnelly\n",
      "36       judge_114          James L Rhodes\n",
      "37       judge_298       Thaddeus L Wilson\n",
      "38       judge_298       Thaddeus L Wilson\n",
      "39       judge_298       Thaddeus L Wilson\n",
      "40       judge_228        Michael P Toomin\n",
      "41        judge_40       Clayton Jay Crane\n",
      "42       judge_276       Sharon M Sullivan\n",
      "43       judge_309      Thomas P Fecarotta\n",
      "44       judge_211       Matthew E Coghlan\n",
      "45       judge_155    Joseph Michael Claps\n",
      "46       judge_124         James R Epstein\n",
      "47       judge_151       Jorge Luis Alonso\n",
      "48       judge_151       Jorge Luis Alonso\n",
      "49       judge_164         Kenneth J Wadas\n"
     ]
    }
   ],
   "source": [
    "df['SENTENCE_JUDGE'] = df['SENTENCE_JUDGE'].str.replace(\"Doug Simpson\", \"Douglas J Simpson\")\n",
    "df['SENTENCE_JUDGE'] = df['SENTENCE_JUDGE'].str.replace(\"Shelley Sutker\", \"Shelley Sutker-Dermer\")\n",
    "\n",
    "df['SENTENCE_JUDGE'] = df['SENTENCE_JUDGE'].astype(str)\n",
    "df['judgeid_derived'] = df['SENTENCE_JUDGE'].astype('category').cat.codes\n",
    "df['judgeid_derived'] = 'judge_' + df['judgeid_derived'].astype(str)\n",
    "\n",
    "print(df[['judgeid_derived', 'SENTENCE_JUDGE']].head(50))"
   ]
  },
  {
   "cell_type": "code",
   "execution_count": 223,
   "metadata": {},
   "outputs": [
    {
     "data": {
      "text/html": [
       "<div>\n",
       "<style scoped>\n",
       "    .dataframe tbody tr th:only-of-type {\n",
       "        vertical-align: middle;\n",
       "    }\n",
       "\n",
       "    .dataframe tbody tr th {\n",
       "        vertical-align: top;\n",
       "    }\n",
       "\n",
       "    .dataframe thead th {\n",
       "        text-align: right;\n",
       "    }\n",
       "</style>\n",
       "<table border=\"1\" class=\"dataframe\">\n",
       "  <thead>\n",
       "    <tr style=\"text-align: right;\">\n",
       "      <th></th>\n",
       "      <th>RACE</th>\n",
       "      <th>is_black_derived</th>\n",
       "      <th>is_hisp_derived</th>\n",
       "      <th>is_white_derived</th>\n",
       "      <th>is_othereth_derived</th>\n",
       "      <th>GENDER</th>\n",
       "      <th>is_male_derived</th>\n",
       "      <th>AGE_AT_INCIDENT</th>\n",
       "      <th>age_derived</th>\n",
       "      <th>SENTENCE_DATE</th>\n",
       "      <th>sentenceymd_derived</th>\n",
       "      <th>sentenceym_derived</th>\n",
       "      <th>SENTENCE_JUDGE</th>\n",
       "      <th>judgeid_derived</th>\n",
       "    </tr>\n",
       "  </thead>\n",
       "  <tbody>\n",
       "    <tr>\n",
       "      <th>228767</th>\n",
       "      <td>White [Hispanic or Latino]</td>\n",
       "      <td>False</td>\n",
       "      <td>True</td>\n",
       "      <td>False</td>\n",
       "      <td>False</td>\n",
       "      <td>Male</td>\n",
       "      <td>True</td>\n",
       "      <td>26.0</td>\n",
       "      <td>26.0</td>\n",
       "      <td>6/20/2019 12:00:00 AM</td>\n",
       "      <td>2019-06-20</td>\n",
       "      <td>2019-06-01</td>\n",
       "      <td>Kerry M Kennedy</td>\n",
       "      <td>judge_167</td>\n",
       "    </tr>\n",
       "    <tr>\n",
       "      <th>192148</th>\n",
       "      <td>Black</td>\n",
       "      <td>True</td>\n",
       "      <td>False</td>\n",
       "      <td>False</td>\n",
       "      <td>False</td>\n",
       "      <td>Male</td>\n",
       "      <td>True</td>\n",
       "      <td>23.0</td>\n",
       "      <td>23.0</td>\n",
       "      <td>4/3/2017 12:00:00 AM</td>\n",
       "      <td>2017-04-03</td>\n",
       "      <td>2017-04-01</td>\n",
       "      <td>Steven G Watkins</td>\n",
       "      <td>judge_288</td>\n",
       "    </tr>\n",
       "    <tr>\n",
       "      <th>199404</th>\n",
       "      <td>White</td>\n",
       "      <td>False</td>\n",
       "      <td>False</td>\n",
       "      <td>True</td>\n",
       "      <td>False</td>\n",
       "      <td>Male</td>\n",
       "      <td>True</td>\n",
       "      <td>42.0</td>\n",
       "      <td>42.0</td>\n",
       "      <td>3/9/2017 12:00:00 AM</td>\n",
       "      <td>2017-03-09</td>\n",
       "      <td>2017-03-01</td>\n",
       "      <td>Thomas V Gainer</td>\n",
       "      <td>judge_312</td>\n",
       "    </tr>\n",
       "    <tr>\n",
       "      <th>179378</th>\n",
       "      <td>Black</td>\n",
       "      <td>True</td>\n",
       "      <td>False</td>\n",
       "      <td>False</td>\n",
       "      <td>False</td>\n",
       "      <td>Male</td>\n",
       "      <td>True</td>\n",
       "      <td>18.0</td>\n",
       "      <td>18.0</td>\n",
       "      <td>9/7/2016 12:00:00 AM</td>\n",
       "      <td>2016-09-07</td>\n",
       "      <td>2016-09-01</td>\n",
       "      <td>Diane Gordon Cannon</td>\n",
       "      <td>judge_61</td>\n",
       "    </tr>\n",
       "    <tr>\n",
       "      <th>154229</th>\n",
       "      <td>Black</td>\n",
       "      <td>True</td>\n",
       "      <td>False</td>\n",
       "      <td>False</td>\n",
       "      <td>False</td>\n",
       "      <td>Male</td>\n",
       "      <td>True</td>\n",
       "      <td>NaN</td>\n",
       "      <td>NaN</td>\n",
       "      <td>7/27/2018 12:00:00 AM</td>\n",
       "      <td>2018-07-27</td>\n",
       "      <td>2018-07-01</td>\n",
       "      <td>Ramon  Ocasio</td>\n",
       "      <td>judge_254</td>\n",
       "    </tr>\n",
       "    <tr>\n",
       "      <th>163473</th>\n",
       "      <td>White</td>\n",
       "      <td>False</td>\n",
       "      <td>False</td>\n",
       "      <td>True</td>\n",
       "      <td>False</td>\n",
       "      <td>Male</td>\n",
       "      <td>True</td>\n",
       "      <td>31.0</td>\n",
       "      <td>31.0</td>\n",
       "      <td>11/24/2015 12:00:00 AM</td>\n",
       "      <td>2015-11-24</td>\n",
       "      <td>2015-11-01</td>\n",
       "      <td>William G Lacy</td>\n",
       "      <td>judge_329</td>\n",
       "    </tr>\n",
       "    <tr>\n",
       "      <th>215324</th>\n",
       "      <td>Black</td>\n",
       "      <td>True</td>\n",
       "      <td>False</td>\n",
       "      <td>False</td>\n",
       "      <td>False</td>\n",
       "      <td>Male</td>\n",
       "      <td>True</td>\n",
       "      <td>55.0</td>\n",
       "      <td>55.0</td>\n",
       "      <td>8/29/2018 12:00:00 AM</td>\n",
       "      <td>2018-08-29</td>\n",
       "      <td>2018-08-01</td>\n",
       "      <td>Diane Gordon Cannon</td>\n",
       "      <td>judge_61</td>\n",
       "    </tr>\n",
       "    <tr>\n",
       "      <th>170050</th>\n",
       "      <td>Black</td>\n",
       "      <td>True</td>\n",
       "      <td>False</td>\n",
       "      <td>False</td>\n",
       "      <td>False</td>\n",
       "      <td>Male</td>\n",
       "      <td>True</td>\n",
       "      <td>37.0</td>\n",
       "      <td>37.0</td>\n",
       "      <td>1/18/2017 12:00:00 AM</td>\n",
       "      <td>2017-01-18</td>\n",
       "      <td>2017-01-01</td>\n",
       "      <td>Kenneth J Wadas</td>\n",
       "      <td>judge_164</td>\n",
       "    </tr>\n",
       "    <tr>\n",
       "      <th>46674</th>\n",
       "      <td>Black</td>\n",
       "      <td>True</td>\n",
       "      <td>False</td>\n",
       "      <td>False</td>\n",
       "      <td>False</td>\n",
       "      <td>Male</td>\n",
       "      <td>True</td>\n",
       "      <td>30.0</td>\n",
       "      <td>30.0</td>\n",
       "      <td>7/16/2012 12:00:00 AM</td>\n",
       "      <td>2012-07-16</td>\n",
       "      <td>2012-07-01</td>\n",
       "      <td>Nicholas R Ford</td>\n",
       "      <td>judge_236</td>\n",
       "    </tr>\n",
       "    <tr>\n",
       "      <th>100207</th>\n",
       "      <td>Black</td>\n",
       "      <td>True</td>\n",
       "      <td>False</td>\n",
       "      <td>False</td>\n",
       "      <td>False</td>\n",
       "      <td>Female</td>\n",
       "      <td>False</td>\n",
       "      <td>42.0</td>\n",
       "      <td>42.0</td>\n",
       "      <td>10/2/2013 12:00:00 AM</td>\n",
       "      <td>2013-10-02</td>\n",
       "      <td>2013-10-01</td>\n",
       "      <td>Lawrence Edward Flood</td>\n",
       "      <td>judge_179</td>\n",
       "    </tr>\n",
       "  </tbody>\n",
       "</table>\n",
       "</div>"
      ],
      "text/plain": [
       "                              RACE is_black_derived  is_hisp_derived  \\\n",
       "228767  White [Hispanic or Latino]            False             True   \n",
       "192148                       Black             True            False   \n",
       "199404                       White            False            False   \n",
       "179378                       Black             True            False   \n",
       "154229                       Black             True            False   \n",
       "163473                       White            False            False   \n",
       "215324                       Black             True            False   \n",
       "170050                       Black             True            False   \n",
       "46674                        Black             True            False   \n",
       "100207                       Black             True            False   \n",
       "\n",
       "        is_white_derived  is_othereth_derived  GENDER  is_male_derived  \\\n",
       "228767             False                False    Male             True   \n",
       "192148             False                False    Male             True   \n",
       "199404              True                False    Male             True   \n",
       "179378             False                False    Male             True   \n",
       "154229             False                False    Male             True   \n",
       "163473              True                False    Male             True   \n",
       "215324             False                False    Male             True   \n",
       "170050             False                False    Male             True   \n",
       "46674              False                False    Male             True   \n",
       "100207             False                False  Female            False   \n",
       "\n",
       "        AGE_AT_INCIDENT  age_derived           SENTENCE_DATE  \\\n",
       "228767             26.0         26.0   6/20/2019 12:00:00 AM   \n",
       "192148             23.0         23.0    4/3/2017 12:00:00 AM   \n",
       "199404             42.0         42.0    3/9/2017 12:00:00 AM   \n",
       "179378             18.0         18.0    9/7/2016 12:00:00 AM   \n",
       "154229              NaN          NaN   7/27/2018 12:00:00 AM   \n",
       "163473             31.0         31.0  11/24/2015 12:00:00 AM   \n",
       "215324             55.0         55.0   8/29/2018 12:00:00 AM   \n",
       "170050             37.0         37.0   1/18/2017 12:00:00 AM   \n",
       "46674              30.0         30.0   7/16/2012 12:00:00 AM   \n",
       "100207             42.0         42.0   10/2/2013 12:00:00 AM   \n",
       "\n",
       "       sentenceymd_derived sentenceym_derived         SENTENCE_JUDGE  \\\n",
       "228767          2019-06-20         2019-06-01        Kerry M Kennedy   \n",
       "192148          2017-04-03         2017-04-01       Steven G Watkins   \n",
       "199404          2017-03-09         2017-03-01        Thomas V Gainer   \n",
       "179378          2016-09-07         2016-09-01    Diane Gordon Cannon   \n",
       "154229          2018-07-27         2018-07-01          Ramon  Ocasio   \n",
       "163473          2015-11-24         2015-11-01         William G Lacy   \n",
       "215324          2018-08-29         2018-08-01    Diane Gordon Cannon   \n",
       "170050          2017-01-18         2017-01-01        Kenneth J Wadas   \n",
       "46674           2012-07-16         2012-07-01        Nicholas R Ford   \n",
       "100207          2013-10-02         2013-10-01  Lawrence Edward Flood   \n",
       "\n",
       "       judgeid_derived  \n",
       "228767       judge_167  \n",
       "192148       judge_288  \n",
       "199404       judge_312  \n",
       "179378        judge_61  \n",
       "154229       judge_254  \n",
       "163473       judge_329  \n",
       "215324        judge_61  \n",
       "170050       judge_164  \n",
       "46674        judge_236  \n",
       "100207       judge_179  "
      ]
     },
     "execution_count": 223,
     "metadata": {},
     "output_type": "execute_result"
    }
   ],
   "source": [
    "df.sample(10)[['RACE', 'is_black_derived', 'is_hisp_derived', 'is_white_derived', 'is_othereth_derived', 'GENDER', 'is_male_derived', 'AGE_AT_INCIDENT', 'age_derived', 'SENTENCE_DATE', 'sentenceymd_derived', 'sentenceym_derived', 'SENTENCE_JUDGE', 'judgeid_derived']]"
   ]
  },
  {
   "cell_type": "markdown",
   "metadata": {},
   "source": [
    "## 1.4: Subsetting rows to analytic dataset (5 points)\n",
    "\n",
    "You decide based on the above to simplify things in the following ways:\n",
    "    \n",
    "- Subset to cases where only one participant is charged, since cases with >1 participant might have complications like \n",
    "plea bargains/informing from other participants affecting the sentencing of the focal participant\n",
    "\n",
    "- To go from a participant-case level dataset, where each participant is repeated across charges tied to the case, to a participant-level dataset, where each participant has one charge, subset to a participant's primary charge and their current sentence (`PRIMARY_CHARGE_FLAG` is True and `CURRENT_SENTENCE_FLAG` is True). Double check that this worked by confirming there are no longer multiple charges for the same case-participant\n",
    "\n",
    "- Filter out observations where judge is nan or nonsensical (indicated by is.null or equal to FLOOD)\n",
    "\n",
    "- Subset to sentencing date between 01-01-2012 and 04-05-2021 (inclusive)\n",
    "\n",
    "After completing these steps, print the number of rows in the data"
   ]
  },
  {
   "cell_type": "code",
   "execution_count": 224,
   "metadata": {},
   "outputs": [],
   "source": [
    "participant_per_case = df.groupby('CASE_ID')['CASE_PARTICIPANT_ID'].nunique()\n",
    "one_participant_cases = participant_per_case[participant_per_case == 1]\n",
    "df_one_participant_case = df[df['CASE_ID'].isin(one_participant_cases.index)]"
   ]
  },
  {
   "cell_type": "code",
   "execution_count": 225,
   "metadata": {},
   "outputs": [
    {
     "name": "stderr",
     "output_type": "stream",
     "text": [
      "/var/folders/xc/0mc4v93x1sl61jqqdrj91f7c0000gn/T/ipykernel_81331/2728563404.py:1: UserWarning: Boolean Series key will be reindexed to match DataFrame index.\n",
      "  df_participant_level = df_one_participant_case[(df['PRIMARY_CHARGE_FLAG'] == True) & (df['CURRENT_SENTENCE_FLAG'] == True)]\n"
     ]
    },
    {
     "data": {
      "text/plain": [
       "1.0"
      ]
     },
     "execution_count": 225,
     "metadata": {},
     "output_type": "execute_result"
    }
   ],
   "source": [
    "df_participant_level = df_one_participant_case[(df['PRIMARY_CHARGE_FLAG'] == True) & (df['CURRENT_SENTENCE_FLAG'] == True)]\n",
    "\n",
    "#Check:\n",
    "df_participant_level.groupby('CASE_PARTICIPANT_ID')['CHARGE_ID'].nunique().mean() "
   ]
  },
  {
   "cell_type": "code",
   "execution_count": 226,
   "metadata": {},
   "outputs": [],
   "source": [
    "df_judge_cleaned = df_participant_level[df_participant_level['SENTENCE_JUDGE'].notna()]\n",
    "df_judge_cleaned = df_judge_cleaned[df_judge_cleaned['SENTENCE_JUDGE'] != 'FLOOD']"
   ]
  },
  {
   "cell_type": "code",
   "execution_count": 227,
   "metadata": {},
   "outputs": [
    {
     "name": "stdout",
     "output_type": "stream",
     "text": [
      "Number of rows:\n",
      "135600\n"
     ]
    }
   ],
   "source": [
    "start = pd.Timestamp(\"2012-01-01\")\n",
    "end = pd.Timestamp(\"2021-05-04\")\n",
    "\n",
    "df_subset = df_judge_cleaned[(df_judge_cleaned['sentenceymd_derived'] >= start) & (df_judge_cleaned['sentenceymd_derived'] <= end)]\n",
    "print(f\"Number of rows:\") \n",
    "print(len(df_subset))"
   ]
  },
  {
   "cell_type": "markdown",
   "metadata": {},
   "source": [
    "# Part two: investigating Black vs. White sentencing disparities\n",
    "\n",
    "Now that the data are cleaned, we're going to investigate different types of disparities in sentencing between Black defendants and White defendants. We're focusing on these groups for the purpose of the problem set, but the analysis could be extended to study Hispanic defendants or, in a different jurisdiction, Asian and other minoritized groups.\n",
    "\n",
    "**Details if interested in digging deeper**: If interested (optional), you can read more technical coverage of how we might (1) measure disparities, and (2) what factors you want to adjust for when deciding whether two defendants are 'similarly situated' but for their race in the following sources:\n",
    "\n",
    "- [Review of sentencing disparities research](https://www.journals.uchicago.edu/doi/full/10.1086/701505)\n",
    "- [Discussion of causal model/blinding race at charging stage of the prosecutorial process](https://5harad.com/papers/blind-charging.pdf)\n",
    "- [Discussion of measuring discrimination in policing that can generalize to the sentencing case](https://www.annualreviews.org/doi/abs/10.1146/annurev-criminol-011518-024731)\n",
    "- [General discussion of causal challenges in measuring between-group disparities](https://osf.io/preprints/socarxiv/gx4y3/)\n",
    "\n",
    "**One major caveat**: when investigating whether two similar defendants received different sentences, we're missing one important attribute that influences sentencing: the defendant's criminal history. This influences sentencing both through sentencing guidelines, which can prescribe longer sentences for those who have certain types of prior convictions, and through judicial discretion if judges are more lenient with first-time defendants. The above sources discuss how much we want to \"control away\" for this prior history, since if we think there are racial biases in which defendants, conditional on *committing* a crime, are arrested and charged, we may not want to adjust for that factor. More discussion [in this article](https://www.themarshallproject.org/2019/12/03/the-growing-racial-disparity-in-prison-time)\n"
   ]
  },
  {
   "cell_type": "markdown",
   "metadata": {},
   "source": [
    "## 2.0: (0 points)"
   ]
  },
  {
   "cell_type": "markdown",
   "metadata": {},
   "source": [
    "First, read in the following dataset (regardless of progress on part one): `sentencing_cleaned.pkl` (if you can't read in the pkl you can read in the .csv format but may need to recast some of the datetime columns)\n",
    "\n",
    "*Note*: don't worry if there are slight differences in your output from Part One and this dataset/it's not a good use of time to try to reverse engineer Part One answers from this cleaned data."
   ]
  },
  {
   "cell_type": "code",
   "execution_count": 228,
   "metadata": {},
   "outputs": [
    {
     "data": {
      "text/plain": [
       "135165"
      ]
     },
     "execution_count": 228,
     "metadata": {},
     "output_type": "execute_result"
    }
   ],
   "source": [
    "df1 = pd.read_pickle(\"sentencing_cleaned.pkl\")\n",
    "len(df1)"
   ]
  },
  {
   "cell_type": "markdown",
   "metadata": {},
   "source": [
    "## 2.1: Investigating one type of between-group difference: who reaches the sentencing stage? (5 points)\n",
    "\n",
    "Tabulate and visualize the proportion of defendants, out of all defendants sentenced in a given month/year, who are Black and who are White (separate proportions)\n",
    "\n",
    "- Denominator is number of unique cases that month\n",
    "- Numerator for black defendants is count of is_black_derived\n",
    "- Numerator for white defendants is count of is_white_derived\n",
    "- Fraction of each is numerator/denominator\n",
    "\n",
    "- Print the table\n",
    "- Create a graph with two lines--- one for Black defendants as fraction of total; another for White defendants. Make sure it includes a legend summarizing which color is for which group, and clean the legend so that it has informative names (e.g., Black or White rather than prop_black or prop_white)\n",
    "- Use mathematical notation to write out each of the proportions using summation notation in a 1-2 sentence writeup describing trends. What seems to be going on in April and May 2020? \n",
    "\n",
    "**Optional challenge**: improve the viz by shading the background of the visualization for months with fewer than 100 cases \n",
    "\n",
    "**Optional challenge**: improve the viz by adding a vertical line for 12-01-2016, the month that new State's Attorney Foxx took office "
   ]
  },
  {
   "cell_type": "code",
   "execution_count": 229,
   "metadata": {},
   "outputs": [
    {
     "data": {
      "text/html": [
       "<div>\n",
       "<style scoped>\n",
       "    .dataframe tbody tr th:only-of-type {\n",
       "        vertical-align: middle;\n",
       "    }\n",
       "\n",
       "    .dataframe tbody tr th {\n",
       "        vertical-align: top;\n",
       "    }\n",
       "\n",
       "    .dataframe thead th {\n",
       "        text-align: right;\n",
       "    }\n",
       "</style>\n",
       "<table border=\"1\" class=\"dataframe\">\n",
       "  <thead>\n",
       "    <tr style=\"text-align: right;\">\n",
       "      <th></th>\n",
       "      <th>Month</th>\n",
       "      <th>Black Proportion</th>\n",
       "      <th>White Proportion</th>\n",
       "    </tr>\n",
       "  </thead>\n",
       "  <tbody>\n",
       "    <tr>\n",
       "      <th>0</th>\n",
       "      <td>2012-01-01</td>\n",
       "      <td>0.677419</td>\n",
       "      <td>0.144564</td>\n",
       "    </tr>\n",
       "    <tr>\n",
       "      <th>1</th>\n",
       "      <td>2012-02-01</td>\n",
       "      <td>0.648966</td>\n",
       "      <td>0.160690</td>\n",
       "    </tr>\n",
       "    <tr>\n",
       "      <th>2</th>\n",
       "      <td>2012-03-01</td>\n",
       "      <td>0.638958</td>\n",
       "      <td>0.158189</td>\n",
       "    </tr>\n",
       "    <tr>\n",
       "      <th>3</th>\n",
       "      <td>2012-04-01</td>\n",
       "      <td>0.696379</td>\n",
       "      <td>0.146936</td>\n",
       "    </tr>\n",
       "    <tr>\n",
       "      <th>4</th>\n",
       "      <td>2012-05-01</td>\n",
       "      <td>0.695146</td>\n",
       "      <td>0.144337</td>\n",
       "    </tr>\n",
       "    <tr>\n",
       "      <th>...</th>\n",
       "      <td>...</td>\n",
       "      <td>...</td>\n",
       "      <td>...</td>\n",
       "    </tr>\n",
       "    <tr>\n",
       "      <th>106</th>\n",
       "      <td>2020-11-01</td>\n",
       "      <td>0.606925</td>\n",
       "      <td>0.154786</td>\n",
       "    </tr>\n",
       "    <tr>\n",
       "      <th>107</th>\n",
       "      <td>2020-12-01</td>\n",
       "      <td>0.646182</td>\n",
       "      <td>0.158287</td>\n",
       "    </tr>\n",
       "    <tr>\n",
       "      <th>108</th>\n",
       "      <td>2021-01-01</td>\n",
       "      <td>0.621924</td>\n",
       "      <td>0.111857</td>\n",
       "    </tr>\n",
       "    <tr>\n",
       "      <th>109</th>\n",
       "      <td>2021-02-01</td>\n",
       "      <td>0.651731</td>\n",
       "      <td>0.134420</td>\n",
       "    </tr>\n",
       "    <tr>\n",
       "      <th>110</th>\n",
       "      <td>2021-03-01</td>\n",
       "      <td>0.680451</td>\n",
       "      <td>0.148496</td>\n",
       "    </tr>\n",
       "  </tbody>\n",
       "</table>\n",
       "<p>111 rows × 3 columns</p>\n",
       "</div>"
      ],
      "text/plain": [
       "         Month  Black Proportion  White Proportion\n",
       "0   2012-01-01          0.677419          0.144564\n",
       "1   2012-02-01          0.648966          0.160690\n",
       "2   2012-03-01          0.638958          0.158189\n",
       "3   2012-04-01          0.696379          0.146936\n",
       "4   2012-05-01          0.695146          0.144337\n",
       "..         ...               ...               ...\n",
       "106 2020-11-01          0.606925          0.154786\n",
       "107 2020-12-01          0.646182          0.158287\n",
       "108 2021-01-01          0.621924          0.111857\n",
       "109 2021-02-01          0.651731          0.134420\n",
       "110 2021-03-01          0.680451          0.148496\n",
       "\n",
       "[111 rows x 3 columns]"
      ]
     },
     "execution_count": 229,
     "metadata": {},
     "output_type": "execute_result"
    }
   ],
   "source": [
    "denominator = df1.groupby('sentenceym_derived')['CASE_ID'].nunique()\n",
    "\n",
    "black_count = df1[df1['is_black_derived'] == True].groupby('sentenceym_derived')['CASE_ID'].nunique()\n",
    "black_prop = black_count/denominator\n",
    "\n",
    "white_count = df1[df1['is_white_derived'] == True].groupby('sentenceym_derived')['CASE_ID'].nunique()\n",
    "white_prop = white_count/denominator\n",
    "\n",
    "table_prop = pd.DataFrame({\n",
    "    'Month': white_prop.index,\n",
    "    'Black Proportion': black_prop.values,\n",
    "    'White Proportion': white_prop.values\n",
    "})\n",
    "\n",
    "table_prop"
   ]
  },
  {
   "cell_type": "code",
   "execution_count": 230,
   "metadata": {},
   "outputs": [
    {
     "data": {
      "text/plain": [
       "<Figure size 2000x1000 with 0 Axes>"
      ]
     },
     "execution_count": 230,
     "metadata": {},
     "output_type": "execute_result"
    },
    {
     "data": {
      "text/plain": [
       "[<matplotlib.lines.Line2D at 0x17c089550>]"
      ]
     },
     "execution_count": 230,
     "metadata": {},
     "output_type": "execute_result"
    },
    {
     "data": {
      "text/plain": [
       "[<matplotlib.lines.Line2D at 0x17bf97b90>]"
      ]
     },
     "execution_count": 230,
     "metadata": {},
     "output_type": "execute_result"
    },
    {
     "data": {
      "text/plain": [
       "<matplotlib.legend.Legend at 0x18309add0>"
      ]
     },
     "execution_count": 230,
     "metadata": {},
     "output_type": "execute_result"
    },
    {
     "data": {
      "text/plain": [
       "Text(0.5, 0, 'Month and Year')"
      ]
     },
     "execution_count": 230,
     "metadata": {},
     "output_type": "execute_result"
    },
    {
     "data": {
      "text/plain": [
       "Text(0, 0.5, 'Proportion of Defendants')"
      ]
     },
     "execution_count": 230,
     "metadata": {},
     "output_type": "execute_result"
    },
    {
     "data": {
      "text/plain": [
       "<matplotlib.lines.Line2D at 0x18362fa90>"
      ]
     },
     "execution_count": 230,
     "metadata": {},
     "output_type": "execute_result"
    },
    {
     "data": {
      "text/plain": [
       "Text(0.5, 1.0, 'Proportion of Black and White Defendants Over Time')"
      ]
     },
     "execution_count": 230,
     "metadata": {},
     "output_type": "execute_result"
    },
    {
     "data": {
      "image/png": "[encoded data removed]",
      "text/plain": [
       "<Figure size 2000x1000 with 1 Axes>"
      ]
     },
     "metadata": {},
     "output_type": "display_data"
    }
   ],
   "source": [
    "plt.figure(figsize = (20,10))\n",
    "\n",
    "plt.plot(table_prop[\"Month\"], table_prop[\"Black Proportion\"], label = \"Black\", marker = 'o')\n",
    "plt.plot(table_prop[\"Month\"], table_prop[\"White Proportion\"], label = \"White\",  marker = 'o')\n",
    "\n",
    "plt.legend(fontsize = 20)\n",
    "\n",
    "plt.xlabel('Month and Year')\n",
    "plt.ylabel('Proportion of Defendants')\n",
    "plt.axvline(pd.Timestamp('2016-12-01'), color= 'r', linestyle='--', label='DA Foxx Takes Office')\n",
    "plt.title('Proportion of Black and White Defendants Over Time')"
   ]
  },
  {
   "cell_type": "markdown",
   "metadata": {},
   "source": [
    "The proportion of Black defendants out of all defendants sentenced in a given month/year is represented by the expression:\n",
    "$$\n",
    "\\frac{\\sum_{i=1}^{n} B_i}{N}\n",
    "$$\n",
    "where \\( B_i \\) denotes the count of Black defendants in case \\( i \\), \\( n \\) is the total number of unique cases in the month/year, and \\( N \\) is the total number of defendants sentenced in that month/year. Similarly, the proportion of White defendants can be expressed as:\n",
    "$$\n",
    "\\frac{\\sum_{i=1}^{n} W_i}{N}\n",
    "$$\n",
    "where \\( W_i \\) represents the count of White defendants in case \\( i \\).\n",
    "\n",
    "The proportion of black defendants is much higher than the proportion of white ones. In April-May 2020, we notice a dramatic and brief drop in Black proportion and a smaller rise in White proportion of defenders. This coincides with the George Floyd protests, and could be explained by a greater hesitancy among police officers to patrol majority Black neighborhoods during this time. This can also reflect changes in law enforcement practices, judicial priorities, or societal dynamics during the early stages of the COVID-19 pandemic and associated lockdown measures."
   ]
  },
  {
   "cell_type": "markdown",
   "metadata": {},
   "source": [
    "## 2.2: Investigating the first type of disparity: probation versus incaceration (10 points)\n",
    "\n",
    "One type of disparity beyond who arrives at the sentencing stage is whether the defendant receives probation or incaceration.\n",
    "\n",
    "According to the codebook, incarceration is indicated by `COMMITMENT_TYPE` == \"Illinois Department of Corrections\"\n",
    "\n",
    "Recreate the previous plot but where the y axis represents the difference between the following proportions (can be either Black - White or White - Black but make sure to label), adding a smoothed line:\n",
    "\n",
    "- Percent of black defendants who are incarcerated out of all black defendants that month/year \n",
    "- Percent of white defendants who are incarcerated out of all white defendants that month/year \n",
    "\n",
    "In a markdown cell after, write 1-2 sentences on your observations of trends over time. Do gaps seem to be widening or increasing?"
   ]
  },
  {
   "cell_type": "code",
   "execution_count": 231,
   "metadata": {},
   "outputs": [
    {
     "name": "stderr",
     "output_type": "stream",
     "text": [
      "/var/folders/xc/0mc4v93x1sl61jqqdrj91f7c0000gn/T/ipykernel_81331/1993286668.py:3: UserWarning: Boolean Series key will be reindexed to match DataFrame index.\n",
      "  black_inc_count = incarcerated_df[df1['is_black_derived']].groupby('sentenceym_derived')['CASE_ID'].nunique()\n",
      "/var/folders/xc/0mc4v93x1sl61jqqdrj91f7c0000gn/T/ipykernel_81331/1993286668.py:7: UserWarning: Boolean Series key will be reindexed to match DataFrame index.\n",
      "  white_inc_count = incarcerated_df[df1['is_white_derived']].groupby('sentenceym_derived')['CASE_ID'].nunique()\n"
     ]
    },
    {
     "data": {
      "text/html": [
       "<div>\n",
       "<style scoped>\n",
       "    .dataframe tbody tr th:only-of-type {\n",
       "        vertical-align: middle;\n",
       "    }\n",
       "\n",
       "    .dataframe tbody tr th {\n",
       "        vertical-align: top;\n",
       "    }\n",
       "\n",
       "    .dataframe thead th {\n",
       "        text-align: right;\n",
       "    }\n",
       "</style>\n",
       "<table border=\"1\" class=\"dataframe\">\n",
       "  <thead>\n",
       "    <tr style=\"text-align: right;\">\n",
       "      <th></th>\n",
       "      <th>Month</th>\n",
       "      <th>Black Proportion</th>\n",
       "      <th>White Proportion</th>\n",
       "      <th>Difference</th>\n",
       "    </tr>\n",
       "    <tr>\n",
       "      <th>sentenceym_derived</th>\n",
       "      <th></th>\n",
       "      <th></th>\n",
       "      <th></th>\n",
       "      <th></th>\n",
       "    </tr>\n",
       "  </thead>\n",
       "  <tbody>\n",
       "    <tr>\n",
       "      <th>2012-01-01</th>\n",
       "      <td>2012-01-01</td>\n",
       "      <td>0.594356</td>\n",
       "      <td>0.359504</td>\n",
       "      <td>0.234852</td>\n",
       "    </tr>\n",
       "    <tr>\n",
       "      <th>2012-02-01</th>\n",
       "      <td>2012-02-01</td>\n",
       "      <td>0.601488</td>\n",
       "      <td>0.373391</td>\n",
       "      <td>0.228097</td>\n",
       "    </tr>\n",
       "    <tr>\n",
       "      <th>2012-03-01</th>\n",
       "      <td>2012-03-01</td>\n",
       "      <td>0.584466</td>\n",
       "      <td>0.443137</td>\n",
       "      <td>0.141329</td>\n",
       "    </tr>\n",
       "    <tr>\n",
       "      <th>2012-04-01</th>\n",
       "      <td>2012-04-01</td>\n",
       "      <td>0.598000</td>\n",
       "      <td>0.445498</td>\n",
       "      <td>0.152502</td>\n",
       "    </tr>\n",
       "    <tr>\n",
       "      <th>2012-05-01</th>\n",
       "      <td>2012-05-01</td>\n",
       "      <td>0.539106</td>\n",
       "      <td>0.327354</td>\n",
       "      <td>0.211752</td>\n",
       "    </tr>\n",
       "    <tr>\n",
       "      <th>...</th>\n",
       "      <td>...</td>\n",
       "      <td>...</td>\n",
       "      <td>...</td>\n",
       "      <td>...</td>\n",
       "    </tr>\n",
       "    <tr>\n",
       "      <th>2020-11-01</th>\n",
       "      <td>2020-11-01</td>\n",
       "      <td>0.409396</td>\n",
       "      <td>0.302632</td>\n",
       "      <td>0.106764</td>\n",
       "    </tr>\n",
       "    <tr>\n",
       "      <th>2020-12-01</th>\n",
       "      <td>2020-12-01</td>\n",
       "      <td>0.489914</td>\n",
       "      <td>0.376471</td>\n",
       "      <td>0.113443</td>\n",
       "    </tr>\n",
       "    <tr>\n",
       "      <th>2021-01-01</th>\n",
       "      <td>2021-01-01</td>\n",
       "      <td>0.496403</td>\n",
       "      <td>0.440000</td>\n",
       "      <td>0.056403</td>\n",
       "    </tr>\n",
       "    <tr>\n",
       "      <th>2021-02-01</th>\n",
       "      <td>2021-02-01</td>\n",
       "      <td>0.425000</td>\n",
       "      <td>0.196970</td>\n",
       "      <td>0.228030</td>\n",
       "    </tr>\n",
       "    <tr>\n",
       "      <th>2021-03-01</th>\n",
       "      <td>2021-03-01</td>\n",
       "      <td>0.397790</td>\n",
       "      <td>0.202532</td>\n",
       "      <td>0.195258</td>\n",
       "    </tr>\n",
       "  </tbody>\n",
       "</table>\n",
       "<p>111 rows × 4 columns</p>\n",
       "</div>"
      ],
      "text/plain": [
       "                        Month  Black Proportion  White Proportion  Difference\n",
       "sentenceym_derived                                                           \n",
       "2012-01-01         2012-01-01          0.594356          0.359504    0.234852\n",
       "2012-02-01         2012-02-01          0.601488          0.373391    0.228097\n",
       "2012-03-01         2012-03-01          0.584466          0.443137    0.141329\n",
       "2012-04-01         2012-04-01          0.598000          0.445498    0.152502\n",
       "2012-05-01         2012-05-01          0.539106          0.327354    0.211752\n",
       "...                       ...               ...               ...         ...\n",
       "2020-11-01         2020-11-01          0.409396          0.302632    0.106764\n",
       "2020-12-01         2020-12-01          0.489914          0.376471    0.113443\n",
       "2021-01-01         2021-01-01          0.496403          0.440000    0.056403\n",
       "2021-02-01         2021-02-01          0.425000          0.196970    0.228030\n",
       "2021-03-01         2021-03-01          0.397790          0.202532    0.195258\n",
       "\n",
       "[111 rows x 4 columns]"
      ]
     },
     "execution_count": 231,
     "metadata": {},
     "output_type": "execute_result"
    }
   ],
   "source": [
    "incarcerated_df = df1[df1['COMMITMENT_TYPE'] == \"Illinois Department of Corrections\"]\n",
    "\n",
    "black_inc_count = incarcerated_df[df1['is_black_derived']].groupby('sentenceym_derived')['CASE_ID'].nunique()\n",
    "black_inc_prop = black_inc_count/black_count\n",
    "\n",
    "\n",
    "white_inc_count = incarcerated_df[df1['is_white_derived']].groupby('sentenceym_derived')['CASE_ID'].nunique()\n",
    "white_inc_prop = white_inc_count/white_count\n",
    "\n",
    "\n",
    "diff = black_inc_prop - white_inc_prop\n",
    "\n",
    "table_diff = pd.DataFrame({\n",
    "    'Month': white_prop.index,\n",
    "    'Black Proportion': black_inc_prop.values,\n",
    "    'White Proportion': white_inc_prop.values,\n",
    "    'Difference': diff\n",
    "})\n",
    "table_diff"
   ]
  },
  {
   "cell_type": "code",
   "execution_count": 232,
   "metadata": {},
   "outputs": [
    {
     "data": {
      "text/plain": [
       "<Figure size 1200x700 with 0 Axes>"
      ]
     },
     "execution_count": 232,
     "metadata": {},
     "output_type": "execute_result"
    },
    {
     "name": "stderr",
     "output_type": "stream",
     "text": [
      "/opt/anaconda3/lib/python3.11/site-packages/seaborn/_oldcore.py:1119: FutureWarning: use_inf_as_na option is deprecated and will be removed in a future version. Convert inf values to NaN before operating instead.\n",
      "  with pd.option_context('mode.use_inf_as_na', True):\n",
      "/opt/anaconda3/lib/python3.11/site-packages/seaborn/_oldcore.py:1119: FutureWarning: use_inf_as_na option is deprecated and will be removed in a future version. Convert inf values to NaN before operating instead.\n",
      "  with pd.option_context('mode.use_inf_as_na', True):\n"
     ]
    },
    {
     "data": {
      "text/plain": [
       "<Axes: xlabel='Month', ylabel='Difference'>"
      ]
     },
     "execution_count": 232,
     "metadata": {},
     "output_type": "execute_result"
    },
    {
     "name": "stderr",
     "output_type": "stream",
     "text": [
      "/opt/anaconda3/lib/python3.11/site-packages/seaborn/_oldcore.py:1119: FutureWarning: use_inf_as_na option is deprecated and will be removed in a future version. Convert inf values to NaN before operating instead.\n",
      "  with pd.option_context('mode.use_inf_as_na', True):\n",
      "/opt/anaconda3/lib/python3.11/site-packages/seaborn/_oldcore.py:1119: FutureWarning: use_inf_as_na option is deprecated and will be removed in a future version. Convert inf values to NaN before operating instead.\n",
      "  with pd.option_context('mode.use_inf_as_na', True):\n"
     ]
    },
    {
     "data": {
      "text/plain": [
       "<Axes: xlabel='Month', ylabel='Difference'>"
      ]
     },
     "execution_count": 232,
     "metadata": {},
     "output_type": "execute_result"
    },
    {
     "data": {
      "text/plain": [
       "<matplotlib.legend.Legend at 0x1760bb590>"
      ]
     },
     "execution_count": 232,
     "metadata": {},
     "output_type": "execute_result"
    },
    {
     "data": {
      "text/plain": [
       "Text(0.5, 0, 'Month and Year')"
      ]
     },
     "execution_count": 232,
     "metadata": {},
     "output_type": "execute_result"
    },
    {
     "data": {
      "text/plain": [
       "Text(0, 0.5, 'Difference between Black and White Incarceration Rates')"
      ]
     },
     "execution_count": 232,
     "metadata": {},
     "output_type": "execute_result"
    },
    {
     "data": {
      "text/plain": [
       "Text(0.5, 1.0, 'Difference between Black and White Incarceration Rates Over Time')"
      ]
     },
     "execution_count": 232,
     "metadata": {},
     "output_type": "execute_result"
    },
    {
     "data": {
      "image/png": "[encoded data removed]",
      "text/plain": [
       "<Figure size 1200x700 with 1 Axes>"
      ]
     },
     "metadata": {},
     "output_type": "display_data"
    }
   ],
   "source": [
    "plt.figure(figsize = (12,7))\n",
    "\n",
    "sns.lineplot(data=table_diff, x=\"Month\", y=\"Difference\", label = \"Black - White\")\n",
    "sns.lineplot(data=table_diff, x=\"Month\", y=table_diff['Difference'].rolling(7).mean(), label='Black - White, smoothed')\n",
    "\n",
    "\n",
    "plt.legend(fontsize = 20)\n",
    "\n",
    "plt.xlabel('Month and Year', fontsize = 15)\n",
    "plt.ylabel('Difference between Black and White Incarceration Rates', fontsize = 15)\n",
    "plt.title('Difference between Black and White Incarceration Rates Over Time', fontsize = 20)"
   ]
  },
  {
   "cell_type": "markdown",
   "metadata": {},
   "source": [
    "Despite large fluctuations, the gap in black and white incarcerations rates was hovering around 0.2 percentage points until around 2017, when trends took a downward turn. By the beginning of 2020, the gap had shrunk to around 0.1 percentage points, but perhaps due to the George Floyd Protests, rose again throughout 2020. The gap appears to be declining again, but was around 0.15 percentage points in 2021. "
   ]
  },
  {
   "cell_type": "markdown",
   "metadata": {},
   "source": [
    "## 2.3: Investigating mechanisms: incaceration rates by charge\n",
    "\n",
    "Your colleague sees the previous graph and is worried that the gap could be different---either wider or smaller---if you adjust for the fact that prosecutors have discretion in what crimes to charge defendants with. If white defendants are charged with crimes that tend to receive probation rather than incarceration, that could explain some of the gaps.\n",
    "\n",
    "In the next questions, you'll begin to investigate this."
   ]
  },
  {
   "cell_type": "markdown",
   "metadata": {},
   "source": [
    "### 2.3.1: Find the most common offenses (3 points)\n",
    "\n",
    "First, create a set of 'frequent offenses' that represent (over the entire period) the union of the 10 offenses Black defendant are most likely to be charged with and the 10 offenses white defendants are most likely to be charged with (might be far less than 20 total if there's a lot of overlap in common charges)\n",
    "\n",
    "Use the `simplified_offense_derived` for this"
   ]
  },
  {
   "cell_type": "code",
   "execution_count": 233,
   "metadata": {},
   "outputs": [
    {
     "name": "stdout",
     "output_type": "stream",
     "text": [
      "The most frequent offenses are:\n",
      "{'Narcotics', 'Robbery', 'Residential Burglary', 'Driving With Suspended Or Revoked License', 'Burglary', 'Retail Theft', 'Battery', 'Theft', 'Vehicle-related', 'UUW - Unlawful Use of Weapon', 'Other Offense', 'DUI'}\n"
     ]
    }
   ],
   "source": [
    "frequent_black_offenses = df1[df1['is_black_derived']]['simplified_offense_derived'].value_counts().head(10).index.tolist()\n",
    "frequent_white_offenses = df1[df1['is_white_derived']]['simplified_offense_derived'].value_counts().head(10).index.tolist()\n",
    "\n",
    "frequent_offenses = set(frequent_black_offenses).union(frequent_white_offenses)\n",
    "print(\"The most frequent offenses are:\")\n",
    "print(frequent_offenses)"
   ]
  },
  {
   "cell_type": "markdown",
   "metadata": {},
   "source": [
    "### 2.3.2: Look at incarceration rates (again just whether incarcerated) by race and offense type for these top offenses (3 points)\n",
    "\n",
    "Print a wide-format version of the resulting table (so each row is an offense type, one col is black incarceration rate for that offense type; another is the white incarceration rate) and interpret. Which offenses show the largest disparities in judges being less likely to sentence White defendants to incarceration/more likely to offer those defendants probation?\n"
   ]
  },
  {
   "cell_type": "code",
   "execution_count": 234,
   "metadata": {},
   "outputs": [
    {
     "data": {
      "text/html": [
       "<div>\n",
       "<style scoped>\n",
       "    .dataframe tbody tr th:only-of-type {\n",
       "        vertical-align: middle;\n",
       "    }\n",
       "\n",
       "    .dataframe tbody tr th {\n",
       "        vertical-align: top;\n",
       "    }\n",
       "\n",
       "    .dataframe thead th {\n",
       "        text-align: right;\n",
       "    }\n",
       "</style>\n",
       "<table border=\"1\" class=\"dataframe\">\n",
       "  <thead>\n",
       "    <tr style=\"text-align: right;\">\n",
       "      <th></th>\n",
       "      <th>Black Incarceration Rate</th>\n",
       "      <th>White Incarceration Rate</th>\n",
       "      <th>Disparity</th>\n",
       "    </tr>\n",
       "    <tr>\n",
       "      <th>simplified_offense_derived</th>\n",
       "      <th></th>\n",
       "      <th></th>\n",
       "      <th></th>\n",
       "    </tr>\n",
       "  </thead>\n",
       "  <tbody>\n",
       "    <tr>\n",
       "      <th>Narcotics</th>\n",
       "      <td>0.537876</td>\n",
       "      <td>0.242535</td>\n",
       "      <td>0.295341</td>\n",
       "    </tr>\n",
       "    <tr>\n",
       "      <th>Battery</th>\n",
       "      <td>0.509032</td>\n",
       "      <td>0.275552</td>\n",
       "      <td>0.233480</td>\n",
       "    </tr>\n",
       "    <tr>\n",
       "      <th>UUW - Unlawful Use of Weapon</th>\n",
       "      <td>0.696191</td>\n",
       "      <td>0.481973</td>\n",
       "      <td>0.214217</td>\n",
       "    </tr>\n",
       "    <tr>\n",
       "      <th>Retail Theft</th>\n",
       "      <td>0.595713</td>\n",
       "      <td>0.449582</td>\n",
       "      <td>0.146132</td>\n",
       "    </tr>\n",
       "    <tr>\n",
       "      <th>Burglary</th>\n",
       "      <td>0.661927</td>\n",
       "      <td>0.535763</td>\n",
       "      <td>0.126164</td>\n",
       "    </tr>\n",
       "    <tr>\n",
       "      <th>Other Offense</th>\n",
       "      <td>0.340580</td>\n",
       "      <td>0.230228</td>\n",
       "      <td>0.110351</td>\n",
       "    </tr>\n",
       "    <tr>\n",
       "      <th>Driving With Suspended Or Revoked License</th>\n",
       "      <td>0.582193</td>\n",
       "      <td>0.496552</td>\n",
       "      <td>0.085642</td>\n",
       "    </tr>\n",
       "    <tr>\n",
       "      <th>Theft</th>\n",
       "      <td>0.386961</td>\n",
       "      <td>0.318721</td>\n",
       "      <td>0.068240</td>\n",
       "    </tr>\n",
       "    <tr>\n",
       "      <th>Residential Burglary</th>\n",
       "      <td>0.717791</td>\n",
       "      <td>0.654114</td>\n",
       "      <td>0.063677</td>\n",
       "    </tr>\n",
       "    <tr>\n",
       "      <th>DUI</th>\n",
       "      <td>0.404997</td>\n",
       "      <td>0.341855</td>\n",
       "      <td>0.063143</td>\n",
       "    </tr>\n",
       "    <tr>\n",
       "      <th>Robbery</th>\n",
       "      <td>0.650341</td>\n",
       "      <td>0.589286</td>\n",
       "      <td>0.061055</td>\n",
       "    </tr>\n",
       "    <tr>\n",
       "      <th>Vehicle-related</th>\n",
       "      <td>0.553750</td>\n",
       "      <td>0.585635</td>\n",
       "      <td>-0.031885</td>\n",
       "    </tr>\n",
       "  </tbody>\n",
       "</table>\n",
       "</div>"
      ],
      "text/plain": [
       "                                           Black Incarceration Rate  \\\n",
       "simplified_offense_derived                                            \n",
       "Narcotics                                                  0.537876   \n",
       "Battery                                                    0.509032   \n",
       "UUW - Unlawful Use of Weapon                               0.696191   \n",
       "Retail Theft                                               0.595713   \n",
       "Burglary                                                   0.661927   \n",
       "Other Offense                                              0.340580   \n",
       "Driving With Suspended Or Revoked License                  0.582193   \n",
       "Theft                                                      0.386961   \n",
       "Residential Burglary                                       0.717791   \n",
       "DUI                                                        0.404997   \n",
       "Robbery                                                    0.650341   \n",
       "Vehicle-related                                            0.553750   \n",
       "\n",
       "                                           White Incarceration Rate  Disparity  \n",
       "simplified_offense_derived                                                      \n",
       "Narcotics                                                  0.242535   0.295341  \n",
       "Battery                                                    0.275552   0.233480  \n",
       "UUW - Unlawful Use of Weapon                               0.481973   0.214217  \n",
       "Retail Theft                                               0.449582   0.146132  \n",
       "Burglary                                                   0.535763   0.126164  \n",
       "Other Offense                                              0.230228   0.110351  \n",
       "Driving With Suspended Or Revoked License                  0.496552   0.085642  \n",
       "Theft                                                      0.318721   0.068240  \n",
       "Residential Burglary                                       0.654114   0.063677  \n",
       "DUI                                                        0.341855   0.063143  \n",
       "Robbery                                                    0.589286   0.061055  \n",
       "Vehicle-related                                            0.585635  -0.031885  "
      ]
     },
     "execution_count": 234,
     "metadata": {},
     "output_type": "execute_result"
    }
   ],
   "source": [
    "df_frequent_offenses = df1[df1['simplified_offense_derived'].isin(frequent_offenses)]\n",
    "df_frequent_sample = df_frequent_offenses[(df_frequent_offenses['is_black_derived'])|(df_frequent_offenses['is_white_derived'])]\n",
    "\n",
    "black_frequent_count = df_frequent_sample[df_frequent_sample['is_black_derived']].groupby('simplified_offense_derived')['CASE_ID'].nunique()\n",
    "white_frequent_count = df_frequent_sample[df_frequent_sample['is_white_derived']].groupby('simplified_offense_derived')['CASE_ID'].nunique()\n",
    "\n",
    "black_frequent_inc = df_frequent_sample[(df_frequent_sample['is_black_derived']) & (df_frequent_sample['COMMITMENT_TYPE'] == 'Illinois Department of Corrections')].groupby('simplified_offense_derived')['CASE_ID'].nunique()\n",
    "white_frequent_inc = df_frequent_sample[(df_frequent_sample['is_white_derived']) & (df_frequent_sample['COMMITMENT_TYPE'] == 'Illinois Department of Corrections')].groupby('simplified_offense_derived')['CASE_ID'].nunique()\n",
    "\n",
    "black_frequent_prop = black_frequent_inc/black_frequent_count\n",
    "white_frequent_prop = white_frequent_inc/white_frequent_count\n",
    "\n",
    "disparity = black_frequent_prop - white_frequent_prop\n",
    "\n",
    "table_inc = pd.DataFrame({\n",
    "    #'Offense': black_frequent_count.index,\n",
    "    'Black Incarceration Rate': black_frequent_prop.values,\n",
    "    'White Incarceration Rate': white_frequent_prop.values,\n",
    "    'Disparity': disparity\n",
    "})\n",
    "table_inc.sort_values(by='Disparity', ascending=False, inplace=True)\n",
    "table_inc\n"
   ]
  },
  {
   "cell_type": "markdown",
   "metadata": {},
   "source": [
    "Narcotics have the largest disparities in incarceration rates. This makes sense given the discourse about the racialized nature of the war on drugs. The next largest disparity in incarceration rate is in battery - which also makes sense given racialized perceptions of Black people (especially Black men) as aggressive or violent. "
   ]
  },
  {
   "cell_type": "markdown",
   "metadata": {},
   "source": [
    "### 2.3.3: Examine whether this changes pre and post change to charging threshold for retail theft (13 points)\n",
    "\n",
    "One important question is not only whether there are disparities by offense type but also whether these disparities are changing over time.\n",
    "\n",
    "The SAO, for instance, announced in December of 2016 that they would no longer default to charging retail thefts of under \\$1,000 as felonies. This change might have (1) decreased disparities or (2) increased disparities, depending on the correlation between race/ethnicity and magnitude of goods stolen: [news coverage](https://www.dnainfo.com/chicago/20161215/little-village/kim-foxx-raises-bar-for-retail-theft-felonies/). \n",
    "\n",
    "Focusing on `simplified_offense_derived` == \"Retail theft.\" Using a function and/or loop (Dec. 2016 is always excluded as a transition month):\n",
    "\n",
    "- Compare Black-White disparities before and after the change using a two-month bandwidth (so pre is October and November 2016; post is January and February 2017)\n",
    "\n",
    "- Compare Black-White disparities before and after the change using a four-month bandwidth (so pre is August- November 2016; post is January - April 2017)\n",
    "\n",
    "- Compare Black-White disparities using an eight-month bandwidth\n",
    "\n",
    "- Compare Black-White disparities using a twelve-month bandwidth\n",
    "\n",
    "\n",
    "------------------ \n",
    "\n",
    "- Print a table with the results (any organization is fine as long as it's clear)  \n",
    "\n",
    "- Create a bar chart where the x axis represents different bandwidths (2, 4, etc); the y axis the size of the Black-White gap in whether the defendant receives incarceration, and for each of the x axis points, you have one shaded bar representing \"before\" the change, another representing \"after\" the change (make sure that before is ordered before after and the bandwidths are from smallest to largest)\n",
    "\n",
    "*Note*: for each of the bandwidths include dates the entire month (e.g., for the first, include not only 02-01-2017 but everything up through 02-28-2017; easiest way is for the subsetting to use the rounded `sentenceym_derived`). Also make sure to only include white or black defendants.\n",
    "\n",
    "\n",
    "**Extra credit**: because the bandwidths have different sample sizes, a better viz incorporates measures of uncertainty. Add standard errors to the estimates using the formula: $(\\dfrac{p(1-p)}{n})^{0.5}$ where $p$ is the gap and $N$ is the number of cases in each bandwidth period \n"
   ]
  },
  {
   "cell_type": "code",
   "execution_count": 235,
   "metadata": {},
   "outputs": [
    {
     "name": "stderr",
     "output_type": "stream",
     "text": [
      "/var/folders/xc/0mc4v93x1sl61jqqdrj91f7c0000gn/T/ipykernel_81331/748883662.py:2: SettingWithCopyWarning: \n",
      "A value is trying to be set on a copy of a slice from a DataFrame.\n",
      "Try using .loc[row_indexer,col_indexer] = value instead\n",
      "\n",
      "See the caveats in the documentation: https://pandas.pydata.org/pandas-docs/stable/user_guide/indexing.html#returning-a-view-versus-a-copy\n",
      "  df_retail['incarcerated'] = (df_retail['COMMITMENT_TYPE'] == 'Illinois Department of Corrections') == True\n"
     ]
    }
   ],
   "source": [
    "df_retail = df1[df1[\"simplified_offense_derived\"] == 'Retail Theft']\n",
    "df_retail['incarcerated'] = (df_retail['COMMITMENT_TYPE'] == 'Illinois Department of Corrections') == True"
   ]
  },
  {
   "cell_type": "code",
   "execution_count": 236,
   "metadata": {},
   "outputs": [],
   "source": [
    "def calculate_disp(start_date, end_date):\n",
    "    data = df_retail[(df_retail['sentenceym_derived'] >= start_date) & (df_retail['sentenceym_derived'] <= end_date) & (df_retail['simplified_offense_derived'] == \"Retail Theft\")]\n",
    "    rate = data.groupby('is_black_derived')['incarcerated'].mean()\n",
    "    \n",
    "    try:\n",
    "        disparity = rate[True] - rate[False]\n",
    "    except:\n",
    "        disparity = 0\n",
    "    return disparity"
   ]
  },
  {
   "cell_type": "code",
   "execution_count": 237,
   "metadata": {},
   "outputs": [],
   "source": [
    "def calculate_disparity_with_se(start_date, end_date):\n",
    "    subset = df_retail[(df_retail['sentenceym_derived'] >= start_date) & (df_retail['sentenceym_derived'] <= end_date) & (df_retail['simplified_offense_derived'] == \"Retail Theft\")]\n",
    "    rates = subset.groupby('is_black_derived')['incarcerated'].mean()\n",
    "    n = len(subset)\n",
    "    \n",
    "    try:\n",
    "        disparity = rates[True] - rates[False]\n",
    "        se = (disparity * (1 - disparity) / n) ** 0.5\n",
    "    except:\n",
    "        disparity, se = 0, 0\n",
    "    \n",
    "    return disparity, se"
   ]
  },
  {
   "cell_type": "code",
   "execution_count": 238,
   "metadata": {},
   "outputs": [
    {
     "data": {
      "text/html": [
       "<div>\n",
       "<style scoped>\n",
       "    .dataframe tbody tr th:only-of-type {\n",
       "        vertical-align: middle;\n",
       "    }\n",
       "\n",
       "    .dataframe tbody tr th {\n",
       "        vertical-align: top;\n",
       "    }\n",
       "\n",
       "    .dataframe thead th {\n",
       "        text-align: right;\n",
       "    }\n",
       "</style>\n",
       "<table border=\"1\" class=\"dataframe\">\n",
       "  <thead>\n",
       "    <tr style=\"text-align: right;\">\n",
       "      <th></th>\n",
       "      <th>pre</th>\n",
       "      <th>post</th>\n",
       "      <th>pre_se</th>\n",
       "      <th>post_se</th>\n",
       "    </tr>\n",
       "  </thead>\n",
       "  <tbody>\n",
       "    <tr>\n",
       "      <th>2 months</th>\n",
       "      <td>0.120491</td>\n",
       "      <td>0.114608</td>\n",
       "      <td>0.019922</td>\n",
       "      <td>0.018869</td>\n",
       "    </tr>\n",
       "    <tr>\n",
       "      <th>4 months</th>\n",
       "      <td>0.120415</td>\n",
       "      <td>0.068023</td>\n",
       "      <td>0.013444</td>\n",
       "      <td>0.011990</td>\n",
       "    </tr>\n",
       "    <tr>\n",
       "      <th>8 months</th>\n",
       "      <td>0.161407</td>\n",
       "      <td>0.035618</td>\n",
       "      <td>0.010969</td>\n",
       "      <td>0.006970</td>\n",
       "    </tr>\n",
       "    <tr>\n",
       "      <th>12 months</th>\n",
       "      <td>0.197445</td>\n",
       "      <td>0.053087</td>\n",
       "      <td>0.010227</td>\n",
       "      <td>0.007668</td>\n",
       "    </tr>\n",
       "  </tbody>\n",
       "</table>\n",
       "</div>"
      ],
      "text/plain": [
       "                pre      post    pre_se   post_se\n",
       "2 months   0.120491  0.114608  0.019922  0.018869\n",
       "4 months   0.120415  0.068023  0.013444  0.011990\n",
       "8 months   0.161407  0.035618  0.010969  0.006970\n",
       "12 months  0.197445  0.053087  0.010227  0.007668"
      ]
     },
     "execution_count": 238,
     "metadata": {},
     "output_type": "execute_result"
    }
   ],
   "source": [
    "bandwidths = {\n",
    "    \"2 months\": ([\"2016-10-01\", \"2016-11-30\"], [\"2017-01-01\", \"2017-02-28\"]),\n",
    "    \"4 months\": ([\"2016-08-01\", \"2016-11-30\"], [\"2017-01-01\", \"2017-04-30\"]),\n",
    "    \"8 months\": ([\"2016-04-01\", \"2016-11-30\"], [\"2017-01-01\", \"2017-08-31\"]),\n",
    "    \"12 months\": ([\"2016-01-01\", \"2016-11-30\"], [\"2017-01-01\", \"2017-12-31\"])\n",
    "}\n",
    "\n",
    "data = {}\n",
    "\n",
    "for bandwidth, (pre, post) in bandwidths.items():\n",
    "    pre_disparity, pre_se = calculate_disparity_with_se(pre[0], pre[1])\n",
    "    post_disparity, post_se = calculate_disparity_with_se(post[0], post[1])\n",
    "    \n",
    "    data[bandwidth] = {\n",
    "        \"pre\": pre_disparity, \"post\": post_disparity, \n",
    "        \"pre_se\": pre_se, \"post_se\": post_se\n",
    "    }\n",
    "\n",
    "df_data = pd.DataFrame(data).T\n",
    "df_data"
   ]
  },
  {
   "cell_type": "code",
   "execution_count": 239,
   "metadata": {},
   "outputs": [
    {
     "data": {
      "image/png": "[encoded data removed]",
      "text/plain": [
       "<Figure size 1000x600 with 1 Axes>"
      ]
     },
     "metadata": {},
     "output_type": "display_data"
    }
   ],
   "source": [
    "bar_width = 0.35\n",
    "index = range(len(df_data))\n",
    "\n",
    "fig, ax = plt.subplots(figsize=(10,6))\n",
    "\n",
    "pre_bar = ax.bar(index, df_data['pre'], bar_width, yerr=df_data['pre_se'], capsize=7, label='Before', color='red')\n",
    "post_bar = ax.bar([i+bar_width for i in index], df_data['post'], bar_width, yerr=df_data['post_se'], capsize=7, \n",
    "                  label='After', color='blue')\n",
    "\n",
    "ax.set_xlabel('Bandwidth')\n",
    "ax.set_ylabel('Disparity')\n",
    "ax.set_title('Black-White Gap in Incarceration Rate Before and After Policy Change')\n",
    "ax.set_xticks([i+bar_width/2 for i in index])\n",
    "ax.set_xticklabels(df_data.index)\n",
    "ax.legend()\n",
    "\n",
    "plt.tight_layout()\n",
    "plt.show();"
   ]
  },
  {
   "cell_type": "markdown",
   "metadata": {},
   "source": [
    "### 2.3.3.1: Interpret the results (2 points)\n",
    "\n",
    "Write a two-sentence interpretation of the results. What might this show about how people on both sides of the issue---those who argued that the retail theft policy change would narrow disparities; those who argued that the change may widen disparities--could support their claims? "
   ]
  },
  {
   "cell_type": "markdown",
   "metadata": {},
   "source": [
    "The evidence seems to suggest that those who argued that the policy change would reduce disparities were correct, since the disparity narrowed after the policy for all bandwidths. Those who argued that disparities would widen may have based themselves on short term data, as the 2 month bandwidth suggests the that the disparity did not statistically significantly change since the confidence intervals overlap. "
   ]
  }
 ],
 "metadata": {
  "kernelspec": {
   "display_name": "Python 3 (ipykernel)",
   "language": "python",
   "name": "python3"
  },
  "language_info": {
   "codemirror_mode": {
    "name": "ipython",
    "version": 3
   },
   "file_extension": ".py",
   "mimetype": "text/x-python",
   "name": "python",
   "nbconvert_exporter": "python",
   "pygments_lexer": "ipython3",
   "version": "3.11.7"
  }
 },
 "nbformat": 4,
 "nbformat_minor": 4
}
