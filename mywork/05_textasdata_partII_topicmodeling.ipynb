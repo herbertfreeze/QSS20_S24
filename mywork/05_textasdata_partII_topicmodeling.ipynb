{
 "cells": [
  {
   "cell_type": "markdown",
   "metadata": {},
   "source": [
    "# Notebook for topic modeling "
   ]
  },
  {
   "cell_type": "markdown",
   "metadata": {},
   "source": [
    "# 0. Imports"
   ]
  },
  {
   "cell_type": "code",
   "execution_count": 9,
   "metadata": {},
   "outputs": [
    {
     "name": "stderr",
     "output_type": "stream",
     "text": [
      "[nltk_data] Downloading package punkt to\n",
      "[nltk_data]     /Users/juliegnany/nltk_data...\n",
      "[nltk_data]   Package punkt is already up-to-date!\n"
     ]
    },
    {
     "data": {
      "text/plain": [
       "True"
      ]
     },
     "execution_count": 9,
     "metadata": {},
     "output_type": "execute_result"
    },
    {
     "name": "stderr",
     "output_type": "stream",
     "text": [
      "[nltk_data] Downloading package stopwords to\n",
      "[nltk_data]     /Users/juliegnany/nltk_data...\n",
      "[nltk_data]   Unzipping corpora/stopwords.zip.\n"
     ]
    },
    {
     "data": {
      "text/plain": [
       "True"
      ]
     },
     "execution_count": 9,
     "metadata": {},
     "output_type": "execute_result"
    }
   ],
   "source": [
    "## load packages \n",
    "import pandas as pd\n",
    "import re\n",
    "import numpy as np\n",
    "\n",
    "## nltk imports\n",
    "#!pip install nltk # can install on terminal or by uncommenting this line\n",
    "import nltk; nltk.download('punkt'); nltk.download('stopwords')\n",
    "from nltk.tokenize import word_tokenize, wordpunct_tokenize\n",
    "from nltk.corpus import stopwords\n",
    "from nltk.stem.porter import PorterStemmer\n",
    "\n",
    "## sklearn imports\n",
    "from sklearn.feature_extraction.text import CountVectorizer\n",
    "\n",
    "## lda\n",
    "#!pip install gensim # can install by uncommenting this line\n",
    "from gensim import corpora\n",
    "import gensim\n",
    "\n",
    "## visualizing LDA--likely need to install\n",
    "#!pip install pyLDAvis # can install by uncommenting this line\n",
    "import pyLDAvis.gensim_models as gensimvis\n",
    "import pyLDAvis\n",
    "pyLDAvis.enable_notebook()\n",
    "\n",
    "## print mult things\n",
    "from IPython.core.interactiveshell import InteractiveShell\n",
    "InteractiveShell.ast_node_interactivity = \"all\"\n",
    "\n",
    "## random\n",
    "import random\n",
    "import string; punctlist = [char for char in string.punctuation] # list of english punctuation marks"
   ]
  },
  {
   "cell_type": "markdown",
   "metadata": {},
   "source": [
    "# 0. Load data"
   ]
  },
  {
   "cell_type": "code",
   "execution_count": 10,
   "metadata": {},
   "outputs": [
    {
     "data": {
      "text/html": [
       "<div>\n",
       "<style scoped>\n",
       "    .dataframe tbody tr th:only-of-type {\n",
       "        vertical-align: middle;\n",
       "    }\n",
       "\n",
       "    .dataframe tbody tr th {\n",
       "        vertical-align: top;\n",
       "    }\n",
       "\n",
       "    .dataframe thead th {\n",
       "        text-align: right;\n",
       "    }\n",
       "</style>\n",
       "<table border=\"1\" class=\"dataframe\">\n",
       "  <thead>\n",
       "    <tr style=\"text-align: right;\">\n",
       "      <th></th>\n",
       "      <th>id</th>\n",
       "      <th>name</th>\n",
       "      <th>name_upper</th>\n",
       "      <th>neighbourhood_group</th>\n",
       "      <th>price</th>\n",
       "    </tr>\n",
       "  </thead>\n",
       "  <tbody>\n",
       "    <tr>\n",
       "      <th>0</th>\n",
       "      <td>2539</td>\n",
       "      <td>Clean &amp; quiet apt home by the park</td>\n",
       "      <td>CLEAN &amp; QUIET APT HOME BY THE PARK</td>\n",
       "      <td>Brooklyn</td>\n",
       "      <td>149</td>\n",
       "    </tr>\n",
       "    <tr>\n",
       "      <th>1</th>\n",
       "      <td>2595</td>\n",
       "      <td>Skylit Midtown Castle</td>\n",
       "      <td>SKYLIT MIDTOWN CASTLE</td>\n",
       "      <td>Manhattan</td>\n",
       "      <td>225</td>\n",
       "    </tr>\n",
       "    <tr>\n",
       "      <th>2</th>\n",
       "      <td>3647</td>\n",
       "      <td>THE VILLAGE OF HARLEM....NEW YORK !</td>\n",
       "      <td>THE VILLAGE OF HARLEM....NEW YORK !</td>\n",
       "      <td>Manhattan</td>\n",
       "      <td>150</td>\n",
       "    </tr>\n",
       "    <tr>\n",
       "      <th>3</th>\n",
       "      <td>3831</td>\n",
       "      <td>Cozy Entire Floor of Brownstone</td>\n",
       "      <td>COZY ENTIRE FLOOR OF BROWNSTONE</td>\n",
       "      <td>Brooklyn</td>\n",
       "      <td>89</td>\n",
       "    </tr>\n",
       "    <tr>\n",
       "      <th>4</th>\n",
       "      <td>5022</td>\n",
       "      <td>Entire Apt: Spacious Studio/Loft by central park</td>\n",
       "      <td>ENTIRE APT: SPACIOUS STUDIO/LOFT BY CENTRAL PARK</td>\n",
       "      <td>Manhattan</td>\n",
       "      <td>80</td>\n",
       "    </tr>\n",
       "  </tbody>\n",
       "</table>\n",
       "</div>"
      ],
      "text/plain": [
       "     id                                              name  \\\n",
       "0  2539                Clean & quiet apt home by the park   \n",
       "1  2595                             Skylit Midtown Castle   \n",
       "2  3647               THE VILLAGE OF HARLEM....NEW YORK !   \n",
       "3  3831                   Cozy Entire Floor of Brownstone   \n",
       "4  5022  Entire Apt: Spacious Studio/Loft by central park   \n",
       "\n",
       "                                         name_upper neighbourhood_group  price  \n",
       "0                CLEAN & QUIET APT HOME BY THE PARK            Brooklyn    149  \n",
       "1                             SKYLIT MIDTOWN CASTLE           Manhattan    225  \n",
       "2               THE VILLAGE OF HARLEM....NEW YORK !           Manhattan    150  \n",
       "3                   COZY ENTIRE FLOOR OF BROWNSTONE            Brooklyn     89  \n",
       "4  ENTIRE APT: SPACIOUS STUDIO/LOFT BY CENTRAL PARK           Manhattan     80  "
      ]
     },
     "execution_count": 10,
     "metadata": {},
     "output_type": "execute_result"
    }
   ],
   "source": [
    "ab = pd.read_csv(\"../public_data/airbnb_text.zip\")\n",
    "ab.head()"
   ]
  },
  {
   "cell_type": "markdown",
   "metadata": {},
   "source": [
    "# 1. Preprocess documents\n",
    "\n",
    "In this case, each name/name_upper, or listing title, we're treating as a document"
   ]
  },
  {
   "cell_type": "markdown",
   "metadata": {},
   "source": [
    "## 1.1 Load stopwords list and augment with our own custom ones"
   ]
  },
  {
   "cell_type": "code",
   "execution_count": 11,
   "metadata": {},
   "outputs": [
    {
     "name": "stderr",
     "output_type": "stream",
     "text": [
      "[nltk_data] Downloading package stopwords to\n",
      "[nltk_data]     /Users/juliegnany/nltk_data...\n",
      "[nltk_data]   Package stopwords is already up-to-date!\n"
     ]
    },
    {
     "data": {
      "text/plain": [
       "True"
      ]
     },
     "execution_count": 11,
     "metadata": {},
     "output_type": "execute_result"
    }
   ],
   "source": [
    "import nltk\n",
    "nltk.download('stopwords')"
   ]
  },
  {
   "cell_type": "code",
   "execution_count": 13,
   "metadata": {},
   "outputs": [],
   "source": [
    "list_stopwords = stopwords.words(\"english\")\n",
    "\n",
    "custom_words_toadd = ['apartment', 'new york', 'nyc',\n",
    "                      'bronx', 'brooklyn',\n",
    "                     'manhattan', 'queens', \n",
    "                      'staten island']\n",
    "\n",
    "list_stopwords_new = list_stopwords + custom_words_toadd\n"
   ]
  },
  {
   "cell_type": "markdown",
   "metadata": {},
   "source": [
    "## 1.2 Remove stopwords from lowercase version of corpus\n"
   ]
  },
  {
   "cell_type": "code",
   "execution_count": 14,
   "metadata": {},
   "outputs": [
    {
     "data": {
      "text/plain": [
       "['clean & quiet apt home by the park',\n",
       " 'skylit midtown castle',\n",
       " 'the village of harlem....new york !',\n",
       " 'cozy entire floor of brownstone',\n",
       " 'entire apt: spacious studio/loft by central park']"
      ]
     },
     "execution_count": 14,
     "metadata": {},
     "output_type": "execute_result"
    },
    {
     "data": {
      "text/plain": [
       "['cozy', 'entire', 'floor', 'brownstone']"
      ]
     },
     "execution_count": 14,
     "metadata": {},
     "output_type": "execute_result"
    }
   ],
   "source": [
    "## convert to lowercase and a list\n",
    "corpus_lower = ab.name.str.lower().to_list()\n",
    "corpus_lower[0:5]\n",
    "\n",
    "## use wordpunct tokenize and filter out with one\n",
    "example_listing = corpus_lower[3]\n",
    "nostop_listing = [word for word in wordpunct_tokenize(example_listing) \n",
    "                          if word not in list_stopwords_new]\n",
    "nostop_listing"
   ]
  },
  {
   "cell_type": "markdown",
   "metadata": {},
   "source": [
    "## 1.3 stem and remove non-alpha\n",
    "\n",
    "Other contexts we may want to leave digits in"
   ]
  },
  {
   "cell_type": "code",
   "execution_count": 15,
   "metadata": {},
   "outputs": [
    {
     "data": {
      "text/plain": [
       "['cozi', 'entir', 'floor', 'brownston']"
      ]
     },
     "execution_count": 15,
     "metadata": {},
     "output_type": "execute_result"
    }
   ],
   "source": [
    "## initialize stemmer\n",
    "porter = PorterStemmer()\n",
    "\n",
    "## apply to one by iterating\n",
    "## over the tokens in the list\n",
    "example_listing_preprocess = [porter.stem(token) \n",
    "                            for token in nostop_listing \n",
    "                            if token.isalpha() and \n",
    "                            len(token) > 2]\n",
    "\n",
    "example_listing_preprocess"
   ]
  },
  {
   "cell_type": "code",
   "execution_count": 16,
   "metadata": {},
   "outputs": [
    {
     "data": {
      "text/plain": [
       "'cozy entire floor of brownstone'"
      ]
     },
     "execution_count": 16,
     "metadata": {},
     "output_type": "execute_result"
    },
    {
     "data": {
      "text/plain": [
       "['cozi', 'entir', 'floor', 'brownston']"
      ]
     },
     "execution_count": 16,
     "metadata": {},
     "output_type": "execute_result"
    }
   ],
   "source": [
    "example_listing\n",
    "example_listing_preprocess"
   ]
  },
  {
   "cell_type": "markdown",
   "metadata": {},
   "source": [
    "## 1.4 Activity 1\n",
    "\n",
    "The above example performed preprocessing on a single Airbnb listing. We want to generalize this preprocessing across all listings.\n",
    "\n",
    "- Embed step two (remove stopwords) and step three (stem) into one or two functions that take in a raw string (eg the raw text of an Airbnb review) and return a preprocessed string \n",
    "- Apply the function iteratively to preprocess all the texts in `corpus_lower`. Output could either be a list where each list element is a string of a list (e.g., `cozy brownstone apt`), or a list of lists where each element is a tokenized string (e.g., `['cozy', 'brownstone', 'apt'])`\n",
    "\n",
    "Output is flexible: it could be a list of lists containing tokenized/stemmed text or a list of strings."
   ]
  },
  {
   "cell_type": "code",
   "execution_count": 26,
   "metadata": {},
   "outputs": [
    {
     "data": {
      "text/plain": [
       "['clean quiet apt home park',\n",
       " 'skylit midtown castl',\n",
       " 'villag harlem new york',\n",
       " 'cozi entir floor brownston',\n",
       " 'entir apt spaciou studio loft central park',\n",
       " 'larg cozi midtown east']"
      ]
     },
     "execution_count": 26,
     "metadata": {},
     "output_type": "execute_result"
    }
   ],
   "source": [
    "# your code here to define the function(s)\n",
    "\n",
    "def process_string(text):\n",
    "    if pd.isna(text):\n",
    "        return \"\"\n",
    "    lower_text = text.lower()\n",
    "    ## use wordpunct tokenize and filter out with one\n",
    "    nostop_listing = [word for word in wordpunct_tokenize(lower_text)\n",
    "                              if word not in list_stopwords_new]\n",
    "    ## apply to one by iterating\n",
    "    ## over the tokens in the list\n",
    "    text_preprocess = [porter.stem(token)\n",
    "                                for token in nostop_listing\n",
    "                                if token.isalpha() and\n",
    "                                len(token) > 2]\n",
    "    return \" \".join(text_preprocess)\n",
    "\n",
    "# your code here to apply the function\n",
    "preprocessing = [process_string(text) for text in corpus_lower]\n",
    "preprocessing[:6]"
   ]
  },
  {
   "cell_type": "markdown",
   "metadata": {},
   "source": [
    "# 2. Create a document-term matrix and do some basic diagnostics (more manual approach)\n",
    "\n",
    "Here we'll create a DTM first using the raw documents; in the activity, you'll create one using the preprocessed docs\n",
    "that you created in activity 1"
   ]
  },
  {
   "cell_type": "markdown",
   "metadata": {},
   "source": [
    "## 2.1 Define the dtm function and select data to transform into a document-term matrix"
   ]
  },
  {
   "cell_type": "code",
   "execution_count": 27,
   "metadata": {},
   "outputs": [],
   "source": [
    "## function provided\n",
    "def create_dtm(list_of_strings, metadata):\n",
    "    \"\"\" \n",
    "    Function to create dense document-term matrix (DTM) from a list of strings and provided metadata. \n",
    "    A sparse DTM is a list of term_index/doc_index tuples: if a given term occurs in a given doc at least once, \n",
    "        then this count is listed as a tuple; if not, that term/doc pair is omitted. \n",
    "    In a dense DTM, each row is one text (e.g., an Airbnb listing), each column is a term, and \n",
    "        each cell indicates the frequency of that word in that text. \n",
    "    \n",
    "    Parameters:\n",
    "        list_of_strings (Series): each row contains a preprocessed string (need not be tokenized)\n",
    "        metadata (DataFrame): contains document-level covariates\n",
    "    \n",
    "    Returns:\n",
    "        Dense DTM with metadata on left and then one column per word in lexicon\n",
    "    \"\"\"\n",
    "    \n",
    "    # initialize a sklearn tokenizer; this helps us tokenize the preprocessed string input\n",
    "    vectorizer = CountVectorizer(lowercase = True) \n",
    "    dtm_sparse = vectorizer.fit_transform(list_of_strings)\n",
    "    print('Sparse matrix form:\\n', dtm_sparse[:3]) # take a look at sparse representation\n",
    "    print()\n",
    "    \n",
    "    # switch the dataframe from the sparse representation to the normal dense representation (so we can treat it as regular dataframe)\n",
    "    dtm_dense_named = pd.DataFrame(dtm_sparse.todense(), columns=vectorizer.get_feature_names_out ())\n",
    "    print('Dense matrix form:\\n', dtm_dense_named.head()) # take a look at dense representation\n",
    "    dtm_dense_named_withid = pd.concat([metadata.reset_index(), dtm_dense_named], axis = 1) # add back document-level covariates\n",
    "\n",
    "    return(dtm_dense_named_withid)"
   ]
  },
  {
   "cell_type": "code",
   "execution_count": 28,
   "metadata": {},
   "outputs": [
    {
     "data": {
      "text/html": [
       "<div>\n",
       "<style scoped>\n",
       "    .dataframe tbody tr th:only-of-type {\n",
       "        vertical-align: middle;\n",
       "    }\n",
       "\n",
       "    .dataframe tbody tr th {\n",
       "        vertical-align: top;\n",
       "    }\n",
       "\n",
       "    .dataframe thead th {\n",
       "        text-align: right;\n",
       "    }\n",
       "</style>\n",
       "<table border=\"1\" class=\"dataframe\">\n",
       "  <thead>\n",
       "    <tr style=\"text-align: right;\">\n",
       "      <th></th>\n",
       "      <th>id</th>\n",
       "      <th>neighbourhood_group</th>\n",
       "      <th>price_rawdata</th>\n",
       "      <th>name</th>\n",
       "      <th>name_lower</th>\n",
       "    </tr>\n",
       "  </thead>\n",
       "  <tbody>\n",
       "    <tr>\n",
       "      <th>23821</th>\n",
       "      <td>19227560</td>\n",
       "      <td>Queens</td>\n",
       "      <td>100</td>\n",
       "      <td>Super Cozy!</td>\n",
       "      <td>super cozy!</td>\n",
       "    </tr>\n",
       "    <tr>\n",
       "      <th>22905</th>\n",
       "      <td>18560625</td>\n",
       "      <td>Brooklyn</td>\n",
       "      <td>30</td>\n",
       "      <td>Beautiful Private Bedroom by Prospect Park</td>\n",
       "      <td>beautiful private bedroom by prospect park</td>\n",
       "    </tr>\n",
       "    <tr>\n",
       "      <th>20426</th>\n",
       "      <td>16289576</td>\n",
       "      <td>Manhattan</td>\n",
       "      <td>80</td>\n",
       "      <td>Best Location on the Upper West Side! - Part II</td>\n",
       "      <td>best location on the upper west side! - part ii</td>\n",
       "    </tr>\n",
       "    <tr>\n",
       "      <th>2018</th>\n",
       "      <td>893413</td>\n",
       "      <td>Manhattan</td>\n",
       "      <td>2500</td>\n",
       "      <td>Architecturally Stunning Former Synagogue!</td>\n",
       "      <td>architecturally stunning former synagogue!</td>\n",
       "    </tr>\n",
       "    <tr>\n",
       "      <th>18790</th>\n",
       "      <td>14882137</td>\n",
       "      <td>Queens</td>\n",
       "      <td>50</td>\n",
       "      <td>Large, beautiful room near Bushwick</td>\n",
       "      <td>large, beautiful room near bushwick</td>\n",
       "    </tr>\n",
       "  </tbody>\n",
       "</table>\n",
       "</div>"
      ],
      "text/plain": [
       "             id neighbourhood_group  price_rawdata  \\\n",
       "23821  19227560              Queens            100   \n",
       "22905  18560625            Brooklyn             30   \n",
       "20426  16289576           Manhattan             80   \n",
       "2018     893413           Manhattan           2500   \n",
       "18790  14882137              Queens             50   \n",
       "\n",
       "                                                  name  \\\n",
       "23821                                      Super Cozy!   \n",
       "22905       Beautiful Private Bedroom by Prospect Park   \n",
       "20426  Best Location on the Upper West Side! - Part II   \n",
       "2018        Architecturally Stunning Former Synagogue!   \n",
       "18790              Large, beautiful room near Bushwick   \n",
       "\n",
       "                                            name_lower  \n",
       "23821                                      super cozy!  \n",
       "22905       beautiful private bedroom by prospect park  \n",
       "20426  best location on the upper west side! - part ii  \n",
       "2018        architecturally stunning former synagogue!  \n",
       "18790              large, beautiful room near bushwick  "
      ]
     },
     "execution_count": 28,
     "metadata": {},
     "output_type": "execute_result"
    }
   ],
   "source": [
    "\n",
    "## filter out na's\n",
    "## for shorter runtime, random sampling of 1000\n",
    "## get metadata for those\n",
    "## and also renaming price col since it's likely to be corpus word\n",
    "ab_small = ab.loc[~ab.name.isnull(),\n",
    "           ['id', 'neighbourhood_group', 'price', 'name']].copy().rename(columns = {'price':\n",
    "            'price_rawdata'}).sample(n = 1000, random_state = 422)\n",
    "\n",
    "ab_small['name_lower'] = ab_small['name'].str.lower()\n",
    "ab_small.head()"
   ]
  },
  {
   "cell_type": "markdown",
   "metadata": {},
   "source": [
    "## 2.2 Execute the dtm function to create the document-term matrix"
   ]
  },
  {
   "cell_type": "code",
   "execution_count": 29,
   "metadata": {},
   "outputs": [
    {
     "name": "stdout",
     "output_type": "stream",
     "text": [
      "Sparse matrix form:\n",
      "   (0, 841)\t1\n",
      "  (0, 281)\t1\n",
      "  (1, 152)\t1\n",
      "  (1, 693)\t1\n",
      "  (1, 157)\t1\n",
      "  (1, 205)\t1\n",
      "  (1, 698)\t1\n",
      "  (1, 653)\t1\n",
      "  (2, 165)\t1\n",
      "  (2, 537)\t1\n",
      "  (2, 637)\t1\n",
      "  (2, 856)\t1\n",
      "  (2, 902)\t1\n",
      "  (2, 939)\t1\n",
      "  (2, 774)\t1\n",
      "  (2, 657)\t1\n",
      "  (2, 471)\t1\n",
      "\n",
      "Dense matrix form:\n",
      "    001  10  10m  10min  10mins  1100  12mins  14  15  15min  ...  yoga  york  \\\n",
      "0    0   0    0      0       0     0       0   0   0      0  ...     0     0   \n",
      "1    0   0    0      0       0     0       0   0   0      0  ...     0     0   \n",
      "2    0   0    0      0       0     0       0   0   0      0  ...     0     0   \n",
      "3    0   0    0      0       0     0       0   0   0      0  ...     0     0   \n",
      "4    0   0    0      0       0     0       0   0   0      0  ...     0     0   \n",
      "\n",
      "   you  your  yu  zen  ღღღsteps  法拉盛中心私人房間獨立衛浴  溫馨大套房  獨一無二的紐約閣樓  \n",
      "0    0     0   0    0         0              0      0          0  \n",
      "1    0     0   0    0         0              0      0          0  \n",
      "2    0     0   0    0         0              0      0          0  \n",
      "3    0     0   0    0         0              0      0          0  \n",
      "4    0     0   0    0         0              0      0          0  \n",
      "\n",
      "[5 rows x 970 columns]\n"
     ]
    }
   ],
   "source": [
    "## example application on raw lowercase texts; \n",
    "dtm_nopre = create_dtm(list_of_strings= ab_small.name_lower,\n",
    "                      metadata = ab_small[['id', 'neighbourhood_group', 'price_rawdata']])\n",
    "\n"
   ]
  },
  {
   "cell_type": "code",
   "execution_count": 30,
   "metadata": {},
   "outputs": [
    {
     "data": {
      "text/html": [
       "<div>\n",
       "<style scoped>\n",
       "    .dataframe tbody tr th:only-of-type {\n",
       "        vertical-align: middle;\n",
       "    }\n",
       "\n",
       "    .dataframe tbody tr th {\n",
       "        vertical-align: top;\n",
       "    }\n",
       "\n",
       "    .dataframe thead th {\n",
       "        text-align: right;\n",
       "    }\n",
       "</style>\n",
       "<table border=\"1\" class=\"dataframe\">\n",
       "  <thead>\n",
       "    <tr style=\"text-align: right;\">\n",
       "      <th></th>\n",
       "      <th>index</th>\n",
       "      <th>id</th>\n",
       "      <th>neighbourhood_group</th>\n",
       "      <th>price_rawdata</th>\n",
       "      <th>001</th>\n",
       "      <th>10</th>\n",
       "      <th>10m</th>\n",
       "      <th>10min</th>\n",
       "      <th>10mins</th>\n",
       "      <th>1100</th>\n",
       "      <th>...</th>\n",
       "      <th>yoga</th>\n",
       "      <th>york</th>\n",
       "      <th>you</th>\n",
       "      <th>your</th>\n",
       "      <th>yu</th>\n",
       "      <th>zen</th>\n",
       "      <th>ღღღsteps</th>\n",
       "      <th>法拉盛中心私人房間獨立衛浴</th>\n",
       "      <th>溫馨大套房</th>\n",
       "      <th>獨一無二的紐約閣樓</th>\n",
       "    </tr>\n",
       "  </thead>\n",
       "  <tbody>\n",
       "    <tr>\n",
       "      <th>0</th>\n",
       "      <td>23821</td>\n",
       "      <td>19227560</td>\n",
       "      <td>Queens</td>\n",
       "      <td>100</td>\n",
       "      <td>0</td>\n",
       "      <td>0</td>\n",
       "      <td>0</td>\n",
       "      <td>0</td>\n",
       "      <td>0</td>\n",
       "      <td>0</td>\n",
       "      <td>...</td>\n",
       "      <td>0</td>\n",
       "      <td>0</td>\n",
       "      <td>0</td>\n",
       "      <td>0</td>\n",
       "      <td>0</td>\n",
       "      <td>0</td>\n",
       "      <td>0</td>\n",
       "      <td>0</td>\n",
       "      <td>0</td>\n",
       "      <td>0</td>\n",
       "    </tr>\n",
       "    <tr>\n",
       "      <th>1</th>\n",
       "      <td>22905</td>\n",
       "      <td>18560625</td>\n",
       "      <td>Brooklyn</td>\n",
       "      <td>30</td>\n",
       "      <td>0</td>\n",
       "      <td>0</td>\n",
       "      <td>0</td>\n",
       "      <td>0</td>\n",
       "      <td>0</td>\n",
       "      <td>0</td>\n",
       "      <td>...</td>\n",
       "      <td>0</td>\n",
       "      <td>0</td>\n",
       "      <td>0</td>\n",
       "      <td>0</td>\n",
       "      <td>0</td>\n",
       "      <td>0</td>\n",
       "      <td>0</td>\n",
       "      <td>0</td>\n",
       "      <td>0</td>\n",
       "      <td>0</td>\n",
       "    </tr>\n",
       "    <tr>\n",
       "      <th>2</th>\n",
       "      <td>20426</td>\n",
       "      <td>16289576</td>\n",
       "      <td>Manhattan</td>\n",
       "      <td>80</td>\n",
       "      <td>0</td>\n",
       "      <td>0</td>\n",
       "      <td>0</td>\n",
       "      <td>0</td>\n",
       "      <td>0</td>\n",
       "      <td>0</td>\n",
       "      <td>...</td>\n",
       "      <td>0</td>\n",
       "      <td>0</td>\n",
       "      <td>0</td>\n",
       "      <td>0</td>\n",
       "      <td>0</td>\n",
       "      <td>0</td>\n",
       "      <td>0</td>\n",
       "      <td>0</td>\n",
       "      <td>0</td>\n",
       "      <td>0</td>\n",
       "    </tr>\n",
       "    <tr>\n",
       "      <th>3</th>\n",
       "      <td>2018</td>\n",
       "      <td>893413</td>\n",
       "      <td>Manhattan</td>\n",
       "      <td>2500</td>\n",
       "      <td>0</td>\n",
       "      <td>0</td>\n",
       "      <td>0</td>\n",
       "      <td>0</td>\n",
       "      <td>0</td>\n",
       "      <td>0</td>\n",
       "      <td>...</td>\n",
       "      <td>0</td>\n",
       "      <td>0</td>\n",
       "      <td>0</td>\n",
       "      <td>0</td>\n",
       "      <td>0</td>\n",
       "      <td>0</td>\n",
       "      <td>0</td>\n",
       "      <td>0</td>\n",
       "      <td>0</td>\n",
       "      <td>0</td>\n",
       "    </tr>\n",
       "    <tr>\n",
       "      <th>4</th>\n",
       "      <td>18790</td>\n",
       "      <td>14882137</td>\n",
       "      <td>Queens</td>\n",
       "      <td>50</td>\n",
       "      <td>0</td>\n",
       "      <td>0</td>\n",
       "      <td>0</td>\n",
       "      <td>0</td>\n",
       "      <td>0</td>\n",
       "      <td>0</td>\n",
       "      <td>...</td>\n",
       "      <td>0</td>\n",
       "      <td>0</td>\n",
       "      <td>0</td>\n",
       "      <td>0</td>\n",
       "      <td>0</td>\n",
       "      <td>0</td>\n",
       "      <td>0</td>\n",
       "      <td>0</td>\n",
       "      <td>0</td>\n",
       "      <td>0</td>\n",
       "    </tr>\n",
       "  </tbody>\n",
       "</table>\n",
       "<p>5 rows × 974 columns</p>\n",
       "</div>"
      ],
      "text/plain": [
       "   index        id neighbourhood_group  price_rawdata  001  10  10m  10min  \\\n",
       "0  23821  19227560              Queens            100    0   0    0      0   \n",
       "1  22905  18560625            Brooklyn             30    0   0    0      0   \n",
       "2  20426  16289576           Manhattan             80    0   0    0      0   \n",
       "3   2018    893413           Manhattan           2500    0   0    0      0   \n",
       "4  18790  14882137              Queens             50    0   0    0      0   \n",
       "\n",
       "   10mins  1100  ...  yoga  york  you  your  yu  zen  ღღღsteps  法拉盛中心私人房間獨立衛浴  \\\n",
       "0       0     0  ...     0     0    0     0   0    0         0              0   \n",
       "1       0     0  ...     0     0    0     0   0    0         0              0   \n",
       "2       0     0  ...     0     0    0     0   0    0         0              0   \n",
       "3       0     0  ...     0     0    0     0   0    0         0              0   \n",
       "4       0     0  ...     0     0    0     0   0    0         0              0   \n",
       "\n",
       "   溫馨大套房  獨一無二的紐約閣樓  \n",
       "0      0          0  \n",
       "1      0          0  \n",
       "2      0          0  \n",
       "3      0          0  \n",
       "4      0          0  \n",
       "\n",
       "[5 rows x 974 columns]"
      ]
     },
     "execution_count": 30,
     "metadata": {},
     "output_type": "execute_result"
    },
    {
     "data": {
      "text/plain": [
       "(1000, 974)"
      ]
     },
     "execution_count": 30,
     "metadata": {},
     "output_type": "execute_result"
    },
    {
     "data": {
      "text/html": [
       "<div>\n",
       "<style scoped>\n",
       "    .dataframe tbody tr th:only-of-type {\n",
       "        vertical-align: middle;\n",
       "    }\n",
       "\n",
       "    .dataframe tbody tr th {\n",
       "        vertical-align: top;\n",
       "    }\n",
       "\n",
       "    .dataframe thead th {\n",
       "        text-align: right;\n",
       "    }\n",
       "</style>\n",
       "<table border=\"1\" class=\"dataframe\">\n",
       "  <thead>\n",
       "    <tr style=\"text-align: right;\">\n",
       "      <th></th>\n",
       "      <th>inclusive</th>\n",
       "      <th>incredible</th>\n",
       "      <th>incredibly</th>\n",
       "      <th>indoor</th>\n",
       "      <th>inn</th>\n",
       "      <th>inq</th>\n",
       "      <th>insane</th>\n",
       "      <th>int</th>\n",
       "      <th>interior</th>\n",
       "      <th>international</th>\n",
       "      <th>interns</th>\n",
       "      <th>invincible</th>\n",
       "      <th>inviting</th>\n",
       "      <th>inwood</th>\n",
       "      <th>island</th>\n",
       "      <th>it</th>\n",
       "      <th>italy</th>\n",
       "      <th>its</th>\n",
       "      <th>jefferson</th>\n",
       "      <th>jewel</th>\n",
       "    </tr>\n",
       "  </thead>\n",
       "  <tbody>\n",
       "    <tr>\n",
       "      <th>0</th>\n",
       "      <td>0</td>\n",
       "      <td>0</td>\n",
       "      <td>0</td>\n",
       "      <td>0</td>\n",
       "      <td>0</td>\n",
       "      <td>0</td>\n",
       "      <td>0</td>\n",
       "      <td>0</td>\n",
       "      <td>0</td>\n",
       "      <td>0</td>\n",
       "      <td>0</td>\n",
       "      <td>0</td>\n",
       "      <td>0</td>\n",
       "      <td>0</td>\n",
       "      <td>0</td>\n",
       "      <td>0</td>\n",
       "      <td>0</td>\n",
       "      <td>0</td>\n",
       "      <td>0</td>\n",
       "      <td>0</td>\n",
       "    </tr>\n",
       "    <tr>\n",
       "      <th>1</th>\n",
       "      <td>0</td>\n",
       "      <td>0</td>\n",
       "      <td>0</td>\n",
       "      <td>0</td>\n",
       "      <td>0</td>\n",
       "      <td>0</td>\n",
       "      <td>0</td>\n",
       "      <td>0</td>\n",
       "      <td>0</td>\n",
       "      <td>0</td>\n",
       "      <td>0</td>\n",
       "      <td>0</td>\n",
       "      <td>0</td>\n",
       "      <td>0</td>\n",
       "      <td>0</td>\n",
       "      <td>0</td>\n",
       "      <td>0</td>\n",
       "      <td>0</td>\n",
       "      <td>0</td>\n",
       "      <td>0</td>\n",
       "    </tr>\n",
       "    <tr>\n",
       "      <th>2</th>\n",
       "      <td>0</td>\n",
       "      <td>0</td>\n",
       "      <td>0</td>\n",
       "      <td>0</td>\n",
       "      <td>0</td>\n",
       "      <td>0</td>\n",
       "      <td>0</td>\n",
       "      <td>0</td>\n",
       "      <td>0</td>\n",
       "      <td>0</td>\n",
       "      <td>0</td>\n",
       "      <td>0</td>\n",
       "      <td>0</td>\n",
       "      <td>0</td>\n",
       "      <td>0</td>\n",
       "      <td>0</td>\n",
       "      <td>0</td>\n",
       "      <td>0</td>\n",
       "      <td>0</td>\n",
       "      <td>0</td>\n",
       "    </tr>\n",
       "    <tr>\n",
       "      <th>3</th>\n",
       "      <td>0</td>\n",
       "      <td>0</td>\n",
       "      <td>0</td>\n",
       "      <td>0</td>\n",
       "      <td>0</td>\n",
       "      <td>0</td>\n",
       "      <td>0</td>\n",
       "      <td>0</td>\n",
       "      <td>0</td>\n",
       "      <td>0</td>\n",
       "      <td>0</td>\n",
       "      <td>0</td>\n",
       "      <td>0</td>\n",
       "      <td>0</td>\n",
       "      <td>0</td>\n",
       "      <td>0</td>\n",
       "      <td>0</td>\n",
       "      <td>0</td>\n",
       "      <td>0</td>\n",
       "      <td>0</td>\n",
       "    </tr>\n",
       "    <tr>\n",
       "      <th>4</th>\n",
       "      <td>0</td>\n",
       "      <td>0</td>\n",
       "      <td>0</td>\n",
       "      <td>0</td>\n",
       "      <td>0</td>\n",
       "      <td>0</td>\n",
       "      <td>0</td>\n",
       "      <td>0</td>\n",
       "      <td>0</td>\n",
       "      <td>0</td>\n",
       "      <td>0</td>\n",
       "      <td>0</td>\n",
       "      <td>0</td>\n",
       "      <td>0</td>\n",
       "      <td>0</td>\n",
       "      <td>0</td>\n",
       "      <td>0</td>\n",
       "      <td>0</td>\n",
       "      <td>0</td>\n",
       "      <td>0</td>\n",
       "    </tr>\n",
       "  </tbody>\n",
       "</table>\n",
       "</div>"
      ],
      "text/plain": [
       "   inclusive  incredible  incredibly  indoor  inn  inq  insane  int  interior  \\\n",
       "0          0           0           0       0    0    0       0    0         0   \n",
       "1          0           0           0       0    0    0       0    0         0   \n",
       "2          0           0           0       0    0    0       0    0         0   \n",
       "3          0           0           0       0    0    0       0    0         0   \n",
       "4          0           0           0       0    0    0       0    0         0   \n",
       "\n",
       "   international  interns  invincible  inviting  inwood  island  it  italy  \\\n",
       "0              0        0           0         0       0       0   0      0   \n",
       "1              0        0           0         0       0       0   0      0   \n",
       "2              0        0           0         0       0       0   0      0   \n",
       "3              0        0           0         0       0       0   0      0   \n",
       "4              0        0           0         0       0       0   0      0   \n",
       "\n",
       "   its  jefferson  jewel  \n",
       "0    0          0      0  \n",
       "1    0          0      0  \n",
       "2    0          0      0  \n",
       "3    0          0      0  \n",
       "4    0          0      0  "
      ]
     },
     "execution_count": 30,
     "metadata": {},
     "output_type": "execute_result"
    }
   ],
   "source": [
    "## show first set of rows/cols\n",
    "dtm_nopre.head()\n",
    "\n",
    "## show arbitrary later cols in resulting data\n",
    "dtm_nopre.shape\n",
    "dtm_nopre.iloc[0:5, 480:500]"
   ]
  },
  {
   "cell_type": "markdown",
   "metadata": {},
   "source": [
    "## 2.3 Use that matrix/column sums to get basic summary stats of top words"
   ]
  },
  {
   "cell_type": "code",
   "execution_count": 31,
   "metadata": {},
   "outputs": [
    {
     "data": {
      "text/plain": [
       "in           367\n",
       "room         244\n",
       "private      163\n",
       "bedroom      152\n",
       "apartment    130\n",
       "            ... \n",
       "gay            1\n",
       "gente          1\n",
       "geodesic       1\n",
       "george         1\n",
       "獨一無二的紐約閣樓      1\n",
       "Length: 970, dtype: int64"
      ]
     },
     "execution_count": 31,
     "metadata": {},
     "output_type": "execute_result"
    }
   ],
   "source": [
    "## summing each col\n",
    "top_terms = dtm_nopre[dtm_nopre.columns[4:]].sum(axis = 0)\n",
    "\n",
    "## sorting from most frequent to least frequent\n",
    "top_terms.sort_values(ascending = False)"
   ]
  },
  {
   "cell_type": "markdown",
   "metadata": {},
   "source": [
    "## 2.4 Activity 2: repeat the above but using the preprocessed text data\n",
    "\n",
    "- Stick with the same random sample of 1000 `ab_small`\n",
    "- Apply the preprocessing steps from activity 1 to create a new column in `ab_small` with the preprocessed text (if you got stuck on that, try just removing stopwords)\n",
    "- Use the `create_dtm` function to create a document-term matrix from the preprocessed data\n",
    "- Use colsums to summarize"
   ]
  },
  {
   "cell_type": "code",
   "execution_count": 45,
   "metadata": {},
   "outputs": [
    {
     "name": "stdout",
     "output_type": "stream",
     "text": [
      "Sparse matrix form:\n",
      "   (0, 646)\t1\n",
      "  (0, 170)\t1\n",
      "  (1, 60)\t1\n",
      "  (1, 516)\t1\n",
      "  (1, 65)\t1\n",
      "  (1, 519)\t1\n",
      "  (1, 480)\t1\n",
      "  (2, 70)\t1\n",
      "  (2, 388)\t1\n",
      "  (2, 697)\t1\n",
      "  (2, 729)\t1\n",
      "  (2, 584)\t1\n",
      "  (2, 482)\t1\n",
      "\n",
      "Dense matrix form:\n",
      "    abcd  abod  access  acidot  acogedor  across  address  ador  aesthet  \\\n",
      "0     0     0       0       0         0       0        0     0        0   \n",
      "1     0     0       0       0         0       0        0     0        0   \n",
      "2     0     0       0       0         0       0        0     0        0   \n",
      "3     0     0       0       0         0       0        0     0        0   \n",
      "4     0     0       0       0         0       0        0     0        0   \n",
      "\n",
      "   afford  ...  yard  year  yellow  yoga  york  zen  ღღღstep  法拉盛中心私人房間獨立衛浴  \\\n",
      "0       0  ...     0     0       0     0     0    0        0              0   \n",
      "1       0  ...     0     0       0     0     0    0        0              0   \n",
      "2       0  ...     0     0       0     0     0    0        0              0   \n",
      "3       0  ...     0     0       0     0     0    0        0              0   \n",
      "4       0  ...     0     0       0     0     0    0        0              0   \n",
      "\n",
      "   溫馨大套房  獨一無二的紐約閣樓  \n",
      "0      0          0  \n",
      "1      0          0  \n",
      "2      0          0  \n",
      "3      0          0  \n",
      "4      0          0  \n",
      "\n",
      "[5 rows x 753 columns]\n"
     ]
    },
    {
     "data": {
      "text/html": [
       "<div>\n",
       "<style scoped>\n",
       "    .dataframe tbody tr th:only-of-type {\n",
       "        vertical-align: middle;\n",
       "    }\n",
       "\n",
       "    .dataframe tbody tr th {\n",
       "        vertical-align: top;\n",
       "    }\n",
       "\n",
       "    .dataframe thead th {\n",
       "        text-align: right;\n",
       "    }\n",
       "</style>\n",
       "<table border=\"1\" class=\"dataframe\">\n",
       "  <thead>\n",
       "    <tr style=\"text-align: right;\">\n",
       "      <th></th>\n",
       "      <th>index</th>\n",
       "      <th>id</th>\n",
       "      <th>neighbourhood_group</th>\n",
       "      <th>price_rawdata</th>\n",
       "      <th>abcd</th>\n",
       "      <th>abod</th>\n",
       "      <th>access</th>\n",
       "      <th>acidot</th>\n",
       "      <th>acogedor</th>\n",
       "      <th>across</th>\n",
       "      <th>...</th>\n",
       "      <th>yard</th>\n",
       "      <th>year</th>\n",
       "      <th>yellow</th>\n",
       "      <th>yoga</th>\n",
       "      <th>york</th>\n",
       "      <th>zen</th>\n",
       "      <th>ღღღstep</th>\n",
       "      <th>法拉盛中心私人房間獨立衛浴</th>\n",
       "      <th>溫馨大套房</th>\n",
       "      <th>獨一無二的紐約閣樓</th>\n",
       "    </tr>\n",
       "  </thead>\n",
       "  <tbody>\n",
       "    <tr>\n",
       "      <th>0</th>\n",
       "      <td>23821</td>\n",
       "      <td>19227560</td>\n",
       "      <td>Queens</td>\n",
       "      <td>100</td>\n",
       "      <td>0</td>\n",
       "      <td>0</td>\n",
       "      <td>0</td>\n",
       "      <td>0</td>\n",
       "      <td>0</td>\n",
       "      <td>0</td>\n",
       "      <td>...</td>\n",
       "      <td>0</td>\n",
       "      <td>0</td>\n",
       "      <td>0</td>\n",
       "      <td>0</td>\n",
       "      <td>0</td>\n",
       "      <td>0</td>\n",
       "      <td>0</td>\n",
       "      <td>0</td>\n",
       "      <td>0</td>\n",
       "      <td>0</td>\n",
       "    </tr>\n",
       "    <tr>\n",
       "      <th>1</th>\n",
       "      <td>22905</td>\n",
       "      <td>18560625</td>\n",
       "      <td>Brooklyn</td>\n",
       "      <td>30</td>\n",
       "      <td>0</td>\n",
       "      <td>0</td>\n",
       "      <td>0</td>\n",
       "      <td>0</td>\n",
       "      <td>0</td>\n",
       "      <td>0</td>\n",
       "      <td>...</td>\n",
       "      <td>0</td>\n",
       "      <td>0</td>\n",
       "      <td>0</td>\n",
       "      <td>0</td>\n",
       "      <td>0</td>\n",
       "      <td>0</td>\n",
       "      <td>0</td>\n",
       "      <td>0</td>\n",
       "      <td>0</td>\n",
       "      <td>0</td>\n",
       "    </tr>\n",
       "    <tr>\n",
       "      <th>2</th>\n",
       "      <td>20426</td>\n",
       "      <td>16289576</td>\n",
       "      <td>Manhattan</td>\n",
       "      <td>80</td>\n",
       "      <td>0</td>\n",
       "      <td>0</td>\n",
       "      <td>0</td>\n",
       "      <td>0</td>\n",
       "      <td>0</td>\n",
       "      <td>0</td>\n",
       "      <td>...</td>\n",
       "      <td>0</td>\n",
       "      <td>0</td>\n",
       "      <td>0</td>\n",
       "      <td>0</td>\n",
       "      <td>0</td>\n",
       "      <td>0</td>\n",
       "      <td>0</td>\n",
       "      <td>0</td>\n",
       "      <td>0</td>\n",
       "      <td>0</td>\n",
       "    </tr>\n",
       "    <tr>\n",
       "      <th>3</th>\n",
       "      <td>2018</td>\n",
       "      <td>893413</td>\n",
       "      <td>Manhattan</td>\n",
       "      <td>2500</td>\n",
       "      <td>0</td>\n",
       "      <td>0</td>\n",
       "      <td>0</td>\n",
       "      <td>0</td>\n",
       "      <td>0</td>\n",
       "      <td>0</td>\n",
       "      <td>...</td>\n",
       "      <td>0</td>\n",
       "      <td>0</td>\n",
       "      <td>0</td>\n",
       "      <td>0</td>\n",
       "      <td>0</td>\n",
       "      <td>0</td>\n",
       "      <td>0</td>\n",
       "      <td>0</td>\n",
       "      <td>0</td>\n",
       "      <td>0</td>\n",
       "    </tr>\n",
       "    <tr>\n",
       "      <th>4</th>\n",
       "      <td>18790</td>\n",
       "      <td>14882137</td>\n",
       "      <td>Queens</td>\n",
       "      <td>50</td>\n",
       "      <td>0</td>\n",
       "      <td>0</td>\n",
       "      <td>0</td>\n",
       "      <td>0</td>\n",
       "      <td>0</td>\n",
       "      <td>0</td>\n",
       "      <td>...</td>\n",
       "      <td>0</td>\n",
       "      <td>0</td>\n",
       "      <td>0</td>\n",
       "      <td>0</td>\n",
       "      <td>0</td>\n",
       "      <td>0</td>\n",
       "      <td>0</td>\n",
       "      <td>0</td>\n",
       "      <td>0</td>\n",
       "      <td>0</td>\n",
       "    </tr>\n",
       "  </tbody>\n",
       "</table>\n",
       "<p>5 rows × 757 columns</p>\n",
       "</div>"
      ],
      "text/plain": [
       "   index        id neighbourhood_group  price_rawdata  abcd  abod  access  \\\n",
       "0  23821  19227560              Queens            100     0     0       0   \n",
       "1  22905  18560625            Brooklyn             30     0     0       0   \n",
       "2  20426  16289576           Manhattan             80     0     0       0   \n",
       "3   2018    893413           Manhattan           2500     0     0       0   \n",
       "4  18790  14882137              Queens             50     0     0       0   \n",
       "\n",
       "   acidot  acogedor  across  ...  yard  year  yellow  yoga  york  zen  \\\n",
       "0       0         0       0  ...     0     0       0     0     0    0   \n",
       "1       0         0       0  ...     0     0       0     0     0    0   \n",
       "2       0         0       0  ...     0     0       0     0     0    0   \n",
       "3       0         0       0  ...     0     0       0     0     0    0   \n",
       "4       0         0       0  ...     0     0       0     0     0    0   \n",
       "\n",
       "   ღღღstep  法拉盛中心私人房間獨立衛浴  溫馨大套房  獨一無二的紐約閣樓  \n",
       "0        0              0      0          0  \n",
       "1        0              0      0          0  \n",
       "2        0              0      0          0  \n",
       "3        0              0      0          0  \n",
       "4        0              0      0          0  \n",
       "\n",
       "[5 rows x 757 columns]"
      ]
     },
     "execution_count": 45,
     "metadata": {},
     "output_type": "execute_result"
    },
    {
     "data": {
      "text/plain": [
       "(1000, 757)"
      ]
     },
     "execution_count": 45,
     "metadata": {},
     "output_type": "execute_result"
    },
    {
     "data": {
      "text/html": [
       "<div>\n",
       "<style scoped>\n",
       "    .dataframe tbody tr th:only-of-type {\n",
       "        vertical-align: middle;\n",
       "    }\n",
       "\n",
       "    .dataframe tbody tr th {\n",
       "        vertical-align: top;\n",
       "    }\n",
       "\n",
       "    .dataframe thead th {\n",
       "        text-align: right;\n",
       "    }\n",
       "</style>\n",
       "<table border=\"1\" class=\"dataframe\">\n",
       "  <thead>\n",
       "    <tr style=\"text-align: right;\">\n",
       "      <th></th>\n",
       "      <th>pad</th>\n",
       "      <th>palac</th>\n",
       "      <th>para</th>\n",
       "      <th>paradis</th>\n",
       "      <th>park</th>\n",
       "      <th>parkway</th>\n",
       "      <th>part</th>\n",
       "      <th>patio</th>\n",
       "      <th>peac</th>\n",
       "      <th>peach</th>\n",
       "      <th>pendulum</th>\n",
       "      <th>penth</th>\n",
       "      <th>penthous</th>\n",
       "      <th>peopl</th>\n",
       "      <th>perfect</th>\n",
       "      <th>perfectli</th>\n",
       "      <th>person</th>\n",
       "      <th>perstay</th>\n",
       "      <th>pet</th>\n",
       "      <th>photo</th>\n",
       "    </tr>\n",
       "  </thead>\n",
       "  <tbody>\n",
       "    <tr>\n",
       "      <th>0</th>\n",
       "      <td>0</td>\n",
       "      <td>0</td>\n",
       "      <td>0</td>\n",
       "      <td>0</td>\n",
       "      <td>0</td>\n",
       "      <td>0</td>\n",
       "      <td>0</td>\n",
       "      <td>0</td>\n",
       "      <td>0</td>\n",
       "      <td>0</td>\n",
       "      <td>0</td>\n",
       "      <td>0</td>\n",
       "      <td>0</td>\n",
       "      <td>0</td>\n",
       "      <td>0</td>\n",
       "      <td>0</td>\n",
       "      <td>0</td>\n",
       "      <td>0</td>\n",
       "      <td>0</td>\n",
       "      <td>0</td>\n",
       "    </tr>\n",
       "    <tr>\n",
       "      <th>1</th>\n",
       "      <td>0</td>\n",
       "      <td>0</td>\n",
       "      <td>0</td>\n",
       "      <td>0</td>\n",
       "      <td>1</td>\n",
       "      <td>0</td>\n",
       "      <td>0</td>\n",
       "      <td>0</td>\n",
       "      <td>0</td>\n",
       "      <td>0</td>\n",
       "      <td>0</td>\n",
       "      <td>0</td>\n",
       "      <td>0</td>\n",
       "      <td>0</td>\n",
       "      <td>0</td>\n",
       "      <td>0</td>\n",
       "      <td>0</td>\n",
       "      <td>0</td>\n",
       "      <td>0</td>\n",
       "      <td>0</td>\n",
       "    </tr>\n",
       "    <tr>\n",
       "      <th>2</th>\n",
       "      <td>0</td>\n",
       "      <td>0</td>\n",
       "      <td>0</td>\n",
       "      <td>0</td>\n",
       "      <td>0</td>\n",
       "      <td>0</td>\n",
       "      <td>1</td>\n",
       "      <td>0</td>\n",
       "      <td>0</td>\n",
       "      <td>0</td>\n",
       "      <td>0</td>\n",
       "      <td>0</td>\n",
       "      <td>0</td>\n",
       "      <td>0</td>\n",
       "      <td>0</td>\n",
       "      <td>0</td>\n",
       "      <td>0</td>\n",
       "      <td>0</td>\n",
       "      <td>0</td>\n",
       "      <td>0</td>\n",
       "    </tr>\n",
       "    <tr>\n",
       "      <th>3</th>\n",
       "      <td>0</td>\n",
       "      <td>0</td>\n",
       "      <td>0</td>\n",
       "      <td>0</td>\n",
       "      <td>0</td>\n",
       "      <td>0</td>\n",
       "      <td>0</td>\n",
       "      <td>0</td>\n",
       "      <td>0</td>\n",
       "      <td>0</td>\n",
       "      <td>0</td>\n",
       "      <td>0</td>\n",
       "      <td>0</td>\n",
       "      <td>0</td>\n",
       "      <td>0</td>\n",
       "      <td>0</td>\n",
       "      <td>0</td>\n",
       "      <td>0</td>\n",
       "      <td>0</td>\n",
       "      <td>0</td>\n",
       "    </tr>\n",
       "    <tr>\n",
       "      <th>4</th>\n",
       "      <td>0</td>\n",
       "      <td>0</td>\n",
       "      <td>0</td>\n",
       "      <td>0</td>\n",
       "      <td>0</td>\n",
       "      <td>0</td>\n",
       "      <td>0</td>\n",
       "      <td>0</td>\n",
       "      <td>0</td>\n",
       "      <td>0</td>\n",
       "      <td>0</td>\n",
       "      <td>0</td>\n",
       "      <td>0</td>\n",
       "      <td>0</td>\n",
       "      <td>0</td>\n",
       "      <td>0</td>\n",
       "      <td>0</td>\n",
       "      <td>0</td>\n",
       "      <td>0</td>\n",
       "      <td>0</td>\n",
       "    </tr>\n",
       "  </tbody>\n",
       "</table>\n",
       "</div>"
      ],
      "text/plain": [
       "   pad  palac  para  paradis  park  parkway  part  patio  peac  peach  \\\n",
       "0    0      0     0        0     0        0     0      0     0      0   \n",
       "1    0      0     0        0     1        0     0      0     0      0   \n",
       "2    0      0     0        0     0        0     1      0     0      0   \n",
       "3    0      0     0        0     0        0     0      0     0      0   \n",
       "4    0      0     0        0     0        0     0      0     0      0   \n",
       "\n",
       "   pendulum  penth  penthous  peopl  perfect  perfectli  person  perstay  pet  \\\n",
       "0         0      0         0      0        0          0       0        0    0   \n",
       "1         0      0         0      0        0          0       0        0    0   \n",
       "2         0      0         0      0        0          0       0        0    0   \n",
       "3         0      0         0      0        0          0       0        0    0   \n",
       "4         0      0         0      0        0          0       0        0    0   \n",
       "\n",
       "   photo  \n",
       "0      0  \n",
       "1      0  \n",
       "2      0  \n",
       "3      0  \n",
       "4      0  "
      ]
     },
     "execution_count": 45,
     "metadata": {},
     "output_type": "execute_result"
    }
   ],
   "source": [
    "## your code here \n",
    "#preprocess_small = [process_string(text) for text in corpus_lower]\n",
    "\n",
    "ab_small['preprocessed'] = ab_small.name.apply(process_string)\n",
    "\n",
    "dtm_small = create_dtm(list_of_strings= ab_small.preprocessed,\n",
    "                      metadata = ab_small[['id', 'neighbourhood_group', 'price_rawdata']])\n",
    "\n",
    "## show first set of rows/cols\n",
    "dtm_small.head()\n",
    "\n",
    "## show arbitrary later cols in resulting data\n",
    "dtm_small.shape\n",
    "dtm_small.iloc[0:5, 480:500]"
   ]
  },
  {
   "cell_type": "markdown",
   "metadata": {},
   "source": [
    "# 3. Use gensim to more automatically preprocess/estimate a topic model"
   ]
  },
  {
   "cell_type": "markdown",
   "metadata": {},
   "source": [
    "## 3.1 Creating the objects to feed the LDA modeling function\n",
    "\n",
    "Different outputs described below: \n",
    "- Tokenized and preprocessed text \n",
    "- Dictionary \n",
    "- Corpus "
   ]
  },
  {
   "cell_type": "code",
   "execution_count": 47,
   "metadata": {},
   "outputs": [
    {
     "data": {
      "text/plain": [
       "{0: '!', 1: 'cozy', 2: 'super', 3: 'beautiful', 4: 'bedroom'}"
      ]
     },
     "execution_count": 47,
     "metadata": {},
     "output_type": "execute_result"
    },
    {
     "name": "stdout",
     "output_type": "stream",
     "text": [
      "Filtering out very rare and very common words reduced the length of dictionary from 1047 to 31.\n"
     ]
    },
    {
     "data": {
      "text/plain": [
       "{0: '!', 1: 'cozy', 2: 'beautiful', 3: 'bedroom', 4: 'park'}"
      ]
     },
     "execution_count": 47,
     "metadata": {},
     "output_type": "execute_result"
    },
    {
     "name": "stdout",
     "output_type": "stream",
     "text": [
      "Sample of documents represented in dictionary format (with omitted words noted):\n"
     ]
    },
    {
     "data": {
      "text/plain": [
       "[([(0, 1), (1, 1)], {'super': 1}),\n",
       " ([(2, 1), (3, 1), (4, 1), (5, 1)], {'by': 1, 'prospect': 1}),\n",
       " ([(0, 1), (6, 1), (7, 1)],\n",
       "  {'best': 1,\n",
       "   'ii': 1,\n",
       "   'location': 1,\n",
       "   'on': 1,\n",
       "   'part': 1,\n",
       "   'side': 1,\n",
       "   'upper': 1,\n",
       "   'west': 1}),\n",
       " ([(0, 1)],\n",
       "  {'architecturally': 1, 'former': 1, 'stunning': 1, 'synagogue': 1}),\n",
       " ([(2, 1), (8, 1), (9, 1), (10, 1), (11, 1)], {'bushwick': 1}),\n",
       " ([(4, 1), (8, 1), (9, 1), (12, 1), (13, 2)],\n",
       "  {'bath': 1, 'bed': 1, 'by': 1, 'central': 1, 'college': 1, 'hunter': 1}),\n",
       " ([(9, 1), (11, 1), (14, 1), (15, 1)], {'bohemian': 1, 'brownstone': 1}),\n",
       " ([(16, 1)],\n",
       "  {'fidi': 1, 'huge': 1, 'loft': 1, 'views': 1, 'w': 1, 'water': 1}),\n",
       " ([], {'hillside': 1, 'hotel': 1}),\n",
       " ([(5, 1), (9, 1), (11, 1), (14, 1), (15, 1)], {'airy': 1})]"
      ]
     },
     "execution_count": 47,
     "metadata": {},
     "output_type": "execute_result"
    }
   ],
   "source": [
    "\n",
    "## Step 1: re-tokenize and store in list\n",
    "## here, i'm doing with the raw random sample of text\n",
    "## in activity, you should do with the preprocessed texts\n",
    "text_raw_tokens = [wordpunct_tokenize(one_text) for one_text in \n",
    "                  ab_small.name_lower]\n",
    "\n",
    "\n",
    "## Step 2: use gensim create dictionary - gets all unique words across documents\n",
    "text_raw_dict = corpora.Dictionary(text_raw_tokens)\n",
    "raw_len = len(text_raw_dict) # get length for comparison below\n",
    "\n",
    "### explore first few keys and values\n",
    "### see that key is just an arbitrary counter; value is the word itself\n",
    "{k: text_raw_dict[k] for k in list(text_raw_dict)[:5]}\n",
    "\n",
    "\n",
    "## Step 3: filter out very rare and very common words\n",
    "## here, i'm using the threshold that a word needs to appear in at least\n",
    "## 5% of docs but not more than 95%\n",
    "## this is an integer count of docs so i round\n",
    "lower_bound = round(ab_small.shape[0]*0.05)\n",
    "upper_bound = round(ab_small.shape[0]*0.95)\n",
    "\n",
    "### apply filtering to dictionary\n",
    "text_raw_dict.filter_extremes(no_below = lower_bound,\n",
    "                             no_above = upper_bound)\n",
    "print(f'Filtering out very rare and very common words reduced the \\\n",
    "length of dictionary from {str(raw_len)} to {str(len(text_raw_dict))}.')\n",
    "{k: text_raw_dict[k] for k in list(text_raw_dict)[:5]} # show first five entries after filtering\n",
    "\n",
    "\n",
    "## Step 4: apply dictionary to TOKENIZED texts\n",
    "## this creates a mapping between each word \n",
    "## in a specific listing and the key in the dictionary.\n",
    "## for words that remain in the filtered dictionary,\n",
    "## output is a list where len(list) == n documents\n",
    "## and each element in the list is a list of tuples\n",
    "## containing the mappings\n",
    "corpus_fromdict = [text_raw_dict.doc2bow(one_text) \n",
    "                   for one_text in text_raw_tokens]\n",
    "\n",
    "### can apply doc2bow(one_text, return_missing = True) to print words\n",
    "### eliminated from the listing bc they're not in filtered dictionary.\n",
    "### but feeding that one with missing values to\n",
    "### the lda function can cause errors\n",
    "corpus_fromdict_showmiss = [text_raw_dict.doc2bow(one_text, return_missing = True)\n",
    "                            for one_text in text_raw_tokens]\n",
    "print('Sample of documents represented in dictionary format (with omitted words noted):')\n",
    "corpus_fromdict_showmiss[:10]"
   ]
  },
  {
   "cell_type": "markdown",
   "metadata": {},
   "source": [
    "##  3.2 Estimating the model"
   ]
  },
  {
   "cell_type": "code",
   "execution_count": 48,
   "metadata": {},
   "outputs": [
    {
     "name": "stdout",
     "output_type": "stream",
     "text": [
      "<class 'gensim.models.ldamodel.LdaModel'>\n"
     ]
    }
   ],
   "source": [
    "## Step 5: we're finally ready to estimate the model!\n",
    "## full documentation here - https://radimrehurek.com/gensim/models/ldamodel.html\n",
    "## here, we're feeding the lda function:\n",
    "## (1) the corpus we created from the dictionary,\n",
    "## (2) a parameter we decide on for the number of topics (k),\n",
    "## (3) the dictionary itself,\n",
    "## (4) parameter for number of passes through training data (more means slower), and\n",
    "## (5) parameter that returns, for each word remaining in dict, the topic probabilities.\n",
    "## see documentation for many other arguments you can vary\n",
    "ldamod = gensim.models.ldamodel.LdaModel(corpus_fromdict, \n",
    "                                         num_topics = 5, \n",
    "                                         id2word=text_raw_dict, \n",
    "                                         passes=6, \n",
    "                                         alpha = 'auto',\n",
    "                                         per_word_topics = True)\n",
    "\n",
    "print(type(ldamod))\n",
    "\n"
   ]
  },
  {
   "cell_type": "markdown",
   "metadata": {},
   "source": [
    "## 3.3  Seeing what topics the estimated model discovers"
   ]
  },
  {
   "cell_type": "code",
   "execution_count": 49,
   "metadata": {},
   "outputs": [
    {
     "name": "stdout",
     "output_type": "stream",
     "text": [
      "(0, '0.190*\"in\" + 0.186*\"room\" + 0.115*\"private\" + 0.073*\",\" + 0.062*\"manhattan\" + 0.055*\"to\" + 0.040*\"cozy\" + 0.038*\"brooklyn\" + 0.037*\"williamsburg\" + 0.024*\".\"')\n",
      "(1, '0.166*\"bedroom\" + 0.116*\"2\" + 0.113*\"1\" + 0.100*\"/\" + 0.085*\"in\" + 0.079*\"-\" + 0.043*\"&\" + 0.039*\"apartment\" + 0.038*\"brooklyn\" + 0.033*\"spacious\"')\n",
      "(2, '0.102*\"and\" + 0.090*\"apartment\" + 0.089*\"park\" + 0.086*\"large\" + 0.077*\"near\" + 0.073*\"cozy\" + 0.056*\",\" + 0.048*\"/\" + 0.045*\"to\" + 0.040*\"room\"')\n",
      "(3, '0.158*\",\" + 0.115*\"-\" + 0.113*\"!\" + 0.098*\"apt\" + 0.081*\"spacious\" + 0.057*\"in\" + 0.056*\"with\" + 0.054*\".\" + 0.043*\"apartment\" + 0.029*\"east\"')\n",
      "(4, '0.167*\"the\" + 0.149*\"in\" + 0.144*\"studio\" + 0.113*\"of\" + 0.075*\"east\" + 0.071*\"apartment\" + 0.057*\"beautiful\" + 0.052*\"!\" + 0.047*\"brooklyn\" + 0.023*\"sunny\"')\n"
     ]
    }
   ],
   "source": [
    "## Post-model 1: explore corpus-wide summary of topics\n",
    "### getting the topics and top words; can retrieve diff top words\n",
    "topics = ldamod.print_topics(num_words = 10)\n",
    "for topic in topics:\n",
    "    print(topic)\n"
   ]
  },
  {
   "cell_type": "code",
   "execution_count": 50,
   "metadata": {},
   "outputs": [
    {
     "data": {
      "text/plain": [
       "[['super', 'cozy', '!'],\n",
       " ['beautiful', 'private', 'bedroom', 'by', 'prospect', 'park'],\n",
       " ['best',\n",
       "  'location',\n",
       "  'on',\n",
       "  'the',\n",
       "  'upper',\n",
       "  'west',\n",
       "  'side',\n",
       "  '!',\n",
       "  '-',\n",
       "  'part',\n",
       "  'ii'],\n",
       " ['architecturally', 'stunning', 'former', 'synagogue', '!'],\n",
       " ['large', ',', 'beautiful', 'room', 'near', 'bushwick']]"
      ]
     },
     "execution_count": 50,
     "metadata": {},
     "output_type": "execute_result"
    },
    {
     "data": {
      "text/plain": [
       "[[(0, 0.09247781),\n",
       "  (1, 0.05171812),\n",
       "  (2, 0.7593153),\n",
       "  (3, 0.05301612),\n",
       "  (4, 0.043472655)],\n",
       " [(0, 0.0564135),\n",
       "  (1, 0.030384263),\n",
       "  (2, 0.8571994),\n",
       "  (3, 0.030652776),\n",
       "  (4, 0.025350062)],\n",
       " [(0, 0.065860264),\n",
       "  (1, 0.03819597),\n",
       "  (2, 0.037190333),\n",
       "  (3, 0.46803236),\n",
       "  (4, 0.39072105)],\n",
       " [(0, 0.13960606),\n",
       "  (1, 0.08037783),\n",
       "  (2, 0.07853567),\n",
       "  (3, 0.63392985),\n",
       "  (4, 0.06755059)],\n",
       " [(0, 0.048669983),\n",
       "  (1, 0.024981843),\n",
       "  (2, 0.87994623),\n",
       "  (3, 0.025424533),\n",
       "  (4, 0.020977387)]]"
      ]
     },
     "execution_count": 50,
     "metadata": {},
     "output_type": "execute_result"
    }
   ],
   "source": [
    "    \n",
    "## Post-model 2: explore topics associated with each document\n",
    "### for each item in our original dictionary, get list of topic probabilities\n",
    "l=[ldamod.get_document_topics(item) for item in corpus_fromdict]\n",
    "### print result\n",
    "text_raw_tokens[0:5]\n",
    "l[0:5]"
   ]
  },
  {
   "cell_type": "markdown",
   "metadata": {},
   "source": [
    "### Visualizing "
   ]
  },
  {
   "cell_type": "code",
   "execution_count": 51,
   "metadata": {},
   "outputs": [
    {
     "data": {
      "text/html": [
       "\n",
       "<link rel=\"stylesheet\" type=\"text/css\" href=\"https://cdn.jsdelivr.net/gh/bmabey/pyLDAvis@3.4.0/pyLDAvis/js/ldavis.v1.0.0.css\">\n",
       "\n",
       "\n",
       "<div id=\"ldavis_el1697862842276644811021850\" style=\"background-color:white;\"></div>\n",
       "<script type=\"text/javascript\">\n",
       "\n",
       "var ldavis_el1697862842276644811021850_data = {\"mdsDat\": {\"x\": [-0.08866161192940412, -2.24949772830755e-05, -0.02899104942046592, -0.13798234866646056, 0.25565750499361356], \"y\": [0.052292597197238756, -0.03456782328206589, -0.18473721707269877, 0.11029915174926753, 0.056713291408258516], \"topics\": [1, 2, 3, 4, 5], \"cluster\": [1, 1, 1, 1, 1], \"Freq\": [34.042162225739, 18.522165652722077, 18.335889453090246, 15.35910727973783, 13.74067538871085]}, \"tinfo\": {\"Term\": [\"the\", \"room\", \"studio\", \"bedroom\", \",\", \"of\", \"and\", \"2\", \"-\", \"in\", \"1\", \"/\", \"!\", \"private\", \"park\", \"large\", \"near\", \"east\", \"apt\", \"apartment\", \"to\", \"spacious\", \"manhattan\", \"beautiful\", \"cozy\", \"with\", \".\", \"brooklyn\", \"&\", \"williamsburg\", \"manhattan\", \"room\", \"private\", \"to\", \"williamsburg\", \"in\", \"cozy\", \"brooklyn\", \"with\", \",\", \".\", \"sunny\", \"&\", \"near\", \"!\", \"beautiful\", \"/\", \"bedroom\", \"apt\", \"large\", \"spacious\", \"-\", \"of\", \"and\", \"park\", \"apartment\", \"2\", \"studio\", \"the\", \"1\", \"apt\", \"spacious\", \"with\", \"!\", \"-\", \",\", \".\", \"east\", \"park\", \"sunny\", \"apartment\", \"&\", \"studio\", \"beautiful\", \"brooklyn\", \"1\", \"in\", \"bedroom\", \"williamsburg\", \"2\", \"room\", \"manhattan\", \"cozy\", \"near\", \"and\", \"private\", \"large\", \"to\", \"the\", \"of\", \"/\", \"2\", \"1\", \"bedroom\", \"/\", \"&\", \"-\", \"sunny\", \"brooklyn\", \"spacious\", \"williamsburg\", \"apartment\", \"large\", \"apt\", \".\", \"in\", \"of\", \"private\", \"manhattan\", \"cozy\", \"near\", \"the\", \",\", \"with\", \"east\", \"!\", \"to\", \"studio\", \"park\", \"room\", \"and\", \"and\", \"near\", \"large\", \"park\", \"cozy\", \"apartment\", \"beautiful\", \"to\", \"/\", \"&\", \"!\", \",\", \"studio\", \"spacious\", \"bedroom\", \"private\", \"sunny\", \"room\", \"1\", \"apt\", \"with\", \"2\", \"east\", \"of\", \"williamsburg\", \"manhattan\", \"-\", \"in\", \"the\", \"brooklyn\", \"the\", \"of\", \"studio\", \"east\", \"beautiful\", \"apartment\", \"brooklyn\", \"in\", \"!\", \"sunny\", \"williamsburg\", \"cozy\", \"park\", \"-\", \"2\", \"large\", \"1\", \".\", \"&\", \"bedroom\", \"apt\", \"near\", \"and\", \"/\", \"with\", \"to\", \"manhattan\", \"spacious\", \",\", \"private\", \"room\"], \"Freq\": [79.0, 233.0, 89.0, 153.0, 209.0, 61.0, 55.0, 85.0, 136.0, 361.0, 86.0, 98.0, 131.0, 156.0, 69.0, 63.0, 53.0, 53.0, 92.0, 131.0, 84.0, 89.0, 75.0, 60.0, 94.0, 65.0, 71.0, 95.0, 60.0, 66.0, 68.2898660132717, 205.25995564578358, 126.56614939454357, 60.92691803588083, 40.45310460755727, 209.1936732785281, 44.14584574464507, 42.15870770420678, 25.380800319218313, 80.4428061480227, 26.843473756135058, 15.97771803869929, 12.555665726067405, 10.84790819291341, 21.357458949407434, 9.556616175017664, 14.153610665301803, 21.859565882969214, 12.709797276450512, 7.482197783644215, 9.928803809818206, 12.081478153651414, 3.5283603530811907, 2.9421708356361855, 3.4762038379850133, 6.235398268336505, 2.96954902040549, 1.9989927040761855, 1.4871937585821526, 1.2690267689490435, 58.6435844020523, 48.435906993990535, 33.710484156709086, 67.8441110165849, 68.83285050305192, 94.89055352299204, 32.23594586201503, 17.34149122384464, 17.065446773678076, 15.955034651447157, 26.011283640517867, 8.470451688772496, 11.741250112854466, 6.965503895469444, 9.786397514367753, 8.61912276980677, 33.90679544460949, 13.283092037862017, 4.92350936038895, 3.3887158281523617, 6.8127261408825275, 2.0936112311539907, 2.5931363862065777, 1.37701611212349, 1.1725446962546584, 1.994149692950604, 0.5233868141108862, 0.5048654370229219, 0.323707111038593, 0.20989665988639067, 0.27631957285010217, 69.14205432565365, 67.10952711825581, 98.76639977419583, 59.53909238290273, 25.58869225382485, 46.800613884014055, 19.574619477432858, 22.50425669468974, 19.865574075224984, 11.729552478633938, 22.915831739276197, 10.326679092397159, 13.784088011468526, 10.631794462942034, 50.77786066674799, 6.437629885666472, 9.647235237580261, 4.206538798352997, 4.797974794573657, 2.668730980552401, 3.0649430635110946, 6.454570599199445, 1.6254103835980453, 0.7195711605687765, 1.5181791183530384, 0.6914252281149543, 0.6781517852461442, 0.44956450342067383, 1.4182529412237546, 0.25597920166578425, 50.8881987682585, 38.53757262350839, 42.65767268262413, 44.083020923716106, 36.3100246885623, 44.73384980636974, 18.18219044543758, 22.45840010911602, 23.893870872438914, 13.043170123137134, 17.90590600490565, 27.793060134694933, 11.465766290184792, 11.145860672975768, 18.01887906105259, 18.361851315564273, 7.254436582478731, 19.794994380622423, 7.109920990928961, 6.819927037727085, 4.388382573546876, 5.170876985773237, 1.9518776194240937, 0.7395575528934262, 0.7655610328265907, 0.7072134233504134, 0.7453960261583898, 1.7847361196668736, 0.2855248095988257, 0.28678705541093025, 74.39632438088104, 50.43501933634463, 63.87776437326637, 33.359385944173766, 25.17578993068096, 31.4744854520684, 20.749823674084023, 66.3268255408152, 23.242328877776625, 10.39009229710126, 8.754855328051995, 6.7423098977469325, 4.466654730855784, 7.920823675729578, 4.7750641971113525, 2.1093592039580913, 2.3063120363456617, 1.7535369131940808, 0.9224197815386194, 1.7038772156279127, 0.818901553389677, 0.4409874633193291, 0.4383814304581587, 0.7022071033056401, 0.21630650449937291, 0.27046463715419206, 0.21998022432961048, 0.2205668640980029, 0.39740358696933004, 0.22497284092507774, 0.22729471164805004], \"Total\": [79.0, 233.0, 89.0, 153.0, 209.0, 61.0, 55.0, 85.0, 136.0, 361.0, 86.0, 98.0, 131.0, 156.0, 69.0, 63.0, 53.0, 53.0, 92.0, 131.0, 84.0, 89.0, 75.0, 60.0, 94.0, 65.0, 71.0, 95.0, 60.0, 66.0, 75.5172096904587, 233.51322382016033, 156.79435848156382, 84.85207344728892, 66.62658280745875, 361.9898910503677, 94.58929151173454, 95.48597264275924, 65.32138393757168, 209.97839399187845, 71.66171006152003, 69.1519010471593, 60.5803995733405, 53.87221537241702, 131.86798396702764, 60.088773847906836, 98.56510059679918, 153.63181397170757, 92.7762982810881, 63.099295576734484, 89.5967124161075, 136.38116224260534, 61.35046378787211, 55.69727493227328, 69.54089076965565, 131.3708489065687, 85.44626035709608, 89.76192526562795, 79.5576931236117, 86.41390968428624, 92.7762982810881, 89.5967124161075, 65.32138393757168, 131.86798396702764, 136.38116224260534, 209.97839399187845, 71.66171006152003, 53.91896145402869, 69.54089076965565, 69.1519010471593, 131.3708489065687, 60.5803995733405, 89.76192526562795, 60.088773847906836, 95.48597264275924, 86.41390968428624, 361.9898910503677, 153.63181397170757, 66.62658280745875, 85.44626035709608, 233.51322382016033, 75.5172096904587, 94.58929151173454, 53.87221537241702, 55.69727493227328, 156.79435848156382, 63.099295576734484, 84.85207344728892, 79.5576931236117, 61.35046378787211, 98.56510059679918, 85.44626035709608, 86.41390968428624, 153.63181397170757, 98.56510059679918, 60.5803995733405, 136.38116224260534, 69.1519010471593, 95.48597264275924, 89.5967124161075, 66.62658280745875, 131.3708489065687, 63.099295576734484, 92.7762982810881, 71.66171006152003, 361.9898910503677, 61.35046378787211, 156.79435848156382, 75.5172096904587, 94.58929151173454, 53.87221537241702, 79.5576931236117, 209.97839399187845, 65.32138393757168, 53.91896145402869, 131.86798396702764, 84.85207344728892, 89.76192526562795, 69.54089076965565, 233.51322382016033, 55.69727493227328, 55.69727493227328, 53.87221537241702, 63.099295576734484, 69.54089076965565, 94.58929151173454, 131.3708489065687, 60.088773847906836, 84.85207344728892, 98.56510059679918, 60.5803995733405, 131.86798396702764, 209.97839399187845, 89.76192526562795, 89.5967124161075, 153.63181397170757, 156.79435848156382, 69.1519010471593, 233.51322382016033, 86.41390968428624, 92.7762982810881, 65.32138393757168, 85.44626035709608, 53.91896145402869, 61.35046378787211, 66.62658280745875, 75.5172096904587, 136.38116224260534, 361.9898910503677, 79.5576931236117, 95.48597264275924, 79.5576931236117, 61.35046378787211, 89.76192526562795, 53.91896145402869, 60.088773847906836, 131.3708489065687, 95.48597264275924, 361.9898910503677, 131.86798396702764, 69.1519010471593, 66.62658280745875, 94.58929151173454, 69.54089076965565, 136.38116224260534, 85.44626035709608, 63.099295576734484, 86.41390968428624, 71.66171006152003, 60.5803995733405, 153.63181397170757, 92.7762982810881, 53.87221537241702, 55.69727493227328, 98.56510059679918, 65.32138393757168, 84.85207344728892, 75.5172096904587, 89.5967124161075, 209.97839399187845, 156.79435848156382, 233.51322382016033], \"Category\": [\"Default\", \"Default\", \"Default\", \"Default\", \"Default\", \"Default\", \"Default\", \"Default\", \"Default\", \"Default\", \"Default\", \"Default\", \"Default\", \"Default\", \"Default\", \"Default\", \"Default\", \"Default\", \"Default\", \"Default\", \"Default\", \"Default\", \"Default\", \"Default\", \"Default\", \"Default\", \"Default\", \"Default\", \"Default\", \"Default\", \"Topic1\", \"Topic1\", \"Topic1\", \"Topic1\", \"Topic1\", \"Topic1\", \"Topic1\", \"Topic1\", \"Topic1\", \"Topic1\", \"Topic1\", \"Topic1\", \"Topic1\", \"Topic1\", \"Topic1\", \"Topic1\", \"Topic1\", \"Topic1\", \"Topic1\", \"Topic1\", \"Topic1\", \"Topic1\", \"Topic1\", \"Topic1\", \"Topic1\", \"Topic1\", \"Topic1\", \"Topic1\", \"Topic1\", \"Topic1\", \"Topic2\", \"Topic2\", \"Topic2\", \"Topic2\", \"Topic2\", \"Topic2\", \"Topic2\", \"Topic2\", \"Topic2\", \"Topic2\", \"Topic2\", \"Topic2\", \"Topic2\", \"Topic2\", \"Topic2\", \"Topic2\", \"Topic2\", \"Topic2\", \"Topic2\", \"Topic2\", \"Topic2\", \"Topic2\", \"Topic2\", \"Topic2\", \"Topic2\", \"Topic2\", \"Topic2\", \"Topic2\", \"Topic2\", \"Topic2\", \"Topic2\", \"Topic3\", \"Topic3\", \"Topic3\", \"Topic3\", \"Topic3\", \"Topic3\", \"Topic3\", \"Topic3\", \"Topic3\", \"Topic3\", \"Topic3\", \"Topic3\", \"Topic3\", \"Topic3\", \"Topic3\", \"Topic3\", \"Topic3\", \"Topic3\", \"Topic3\", \"Topic3\", \"Topic3\", \"Topic3\", \"Topic3\", \"Topic3\", \"Topic3\", \"Topic3\", \"Topic3\", \"Topic3\", \"Topic3\", \"Topic3\", \"Topic4\", \"Topic4\", \"Topic4\", \"Topic4\", \"Topic4\", \"Topic4\", \"Topic4\", \"Topic4\", \"Topic4\", \"Topic4\", \"Topic4\", \"Topic4\", \"Topic4\", \"Topic4\", \"Topic4\", \"Topic4\", \"Topic4\", \"Topic4\", \"Topic4\", \"Topic4\", \"Topic4\", \"Topic4\", \"Topic4\", \"Topic4\", \"Topic4\", \"Topic4\", \"Topic4\", \"Topic4\", \"Topic4\", \"Topic4\", \"Topic5\", \"Topic5\", \"Topic5\", \"Topic5\", \"Topic5\", \"Topic5\", \"Topic5\", \"Topic5\", \"Topic5\", \"Topic5\", \"Topic5\", \"Topic5\", \"Topic5\", \"Topic5\", \"Topic5\", \"Topic5\", \"Topic5\", \"Topic5\", \"Topic5\", \"Topic5\", \"Topic5\", \"Topic5\", \"Topic5\", \"Topic5\", \"Topic5\", \"Topic5\", \"Topic5\", \"Topic5\", \"Topic5\", \"Topic5\", \"Topic5\"], \"logprob\": [30.0, 29.0, 28.0, 27.0, 26.0, 25.0, 24.0, 23.0, 22.0, 21.0, 20.0, 19.0, 18.0, 17.0, 16.0, 15.0, 14.0, 13.0, 12.0, 11.0, 10.0, 9.0, 8.0, 7.0, 6.0, 5.0, 4.0, 3.0, 2.0, 1.0, -2.7817, -1.6812, -2.1647, -2.8958, -3.3053, -1.6622, -3.218, -3.264, -3.7715, -2.6179, -3.7154, -4.2343, -4.4753, -4.6215, -3.944, -4.7482, -4.3555, -3.9208, -4.4631, -4.9929, -4.71, -4.5138, -5.7446, -5.9263, -5.7595, -5.1752, -5.917, -6.3128, -6.6086, -6.7672, -2.3253, -2.5166, -2.879, -2.1796, -2.1651, -1.8441, -2.9237, -3.5437, -3.5598, -3.627, -3.1383, -4.2602, -3.9337, -4.4558, -4.1158, -4.2428, -2.8732, -3.8103, -4.8028, -5.1764, -4.478, -5.6579, -5.4439, -6.0769, -6.2376, -5.7066, -7.0443, -7.0803, -7.5247, -7.958, -7.683, -2.1505, -2.1804, -1.794, -2.3001, -3.1446, -2.5408, -3.4125, -3.273, -3.3977, -3.9246, -3.2549, -4.052, -3.7632, -4.0229, -2.4592, -4.5245, -4.12, -4.9501, -4.8185, -5.4051, -5.2667, -4.5219, -5.9009, -6.7158, -5.9692, -6.7557, -6.7751, -7.1862, -6.0373, -7.7494, -2.2799, -2.5579, -2.4564, -2.4235, -2.6175, -2.4088, -3.3091, -3.0979, -3.0359, -3.6413, -3.3244, -2.8848, -3.7702, -3.7985, -3.3181, -3.2993, -4.2279, -3.2241, -4.2481, -4.2897, -4.7306, -4.5665, -5.5408, -6.5113, -6.4767, -6.556, -6.5034, -5.6303, -7.463, -7.4586, -1.7888, -2.1775, -1.9412, -2.5909, -2.8723, -2.649, -3.0657, -1.9036, -2.9522, -3.7574, -3.9286, -4.1898, -4.6016, -4.0287, -4.5348, -5.3518, -5.2626, -5.5366, -6.179, -5.5653, -6.298, -6.9169, -6.9229, -6.4517, -7.6293, -7.4058, -7.6124, -7.6098, -7.021, -7.59, -7.5797], \"loglift\": [30.0, 29.0, 28.0, 27.0, 26.0, 25.0, 24.0, 23.0, 22.0, 21.0, 20.0, 19.0, 18.0, 17.0, 16.0, 15.0, 14.0, 13.0, 12.0, 11.0, 10.0, 9.0, 8.0, 7.0, 6.0, 5.0, 4.0, 3.0, 2.0, 1.0, 0.977, 0.9486, 0.8634, 0.7463, 0.5786, 0.5292, 0.3155, 0.26, 0.1322, 0.1181, 0.0956, -0.3875, -0.4962, -0.5251, -0.7428, -0.761, -0.8632, -0.8723, -0.9102, -1.0546, -1.1223, -1.3462, -1.7782, -1.8632, -1.9184, -1.9702, -2.2819, -2.7269, -2.902, -3.1433, 1.2275, 1.0711, 1.0247, 1.0216, 1.0024, 0.8919, 0.8873, 0.5518, 0.2813, 0.2197, 0.0667, -0.2812, -0.3479, -0.4687, -0.5918, -0.619, -0.6818, -0.7619, -0.9189, -1.5412, -1.8482, -1.8993, -1.9105, -1.9805, -2.1746, -2.6785, -3.1059, -3.4382, -3.8182, -3.9915, -4.1907, 1.4846, 1.4435, 1.2545, 1.1922, 0.8345, 0.6268, 0.4342, 0.251, 0.19, -0.0407, -0.0499, -0.1137, -0.2104, -0.2118, -0.2678, -0.5581, -1.092, -1.1914, -1.285, -1.3087, -1.5601, -1.7859, -1.9972, -2.6203, -2.768, -3.1136, -3.1892, -3.3451, -3.4075, -3.6863, 1.7832, 1.5385, 1.482, 1.4176, 0.916, 0.7962, 0.6781, 0.5442, 0.4564, 0.3378, -0.1232, -0.1488, -0.1843, -0.2108, -0.2697, -0.2712, -0.3812, -0.5943, -0.6242, -0.7369, -0.8269, -0.9314, -1.4452, -2.5448, -2.5928, -2.7973, -3.3358, -3.4389, -3.7564, -3.9345, 1.9177, 1.7889, 1.6446, 1.5047, 1.1149, 0.556, 0.4584, 0.2878, 0.249, 0.0894, -0.0447, -0.6563, -0.7605, -0.8611, -0.8997, -1.4135, -1.6387, -1.7255, -2.1999, -2.5168, -2.7452, -2.8205, -2.8598, -2.9594, -3.7256, -3.7637, -3.8538, -4.0221, -4.285, -4.5619, -4.9499]}, \"token.table\": {\"Topic\": [1, 2, 3, 4, 5, 1, 2, 3, 4, 5, 1, 2, 3, 4, 1, 2, 3, 4, 5, 1, 2, 3, 5, 1, 3, 4, 5, 1, 2, 3, 4, 5, 1, 2, 3, 4, 5, 1, 2, 4, 1, 2, 3, 4, 5, 1, 2, 3, 4, 5, 1, 2, 4, 5, 1, 2, 3, 4, 5, 1, 2, 3, 5, 1, 2, 3, 4, 5, 1, 2, 3, 4, 5, 1, 2, 3, 4, 5, 1, 2, 3, 4, 5, 1, 2, 3, 4, 1, 2, 3, 4, 1, 3, 4, 5, 1, 2, 4, 5, 1, 2, 3, 4, 1, 2, 3, 4, 1, 2, 3, 4, 1, 2, 3, 4, 5, 1, 2, 3, 4, 5, 1, 3, 5, 1, 2, 3, 4, 1, 2, 3, 4, 5, 1, 2, 3, 4], \"Freq\": [0.1592501786123526, 0.5156672450304751, 0.015166683677366915, 0.13650015309630223, 0.1744168622897195, 0.21459085928051364, 0.132055913403393, 0.42918171856102727, 0.21459085928051364, 0.016506989175424126, 0.3809915795579151, 0.4524275007250242, 0.028574368466843632, 0.1333470528452703, 0.08798869141951932, 0.505934975662236, 0.34462237472645063, 0.007332390951626609, 0.058659127613012875, 0.37677024420462596, 0.44654251164992703, 0.15349898837966242, 0.02790890697812044, 0.14203810390525426, 0.6087347310225182, 0.2434938924090073, 0.010145578850375304, 0.011572211043957, 0.104149899395613, 0.775338139945119, 0.081005477307699, 0.023144422087914, 0.03510978698731147, 0.03510978698731147, 0.8075251007081639, 0.05851631164551912, 0.05851631164551912, 0.05386259926806001, 0.017954199756020004, 0.9156641875570202, 0.0456722328426698, 0.1979130089849025, 0.1750768925635676, 0.34254174632002354, 0.23597320302046065, 0.14012199495838232, 0.6359382848111197, 0.15090060995518095, 0.07545030497759048, 0.010778614996798639, 0.16642043695734932, 0.11649430587014452, 0.29955678652322876, 0.4160510923933733, 0.1431995068680987, 0.08461789042205832, 0.6443977809064442, 0.11716323289208075, 0.013018136988008973, 0.43985518330670625, 0.10472742459683482, 0.24087307657272009, 0.21992759165335313, 0.465168935053726, 0.031716063753663135, 0.052860106256105224, 0.3805927650439576, 0.07400414875854731, 0.018546351284095115, 0.31528797182961693, 0.018546351284095115, 0.03709270256819023, 0.6120295923751388, 0.5773641893522367, 0.09392527482285189, 0.14088791223427782, 0.005525016166050111, 0.18232553347965366, 0.11093626222003324, 0.01584803746000475, 0.1584803746000475, 0.6814656107802042, 0.0316960749200095, 0.9004569988579906, 0.02648402937817619, 0.05296805875635238, 0.013242014689088095, 0.20418688787823794, 0.018562444352567087, 0.05568733305770126, 0.7239353297501163, 0.06519918111508602, 0.09779877167262903, 0.016299795278771505, 0.8149897639385753, 0.04314008588036462, 0.24446048665539952, 0.6327212595786811, 0.05752011450715283, 0.8099781218527253, 0.012755560974058666, 0.06377780487029333, 0.11480004876652801, 0.8778946076213665, 0.02997688904072959, 0.004282412720104227, 0.08564825440208454, 0.11161123807263962, 0.5357339427486701, 0.22322247614527924, 0.12277236187990359, 0.02228116201921361, 0.13368697211528166, 0.011140581009606805, 0.12254639110567485, 0.7129971846148355, 0.2313746948054043, 0.2313746948054043, 0.28921836850675536, 0.10122642897736438, 0.14460918425337768, 0.012569494674088444, 0.03770848402226533, 0.9301426058825448, 0.7188981662056131, 0.01178521583943628, 0.01178521583943628, 0.2592747484675982, 0.6003609717699954, 0.07504512147124942, 0.1801082915309986, 0.015009024294249884, 0.13508121864824896, 0.3827230608569585, 0.5205033627654636, 0.030617844868556683, 0.061235689737113366], \"Term\": [\"!\", \"!\", \"!\", \"!\", \"!\", \"&\", \"&\", \"&\", \"&\", \"&\", \",\", \",\", \",\", \",\", \"-\", \"-\", \"-\", \"-\", \"-\", \".\", \".\", \".\", \".\", \"/\", \"/\", \"/\", \"/\", \"1\", \"1\", \"1\", \"1\", \"1\", \"2\", \"2\", \"2\", \"2\", \"2\", \"and\", \"and\", \"and\", \"apartment\", \"apartment\", \"apartment\", \"apartment\", \"apartment\", \"apt\", \"apt\", \"apt\", \"apt\", \"apt\", \"beautiful\", \"beautiful\", \"beautiful\", \"beautiful\", \"bedroom\", \"bedroom\", \"bedroom\", \"bedroom\", \"bedroom\", \"brooklyn\", \"brooklyn\", \"brooklyn\", \"brooklyn\", \"cozy\", \"cozy\", \"cozy\", \"cozy\", \"cozy\", \"east\", \"east\", \"east\", \"east\", \"east\", \"in\", \"in\", \"in\", \"in\", \"in\", \"large\", \"large\", \"large\", \"large\", \"large\", \"manhattan\", \"manhattan\", \"manhattan\", \"manhattan\", \"near\", \"near\", \"near\", \"near\", \"of\", \"of\", \"of\", \"of\", \"park\", \"park\", \"park\", \"park\", \"private\", \"private\", \"private\", \"private\", \"room\", \"room\", \"room\", \"room\", \"spacious\", \"spacious\", \"spacious\", \"spacious\", \"studio\", \"studio\", \"studio\", \"studio\", \"studio\", \"sunny\", \"sunny\", \"sunny\", \"sunny\", \"sunny\", \"the\", \"the\", \"the\", \"to\", \"to\", \"to\", \"to\", \"williamsburg\", \"williamsburg\", \"williamsburg\", \"williamsburg\", \"williamsburg\", \"with\", \"with\", \"with\", \"with\"]}, \"R\": 30, \"lambda.step\": 0.01, \"plot.opts\": {\"xlab\": \"PC1\", \"ylab\": \"PC2\"}, \"topic.order\": [1, 4, 2, 3, 5]};\n",
       "\n",
       "function LDAvis_load_lib(url, callback){\n",
       "  var s = document.createElement('script');\n",
       "  s.src = url;\n",
       "  s.async = true;\n",
       "  s.onreadystatechange = s.onload = callback;\n",
       "  s.onerror = function(){console.warn(\"failed to load library \" + url);};\n",
       "  document.getElementsByTagName(\"head\")[0].appendChild(s);\n",
       "}\n",
       "\n",
       "if(typeof(LDAvis) !== \"undefined\"){\n",
       "   // already loaded: just create the visualization\n",
       "   !function(LDAvis){\n",
       "       new LDAvis(\"#\" + \"ldavis_el1697862842276644811021850\", ldavis_el1697862842276644811021850_data);\n",
       "   }(LDAvis);\n",
       "}else if(typeof define === \"function\" && define.amd){\n",
       "   // require.js is available: use it to load d3/LDAvis\n",
       "   require.config({paths: {d3: \"https://d3js.org/d3.v5\"}});\n",
       "   require([\"d3\"], function(d3){\n",
       "      window.d3 = d3;\n",
       "      LDAvis_load_lib(\"https://cdn.jsdelivr.net/gh/bmabey/pyLDAvis@3.4.0/pyLDAvis/js/ldavis.v3.0.0.js\", function(){\n",
       "        new LDAvis(\"#\" + \"ldavis_el1697862842276644811021850\", ldavis_el1697862842276644811021850_data);\n",
       "      });\n",
       "    });\n",
       "}else{\n",
       "    // require.js not available: dynamically load d3 & LDAvis\n",
       "    LDAvis_load_lib(\"https://d3js.org/d3.v5.js\", function(){\n",
       "         LDAvis_load_lib(\"https://cdn.jsdelivr.net/gh/bmabey/pyLDAvis@3.4.0/pyLDAvis/js/ldavis.v3.0.0.js\", function(){\n",
       "                 new LDAvis(\"#\" + \"ldavis_el1697862842276644811021850\", ldavis_el1697862842276644811021850_data);\n",
       "            })\n",
       "         });\n",
       "}\n",
       "</script>"
      ],
      "text/plain": [
       "<IPython.core.display.HTML object>"
      ]
     },
     "execution_count": 51,
     "metadata": {},
     "output_type": "execute_result"
    }
   ],
   "source": [
    "lda_display = gensimvis.prepare(ldamod, corpus_fromdict, text_raw_dict)\n",
    "pyLDAvis.display(lda_display)"
   ]
  },
  {
   "cell_type": "markdown",
   "metadata": {},
   "source": [
    "## 3.4 Activity 3\n",
    "\n",
    "- Preprocess the texts if you haven't already\n",
    "- Run the topic model with preprocessed texts\n",
    "- Play around with other parameters like `n_topics` to find a configuration that produces useful topics\n",
    "\n",
    "If you get stuck on the preprocessing part, you can use below function and example code for applying it. Then continue as above (start with tokenizing)."
   ]
  },
  {
   "cell_type": "code",
   "execution_count": 63,
   "metadata": {},
   "outputs": [
    {
     "data": {
      "text/plain": [
       "{0: 'cozi', 1: 'super', 2: 'beauti', 3: 'bedroom', 4: 'park'}"
      ]
     },
     "execution_count": 63,
     "metadata": {},
     "output_type": "execute_result"
    },
    {
     "name": "stdout",
     "output_type": "stream",
     "text": [
      "Filtering out very rare and very common words reduced the length of dictionary from 753 to 43.\n"
     ]
    },
    {
     "data": {
      "text/plain": [
       "{0: 'cozi', 1: 'beauti', 2: 'bedroom', 3: 'park', 4: 'privat'}"
      ]
     },
     "execution_count": 63,
     "metadata": {},
     "output_type": "execute_result"
    },
    {
     "name": "stdout",
     "output_type": "stream",
     "text": [
      "Sample of documents represented in dictionary format (with omitted words noted):\n"
     ]
    },
    {
     "data": {
      "text/plain": [
       "[([(0, 1)], {'super': 1}),\n",
       " ([(1, 1), (2, 1), (3, 1), (4, 1)], {'prospect': 1}),\n",
       " ([(5, 1), (6, 1), (7, 1), (8, 1)], {'best': 1, 'part': 1}),\n",
       " ([], {'architectur': 1, 'former': 1, 'stun': 1, 'synagogu': 1}),\n",
       " ([(1, 1), (9, 1), (10, 1), (11, 1), (12, 1)], {}),\n",
       " ([(3, 1), (10, 1), (13, 1), (14, 1)], {'bath': 1, 'colleg': 1, 'hunter': 1}),\n",
       " ([(10, 1), (12, 1)], {'bohemian': 1, 'brownston': 1}),\n",
       " ([(15, 1), (16, 1), (17, 1), (18, 1)], {'fidi': 1, 'water': 1}),\n",
       " ([], {'hillsid': 1, 'hotel': 1}),\n",
       " ([(4, 1), (10, 1), (12, 1)], {'airi': 1})]"
      ]
     },
     "execution_count": 63,
     "metadata": {},
     "output_type": "execute_result"
    }
   ],
   "source": [
    "# your code here\n",
    "\n",
    "## Step 1: re-tokenize and store in list\n",
    "## here, i'm doing with the raw random sample of text\n",
    "## in activity, you should do with the preprocessed texts\n",
    "text_raw_tokens = [wordpunct_tokenize(one_text) for one_text in \n",
    "                  ab_small.preprocessed]\n",
    "\n",
    "\n",
    "## Step 2: use gensim create dictionary - gets all unique words across documents\n",
    "text_raw_dict = corpora.Dictionary(text_raw_tokens)\n",
    "raw_len = len(text_raw_dict) # get length for comparison below\n",
    "\n",
    "### explore first few keys and values\n",
    "### see that key is just an arbitrary counter; value is the word itself\n",
    "{k: text_raw_dict[k] for k in list(text_raw_dict)[:5]}\n",
    "\n",
    "\n",
    "## Step 3: filter out very rare and very common words\n",
    "## here, i'm using the threshold that a word needs to appear in at least\n",
    "## 5% of docs but not more than 95%\n",
    "## this is an integer count of docs so i round\n",
    "lower_bound = round(ab_small.shape[0]*0.02)\n",
    "upper_bound = round(ab_small.shape[0]*0.98)\n",
    "\n",
    "### apply filtering to dictionary\n",
    "text_raw_dict.filter_extremes(no_below = lower_bound,\n",
    "                             no_above = upper_bound)\n",
    "print(f'Filtering out very rare and very common words reduced the \\\n",
    "length of dictionary from {str(raw_len)} to {str(len(text_raw_dict))}.')\n",
    "{k: text_raw_dict[k] for k in list(text_raw_dict)[:5]} # show first five entries after filtering\n",
    "\n",
    "\n",
    "## Step 4: apply dictionary to TOKENIZED texts\n",
    "## this creates a mapping between each word \n",
    "## in a specific listing and the key in the dictionary.\n",
    "## for words that remain in the filtered dictionary,\n",
    "## output is a list where len(list) == n documents\n",
    "## and each element in the list is a list of tuples\n",
    "## containing the mappings\n",
    "corpus_fromdict = [text_raw_dict.doc2bow(one_text) \n",
    "                   for one_text in text_raw_tokens]\n",
    "\n",
    "### can apply doc2bow(one_text, return_missing = True) to print words\n",
    "### eliminated from the listing bc they're not in filtered dictionary.\n",
    "### but feeding that one with missing values to\n",
    "### the lda function can cause errors\n",
    "corpus_fromdict_showmiss = [text_raw_dict.doc2bow(one_text, return_missing = True)\n",
    "                            for one_text in text_raw_tokens]\n",
    "print('Sample of documents represented in dictionary format (with omitted words noted):')\n",
    "corpus_fromdict_showmiss[:10]"
   ]
  },
  {
   "cell_type": "code",
   "execution_count": 64,
   "metadata": {},
   "outputs": [
    {
     "name": "stdout",
     "output_type": "stream",
     "text": [
      "<class 'gensim.models.ldamodel.LdaModel'>\n"
     ]
    }
   ],
   "source": [
    "## Step 5: we're finally ready to estimate the model!\n",
    "## full documentation here - https://radimrehurek.com/gensim/models/ldamodel.html\n",
    "## here, we're feeding the lda function:\n",
    "## (1) the corpus we created from the dictionary,\n",
    "## (2) a parameter we decide on for the number of topics (k),\n",
    "## (3) the dictionary itself,\n",
    "## (4) parameter for number of passes through training data (more means slower), and\n",
    "## (5) parameter that returns, for each word remaining in dict, the topic probabilities.\n",
    "## see documentation for many other arguments you can vary\n",
    "ldamod = gensim.models.ldamodel.LdaModel(corpus_fromdict, \n",
    "                                         num_topics = 3, \n",
    "                                         id2word=text_raw_dict, \n",
    "                                         passes=6, \n",
    "                                         alpha = 'auto',\n",
    "                                         per_word_topics = True)\n",
    "\n",
    "print(type(ldamod))\n",
    "\n"
   ]
  },
  {
   "cell_type": "code",
   "execution_count": 60,
   "metadata": {},
   "outputs": [
    {
     "name": "stdout",
     "output_type": "stream",
     "text": [
      "(0, '0.193*\"spaciou\" + 0.183*\"apt\" + 0.173*\"park\" + 0.130*\"near\" + 0.130*\"beauti\" + 0.097*\"room\" + 0.060*\"east\" + 0.010*\"bedroom\" + 0.008*\"privat\" + 0.005*\"cozi\"')\n",
      "(1, '0.249*\"room\" + 0.226*\"privat\" + 0.198*\"bedroom\" + 0.133*\"cozi\" + 0.113*\"studio\" + 0.038*\"east\" + 0.014*\"spaciou\" + 0.007*\"apt\" + 0.007*\"williamsburg\" + 0.006*\"beauti\"')\n",
      "(2, '0.251*\"sunni\" + 0.233*\"larg\" + 0.232*\"williamsburg\" + 0.110*\"room\" + 0.052*\"bedroom\" + 0.050*\"apt\" + 0.021*\"studio\" + 0.018*\"beauti\" + 0.015*\"park\" + 0.007*\"spaciou\"')\n"
     ]
    }
   ],
   "source": [
    "## Post-model 1: explore corpus-wide summary of topics\n",
    "### getting the topics and top words; can retrieve diff top words\n",
    "topics = ldamod.print_topics(num_words = 10)\n",
    "for topic in topics:\n",
    "    print(topic)\n"
   ]
  },
  {
   "cell_type": "code",
   "execution_count": 61,
   "metadata": {},
   "outputs": [
    {
     "data": {
      "text/plain": [
       "[['super', 'cozi'],\n",
       " ['beauti', 'privat', 'bedroom', 'prospect', 'park'],\n",
       " ['best', 'locat', 'upper', 'west', 'side', 'part'],\n",
       " ['architectur', 'stun', 'former', 'synagogu'],\n",
       " ['larg', 'beauti', 'room', 'near', 'bushwick']]"
      ]
     },
     "execution_count": 61,
     "metadata": {},
     "output_type": "execute_result"
    },
    {
     "data": {
      "text/plain": [
       "[[(0, 0.17182288), (1, 0.6872798), (2, 0.14089733)],\n",
       " [(0, 0.4515327), (1, 0.4845135), (2, 0.063953765)],\n",
       " [(0, 0.2967923), (1, 0.45884013), (2, 0.24436754)],\n",
       " [(0, 0.2967923), (1, 0.45884013), (2, 0.24436754)],\n",
       " [(0, 0.52896833), (1, 0.16432925), (2, 0.3067024)]]"
      ]
     },
     "execution_count": 61,
     "metadata": {},
     "output_type": "execute_result"
    }
   ],
   "source": [
    "    \n",
    "## Post-model 2: explore topics associated with each document\n",
    "### for each item in our original dictionary, get list of topic probabilities\n",
    "l=[ldamod.get_document_topics(item) for item in corpus_fromdict]\n",
    "### print result\n",
    "text_raw_tokens[0:5]\n",
    "l[0:5]"
   ]
  },
  {
   "cell_type": "code",
   "execution_count": 65,
   "metadata": {},
   "outputs": [
    {
     "data": {
      "text/html": [
       "\n",
       "<link rel=\"stylesheet\" type=\"text/css\" href=\"https://cdn.jsdelivr.net/gh/bmabey/pyLDAvis@3.4.0/pyLDAvis/js/ldavis.v1.0.0.css\">\n",
       "\n",
       "\n",
       "<div id=\"ldavis_el1697862662140325317005220\" style=\"background-color:white;\"></div>\n",
       "<script type=\"text/javascript\">\n",
       "\n",
       "var ldavis_el1697862662140325317005220_data = {\"mdsDat\": {\"x\": [-0.0908030760441417, -0.14377865254866415, 0.23458172859280585], \"y\": [0.14798110048778565, -0.1272617426986229, -0.020719357789162833], \"topics\": [1, 2, 3], \"cluster\": [1, 1, 1], \"Freq\": [50.48102317427876, 29.817527253435244, 19.701449572285988]}, \"tinfo\": {\"Term\": [\"studio\", \"bedroom\", \"williamsburg\", \"sunni\", \"new\", \"privat\", \"heart\", \"east\", \"charm\", \"bright\", \"cozi\", \"villag\", \"hous\", \"bed\", \"close\", \"quiet\", \"bushwick\", \"beauti\", \"view\", \"park\", \"west\", \"spaciou\", \"train\", \"central\", \"modern\", \"luxuri\", \"locat\", \"home\", \"near\", \"harlem\", \"modern\", \"central\", \"luxuri\", \"locat\", \"harlem\", \"park\", \"privat\", \"one\", \"home\", \"subway\", \"huge\", \"min\", \"room\", \"larg\", \"loft\", \"apt\", \"upper\", \"clean\", \"near\", \"time\", \"cozi\", \"west\", \"side\", \"spaciou\", \"view\", \"bedroom\", \"studio\", \"prime\", \"heart\", \"beauti\", \"bed\", \"williamsburg\", \"bushwick\", \"sunni\", \"east\", \"bed\", \"train\", \"bedroom\", \"prime\", \"beauti\", \"spaciou\", \"side\", \"near\", \"clean\", \"quiet\", \"upper\", \"apt\", \"villag\", \"loft\", \"larg\", \"min\", \"subway\", \"room\", \"huge\", \"one\", \"time\", \"cozi\", \"privat\", \"studio\", \"heart\", \"view\", \"park\", \"new\", \"charm\", \"hous\", \"close\", \"bright\", \"heart\", \"studio\", \"villag\", \"quiet\", \"view\", \"west\", \"cozi\", \"time\", \"beauti\", \"prime\", \"train\", \"home\", \"east\", \"room\", \"min\", \"huge\", \"larg\", \"apt\", \"bed\", \"side\", \"park\", \"upper\", \"bushwick\", \"central\", \"one\", \"spaciou\", \"bedroom\", \"privat\"], \"Freq\": [87.0, 156.0, 66.0, 67.0, 40.0, 161.0, 45.0, 51.0, 26.0, 28.0, 96.0, 35.0, 25.0, 40.0, 22.0, 33.0, 28.0, 60.0, 31.0, 72.0, 35.0, 86.0, 27.0, 41.0, 37.0, 37.0, 32.0, 37.0, 54.0, 25.0, 35.54016083330971, 40.02638533538228, 35.13988591772234, 30.486846792590523, 23.909697216895275, 68.05136206458396, 150.53610904201997, 23.625620774331434, 31.407098137413897, 26.875254784997832, 16.78090020880953, 32.07847495342127, 178.99189545279626, 44.92966461777452, 23.45451417616115, 58.79832250775037, 23.632631143269034, 16.939889802320693, 33.40299733851083, 11.62938633494926, 52.46556253982603, 18.76309381705689, 16.303720259670435, 42.537718160889895, 11.054136255213649, 44.085714814498, 17.700110717510825, 4.499216730927034, 7.6448577067821315, 7.949754087553164, 5.071530816699327, 64.78255423184011, 27.277560205054925, 63.937466151178164, 44.39732802171785, 33.9167304441014, 21.220875290782317, 109.5831987950925, 14.556955218755334, 32.75191934835032, 42.51444633043878, 14.138862222830939, 20.464561169757047, 8.928158130701533, 11.474858327747315, 11.634518493596111, 28.224377760381604, 10.853030329099235, 10.148504711236946, 16.075355256084723, 6.181873862244941, 4.676044384751699, 34.99811009980367, 2.7709679372634914, 3.0895813570009234, 2.2548085559224704, 8.99307373253898, 9.495033142553053, 4.692174197238141, 2.269638986348686, 1.3839416152641193, 2.355591154782084, 38.51921714456775, 24.78485192086777, 22.21064803327651, 19.43388048754093, 24.63868098380352, 35.12328764211422, 65.57560468478002, 24.5512705927549, 21.406728796604547, 19.395603718936016, 16.35821478633585, 35.21668871391853, 6.807438539964483, 19.48794052455021, 4.5225004458036375, 5.106201086534388, 5.121853413383134, 5.93589782088819, 27.609943175782885, 2.7552084160286006, 0.9395127734410462, 2.431960778852091, 2.76147248434531, 1.0965695346403461, 0.7964800933966206, 1.7200399077991135, 0.8330086039793245, 0.6243433517248937, 0.9129732628404593, 0.581463077542421, 1.8301941777097501, 2.6209899747653798, 1.708668386711734], \"Total\": [87.0, 156.0, 66.0, 67.0, 40.0, 161.0, 45.0, 51.0, 26.0, 28.0, 96.0, 35.0, 25.0, 40.0, 22.0, 33.0, 28.0, 60.0, 31.0, 72.0, 35.0, 86.0, 27.0, 41.0, 37.0, 37.0, 32.0, 37.0, 54.0, 25.0, 37.022947398987256, 41.90713207266581, 37.030306687385796, 32.15872191898515, 25.336813047698083, 72.12699312716516, 161.73981057128475, 27.296665208874778, 37.182026174011135, 32.17264984803721, 20.491380919514068, 41.015557231694814, 241.59994872838283, 63.436980652711334, 34.13690667251181, 89.78417275247728, 36.100158240844465, 26.340153737558666, 54.631377364166696, 20.691633430836212, 96.67532498628354, 35.62099678568886, 31.239062575897993, 86.88235866903844, 31.833681589413786, 156.2899035843559, 87.96788959952899, 23.578672395486006, 45.037784335245036, 60.1896139604537, 40.08483079544107, 66.47723333233381, 28.359363728009015, 67.43677311657291, 51.00095718637172, 40.08483079544107, 27.518000049876324, 156.2899035843559, 23.578672395486006, 60.1896139604537, 86.88235866903844, 31.239062575897993, 54.631377364166696, 26.340153737558666, 33.887000181807394, 36.100158240844465, 89.78417275247728, 35.940655747589844, 34.13690667251181, 63.436980652711334, 41.015557231694814, 32.17264984803721, 241.59994872838283, 20.491380919514068, 27.296665208874778, 20.691633430836212, 96.67532498628354, 161.73981057128475, 87.96788959952899, 45.037784335245036, 31.833681589413786, 72.12699312716516, 40.28054878612748, 26.17433550897526, 25.112190473120105, 22.093683244840445, 28.1169130384953, 45.037784335245036, 87.96788959952899, 35.940655747589844, 33.887000181807394, 31.833681589413786, 35.62099678568886, 96.67532498628354, 20.691633430836212, 60.1896139604537, 23.578672395486006, 27.518000049876324, 37.182026174011135, 51.00095718637172, 241.59994872838283, 41.015557231694814, 20.491380919514068, 63.436980652711334, 89.78417275247728, 40.08483079544107, 31.239062575897993, 72.12699312716516, 36.100158240844465, 28.359363728009015, 41.90713207266581, 27.296665208874778, 86.88235866903844, 156.2899035843559, 161.73981057128475], \"Category\": [\"Default\", \"Default\", \"Default\", \"Default\", \"Default\", \"Default\", \"Default\", \"Default\", \"Default\", \"Default\", \"Default\", \"Default\", \"Default\", \"Default\", \"Default\", \"Default\", \"Default\", \"Default\", \"Default\", \"Default\", \"Default\", \"Default\", \"Default\", \"Default\", \"Default\", \"Default\", \"Default\", \"Default\", \"Default\", \"Default\", \"Topic1\", \"Topic1\", \"Topic1\", \"Topic1\", \"Topic1\", \"Topic1\", \"Topic1\", \"Topic1\", \"Topic1\", \"Topic1\", \"Topic1\", \"Topic1\", \"Topic1\", \"Topic1\", \"Topic1\", \"Topic1\", \"Topic1\", \"Topic1\", \"Topic1\", \"Topic1\", \"Topic1\", \"Topic1\", \"Topic1\", \"Topic1\", \"Topic1\", \"Topic1\", \"Topic1\", \"Topic1\", \"Topic1\", \"Topic1\", \"Topic1\", \"Topic2\", \"Topic2\", \"Topic2\", \"Topic2\", \"Topic2\", \"Topic2\", \"Topic2\", \"Topic2\", \"Topic2\", \"Topic2\", \"Topic2\", \"Topic2\", \"Topic2\", \"Topic2\", \"Topic2\", \"Topic2\", \"Topic2\", \"Topic2\", \"Topic2\", \"Topic2\", \"Topic2\", \"Topic2\", \"Topic2\", \"Topic2\", \"Topic2\", \"Topic2\", \"Topic2\", \"Topic2\", \"Topic2\", \"Topic2\", \"Topic2\", \"Topic3\", \"Topic3\", \"Topic3\", \"Topic3\", \"Topic3\", \"Topic3\", \"Topic3\", \"Topic3\", \"Topic3\", \"Topic3\", \"Topic3\", \"Topic3\", \"Topic3\", \"Topic3\", \"Topic3\", \"Topic3\", \"Topic3\", \"Topic3\", \"Topic3\", \"Topic3\", \"Topic3\", \"Topic3\", \"Topic3\", \"Topic3\", \"Topic3\", \"Topic3\", \"Topic3\", \"Topic3\", \"Topic3\", \"Topic3\", \"Topic3\", \"Topic3\", \"Topic3\"], \"logprob\": [30.0, 29.0, 28.0, 27.0, 26.0, 25.0, 24.0, 23.0, 22.0, 21.0, 20.0, 19.0, 18.0, 17.0, 16.0, 15.0, 14.0, 13.0, 12.0, 11.0, 10.0, 9.0, 8.0, 7.0, 6.0, 5.0, 4.0, 3.0, 2.0, 1.0, -3.4777, -3.3588, -3.489, -3.6311, -3.8741, -2.8281, -2.0342, -3.886, -3.6013, -3.7572, -4.2281, -3.5802, -1.861, -3.2433, -3.8933, -2.9742, -3.8857, -4.2187, -3.5397, -4.5948, -3.0882, -4.1165, -4.257, -3.298, -4.6456, -3.2622, -4.1748, -5.5445, -5.0143, -4.9752, -5.4247, -2.3508, -3.2158, -2.364, -2.7287, -2.9979, -3.4669, -1.8252, -3.8438, -3.0329, -2.772, -3.8729, -3.5032, -4.3326, -4.0817, -4.0679, -3.1817, -4.1374, -4.2045, -3.7446, -4.7002, -4.9794, -2.9666, -5.5027, -5.3938, -5.7088, -4.3254, -4.2711, -4.976, -5.7022, -6.1969, -5.6651, -2.4563, -2.8972, -3.0069, -3.1404, -2.9031, -2.5486, -1.9242, -2.9067, -3.0437, -3.1424, -3.3127, -2.5459, -4.1894, -3.1377, -4.5984, -4.477, -4.4739, -4.3264, -2.7893, -5.094, -6.1698, -5.2188, -5.0917, -6.0153, -6.335, -5.5651, -6.2902, -6.5785, -6.1985, -6.6497, -5.503, -5.1439, -5.5717], \"loglift\": [30.0, 29.0, 28.0, 27.0, 26.0, 25.0, 24.0, 23.0, 22.0, 21.0, 20.0, 19.0, 18.0, 17.0, 16.0, 15.0, 14.0, 13.0, 12.0, 11.0, 10.0, 9.0, 8.0, 7.0, 6.0, 5.0, 4.0, 3.0, 2.0, 1.0, 0.6427, 0.6377, 0.6312, 0.6302, 0.6256, 0.6254, 0.6118, 0.5391, 0.5148, 0.5037, 0.4838, 0.4378, 0.3836, 0.3386, 0.3083, 0.2603, 0.2599, 0.2421, 0.1916, 0.1074, 0.0724, 0.0425, 0.0333, -0.0306, -0.3741, -0.582, -0.9198, -0.9729, -1.0899, -1.3408, -1.3838, 1.1843, 1.1712, 1.1568, 1.0714, 1.043, 0.9502, 0.855, 0.7278, 0.6015, 0.4954, 0.4173, 0.2282, 0.1282, 0.1272, 0.0778, 0.0529, 0.0126, -0.003, -0.1627, -0.6823, -0.7186, -0.7219, -0.7907, -0.9687, -1.0066, -1.1648, -1.6251, -1.721, -1.7778, -1.9255, -2.2116, 1.5798, 1.5699, 1.5017, 1.4962, 1.4924, 1.3758, 1.3307, 1.2434, 1.1652, 1.129, 0.8463, 0.6146, 0.5128, 0.4968, -0.0268, -0.0599, -0.3578, -0.5263, -0.5446, -1.076, -1.4579, -1.6369, -1.8572, -1.9743, -2.0447, -2.1116, -2.1445, -2.1915, -2.202, -2.2245, -2.2357, -2.4637, -2.9258]}, \"token.table\": {\"Topic\": [1, 2, 3, 1, 2, 3, 1, 2, 3, 1, 2, 3, 1, 2, 3, 2, 3, 1, 2, 3, 1, 2, 3, 1, 2, 1, 3, 1, 2, 3, 1, 2, 3, 1, 2, 1, 2, 3, 1, 2, 3, 1, 2, 3, 1, 2, 3, 1, 2, 3, 1, 2, 3, 1, 2, 3, 1, 2, 3, 1, 2, 3, 1, 2, 1, 2, 3, 1, 2, 3, 1, 2, 3, 1, 2, 3, 1, 2, 3, 1, 2, 3, 1, 2, 3, 1, 2, 3, 1, 2, 3, 1, 2, 3, 1, 2, 3, 1, 2, 3, 1, 2, 1, 2, 3, 1, 2, 3, 1, 2, 3, 1, 2, 3, 1, 2, 3, 1, 3, 1, 2, 3], \"Freq\": [0.6571314095932582, 0.31185897404425816, 0.03341346150474194, 0.13291329639123836, 0.5482673476138582, 0.3156690789291911, 0.12473546478256957, 0.8482011605214731, 0.024947092956513914, 0.28152810252551885, 0.7038202563137971, 0.019195097899467193, 0.10669734603840235, 0.035565782012800785, 0.8891445503200196, 0.9520664941200199, 0.03526172200444518, 0.9544914677206043, 0.023862286693015107, 0.023862286693015107, 0.03820536340481678, 0.03820536340481678, 0.9551340851204196, 0.6454024592787226, 0.34168365491226493, 0.090523611560651, 0.8599743098261846, 0.5378828569480149, 0.09309510985638719, 0.3620365383303946, 0.019607475137098332, 0.8627289060323265, 0.11764485082258999, 0.9472383111016586, 0.03946826296256911, 0.17762863156079978, 0.044407157890199944, 0.777125263078499, 0.8337361674407043, 0.0268947150787324, 0.134473575393662, 0.07964259438621193, 0.03982129719310597, 0.8760685382483312, 0.8296170993439879, 0.14640301753129198, 0.04880100584376399, 0.7093654133123796, 0.2522188136221794, 0.031527351702772426, 0.932872894500489, 0.031095763150016303, 0.031095763150016303, 0.6737575908868267, 0.2929380829942725, 0.029293808299427248, 0.9451717560827707, 0.027004907316650593, 0.027004907316650593, 0.7801917652668624, 0.1462859559875367, 0.07314297799376834, 0.9723699091819136, 0.027010275255053152, 0.6040484716324406, 0.36608998280753974, 0.018304499140376986, 0.024825878249811667, 0.024825878249811667, 0.968209251742655, 0.8792282799510999, 0.10990353499388748, 0.03663451166462916, 0.9427815724982604, 0.027728869779360604, 0.027728869779360604, 0.16964483550675974, 0.636168133150349, 0.21205604438344966, 0.9335982246216907, 0.055644927295332554, 0.01236553939896279, 0.029509841373827506, 0.32460825511210256, 0.6197066688503776, 0.7408941969654124, 0.14486758041223147, 0.11589406432978518, 0.5121792614975761, 0.44815685381037906, 0.032011203843598506, 0.49492210684334886, 0.49492210684334886, 0.023019632876434833, 0.20462011856763218, 0.056838921824342276, 0.7502737680813181, 0.839222138292324, 0.1554115070911711, 0.03108230141823422, 0.04448611434616132, 0.9490371060514414, 0.5799445481243016, 0.0966574246873836, 0.3383009864058426, 0.03633985021395093, 0.7631368544929696, 0.18169925106975468, 0.6648170304374429, 0.33240851521872145, 0.02770070960156012, 0.34554595795347853, 0.03141326890486169, 0.5968521091923721, 0.02782364370374793, 0.3060600807412272, 0.6955910925936982, 0.5333932712302275, 0.44917328103598103, 0.01504274395717986, 0.9777783572166909, 0.01504274395717986], \"Term\": [\"apt\", \"apt\", \"apt\", \"beauti\", \"beauti\", \"beauti\", \"bed\", \"bed\", \"bed\", \"bedroom\", \"bedroom\", \"bedroom\", \"bright\", \"bright\", \"bright\", \"bushwick\", \"bushwick\", \"central\", \"central\", \"central\", \"charm\", \"charm\", \"charm\", \"clean\", \"clean\", \"close\", \"close\", \"cozi\", \"cozi\", \"cozi\", \"east\", \"east\", \"east\", \"harlem\", \"harlem\", \"heart\", \"heart\", \"heart\", \"home\", \"home\", \"home\", \"hous\", \"hous\", \"hous\", \"huge\", \"huge\", \"huge\", \"larg\", \"larg\", \"larg\", \"locat\", \"locat\", \"locat\", \"loft\", \"loft\", \"loft\", \"luxuri\", \"luxuri\", \"luxuri\", \"min\", \"min\", \"min\", \"modern\", \"modern\", \"near\", \"near\", \"near\", \"new\", \"new\", \"new\", \"one\", \"one\", \"one\", \"park\", \"park\", \"park\", \"prime\", \"prime\", \"prime\", \"privat\", \"privat\", \"privat\", \"quiet\", \"quiet\", \"quiet\", \"room\", \"room\", \"room\", \"side\", \"side\", \"side\", \"spaciou\", \"spaciou\", \"spaciou\", \"studio\", \"studio\", \"studio\", \"subway\", \"subway\", \"subway\", \"sunni\", \"sunni\", \"time\", \"time\", \"time\", \"train\", \"train\", \"train\", \"upper\", \"upper\", \"upper\", \"view\", \"view\", \"view\", \"villag\", \"villag\", \"villag\", \"west\", \"west\", \"williamsburg\", \"williamsburg\", \"williamsburg\"]}, \"R\": 30, \"lambda.step\": 0.01, \"plot.opts\": {\"xlab\": \"PC1\", \"ylab\": \"PC2\"}, \"topic.order\": [3, 1, 2]};\n",
       "\n",
       "function LDAvis_load_lib(url, callback){\n",
       "  var s = document.createElement('script');\n",
       "  s.src = url;\n",
       "  s.async = true;\n",
       "  s.onreadystatechange = s.onload = callback;\n",
       "  s.onerror = function(){console.warn(\"failed to load library \" + url);};\n",
       "  document.getElementsByTagName(\"head\")[0].appendChild(s);\n",
       "}\n",
       "\n",
       "if(typeof(LDAvis) !== \"undefined\"){\n",
       "   // already loaded: just create the visualization\n",
       "   !function(LDAvis){\n",
       "       new LDAvis(\"#\" + \"ldavis_el1697862662140325317005220\", ldavis_el1697862662140325317005220_data);\n",
       "   }(LDAvis);\n",
       "}else if(typeof define === \"function\" && define.amd){\n",
       "   // require.js is available: use it to load d3/LDAvis\n",
       "   require.config({paths: {d3: \"https://d3js.org/d3.v5\"}});\n",
       "   require([\"d3\"], function(d3){\n",
       "      window.d3 = d3;\n",
       "      LDAvis_load_lib(\"https://cdn.jsdelivr.net/gh/bmabey/pyLDAvis@3.4.0/pyLDAvis/js/ldavis.v3.0.0.js\", function(){\n",
       "        new LDAvis(\"#\" + \"ldavis_el1697862662140325317005220\", ldavis_el1697862662140325317005220_data);\n",
       "      });\n",
       "    });\n",
       "}else{\n",
       "    // require.js not available: dynamically load d3 & LDAvis\n",
       "    LDAvis_load_lib(\"https://d3js.org/d3.v5.js\", function(){\n",
       "         LDAvis_load_lib(\"https://cdn.jsdelivr.net/gh/bmabey/pyLDAvis@3.4.0/pyLDAvis/js/ldavis.v3.0.0.js\", function(){\n",
       "                 new LDAvis(\"#\" + \"ldavis_el1697862662140325317005220\", ldavis_el1697862662140325317005220_data);\n",
       "            })\n",
       "         });\n",
       "}\n",
       "</script>"
      ],
      "text/plain": [
       "<IPython.core.display.HTML object>"
      ]
     },
     "execution_count": 65,
     "metadata": {},
     "output_type": "execute_result"
    }
   ],
   "source": [
    "lda_display = gensimvis.prepare(ldamod, corpus_fromdict, text_raw_dict)\n",
    "pyLDAvis.display(lda_display)"
   ]
  },
  {
   "cell_type": "code",
   "execution_count": null,
   "metadata": {},
   "outputs": [],
   "source": [
    "# Hint: example code for preprocessing\n",
    "def processtext(row, colname):\n",
    "    \n",
    "    string_of_col = str(row[colname])\n",
    "    try:\n",
    "        processed_string = \" \".join([porter.stem(i.lower()) \n",
    "                        for i in wordpunct_tokenize(string_of_col) if \n",
    "                        i.lower().isalpha() and len(i) >=3]) #and i not in punctlist]) # optional: remove punctuation too \n",
    "        return(processed_string)\n",
    "    except:\n",
    "        processed_string = \"\" # to handle data errors where not actually text\n",
    "        return(processed_string)\n",
    "\n",
    "# ab_small['text_preprocess'] = ab_small.apply(processtext,\n",
    "#                             axis = 1,\n",
    "#                             args = [\"name_lower\"])\n",
    "#\n",
    "# ab_small = ab_small[ab_small.text_preprocess != \"\"].copy()\n",
    "#\n",
    "# ab_small.head()"
   ]
  },
  {
   "cell_type": "code",
   "execution_count": null,
   "metadata": {},
   "outputs": [],
   "source": []
  }
 ],
 "metadata": {
  "kernelspec": {
   "display_name": "Python 3 (ipykernel)",
   "language": "python",
   "name": "python3"
  },
  "language_info": {
   "codemirror_mode": {
    "name": "ipython",
    "version": 3
   },
   "file_extension": ".py",
   "mimetype": "text/x-python",
   "name": "python",
   "nbconvert_exporter": "python",
   "pygments_lexer": "ipython3",
   "version": "3.11.7"
  }
 },
 "nbformat": 4,
 "nbformat_minor": 4
}
